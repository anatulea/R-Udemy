{
 "cells": [
  {
   "cell_type": "markdown",
   "id": "revolutionary-rebel",
   "metadata": {},
   "source": [
    "# Overview of Data Frame Operations"
   ]
  },
  {
   "cell_type": "markdown",
   "id": "celtic-celtic",
   "metadata": {},
   "source": [
    "### - Creating Data Frames\n"
   ]
  },
  {
   "cell_type": "code",
   "execution_count": 1,
   "id": "worldwide-consciousness",
   "metadata": {},
   "outputs": [],
   "source": [
    "empty <- data.frame() # empty data frame\n",
    "\n",
    "c1 <- 1:10 # vector of integers\n",
    "\n",
    "c2 <- letters[1:10] # vector of strings\n",
    "\n",
    "df <- data.frame(col.name.1=c1,col.name.2=c2)"
   ]
  },
  {
   "cell_type": "code",
   "execution_count": 2,
   "id": "primary-lobby",
   "metadata": {},
   "outputs": [
    {
     "data": {
      "text/html": [
       "<table>\n",
       "<thead><tr><th scope=col>col.name.1</th><th scope=col>col.name.2</th></tr></thead>\n",
       "<tbody>\n",
       "\t<tr><td> 1</td><td>a </td></tr>\n",
       "\t<tr><td> 2</td><td>b </td></tr>\n",
       "\t<tr><td> 3</td><td>c </td></tr>\n",
       "\t<tr><td> 4</td><td>d </td></tr>\n",
       "\t<tr><td> 5</td><td>e </td></tr>\n",
       "\t<tr><td> 6</td><td>f </td></tr>\n",
       "\t<tr><td> 7</td><td>g </td></tr>\n",
       "\t<tr><td> 8</td><td>h </td></tr>\n",
       "\t<tr><td> 9</td><td>i </td></tr>\n",
       "\t<tr><td>10</td><td>j </td></tr>\n",
       "</tbody>\n",
       "</table>\n"
      ],
      "text/latex": [
       "\\begin{tabular}{r|ll}\n",
       " col.name.1 & col.name.2\\\\\n",
       "\\hline\n",
       "\t  1 & a \\\\\n",
       "\t  2 & b \\\\\n",
       "\t  3 & c \\\\\n",
       "\t  4 & d \\\\\n",
       "\t  5 & e \\\\\n",
       "\t  6 & f \\\\\n",
       "\t  7 & g \\\\\n",
       "\t  8 & h \\\\\n",
       "\t  9 & i \\\\\n",
       "\t 10 & j \\\\\n",
       "\\end{tabular}\n"
      ],
      "text/markdown": [
       "\n",
       "| col.name.1 | col.name.2 |\n",
       "|---|---|\n",
       "|  1 | a  |\n",
       "|  2 | b  |\n",
       "|  3 | c  |\n",
       "|  4 | d  |\n",
       "|  5 | e  |\n",
       "|  6 | f  |\n",
       "|  7 | g  |\n",
       "|  8 | h  |\n",
       "|  9 | i  |\n",
       "| 10 | j  |\n",
       "\n"
      ],
      "text/plain": [
       "   col.name.1 col.name.2\n",
       "1   1         a         \n",
       "2   2         b         \n",
       "3   3         c         \n",
       "4   4         d         \n",
       "5   5         e         \n",
       "6   6         f         \n",
       "7   7         g         \n",
       "8   8         h         \n",
       "9   9         i         \n",
       "10 10         j         "
      ]
     },
     "metadata": {},
     "output_type": "display_data"
    }
   ],
   "source": [
    "df\n"
   ]
  },
  {
   "cell_type": "markdown",
   "id": "widespread-nature",
   "metadata": {},
   "source": [
    "## Importing and Exporting Data"
   ]
  },
  {
   "cell_type": "code",
   "execution_count": null,
   "id": "peripheral-mumbai",
   "metadata": {},
   "outputs": [],
   "source": [
    "d2 <- read.csv('some.file.name.csv')\n",
    "\n",
    "# For Excel Files\n",
    "# Load the readxl package\n",
    "library(readxl)\n",
    "# Call info from the sheets using read.excel\n",
    "df <- read_excel('Sample-Sales-Data.xlsx',sheet='Sheet1')\n",
    "\n",
    "# Output to csv\n",
    "write.csv(df, file='some.file.csv')"
   ]
  },
  {
   "cell_type": "markdown",
   "id": "significant-theater",
   "metadata": {},
   "source": [
    "## Getting Information about Data Frame"
   ]
  },
  {
   "cell_type": "code",
   "execution_count": 3,
   "id": "solar-short",
   "metadata": {},
   "outputs": [
    {
     "data": {
      "text/html": [
       "10"
      ],
      "text/latex": [
       "10"
      ],
      "text/markdown": [
       "10"
      ],
      "text/plain": [
       "[1] 10"
      ]
     },
     "metadata": {},
     "output_type": "display_data"
    },
    {
     "data": {
      "text/html": [
       "2"
      ],
      "text/latex": [
       "2"
      ],
      "text/markdown": [
       "2"
      ],
      "text/plain": [
       "[1] 2"
      ]
     },
     "metadata": {},
     "output_type": "display_data"
    }
   ],
   "source": [
    "# Row and columns counts\n",
    "nrow(df)\n",
    "ncol(df)"
   ]
  },
  {
   "cell_type": "code",
   "execution_count": 4,
   "id": "brave-command",
   "metadata": {},
   "outputs": [
    {
     "data": {
      "text/html": [
       "<ol class=list-inline>\n",
       "\t<li>'col.name.1'</li>\n",
       "\t<li>'col.name.2'</li>\n",
       "</ol>\n"
      ],
      "text/latex": [
       "\\begin{enumerate*}\n",
       "\\item 'col.name.1'\n",
       "\\item 'col.name.2'\n",
       "\\end{enumerate*}\n"
      ],
      "text/markdown": [
       "1. 'col.name.1'\n",
       "2. 'col.name.2'\n",
       "\n",
       "\n"
      ],
      "text/plain": [
       "[1] \"col.name.1\" \"col.name.2\""
      ]
     },
     "metadata": {},
     "output_type": "display_data"
    }
   ],
   "source": [
    "# Column Names\n",
    "colnames(df)"
   ]
  },
  {
   "cell_type": "code",
   "execution_count": 5,
   "id": "agreed-reporter",
   "metadata": {},
   "outputs": [
    {
     "data": {
      "text/html": [
       "<ol class=list-inline>\n",
       "\t<li>'1'</li>\n",
       "\t<li>'2'</li>\n",
       "\t<li>'3'</li>\n",
       "\t<li>'4'</li>\n",
       "\t<li>'5'</li>\n",
       "\t<li>'6'</li>\n",
       "\t<li>'7'</li>\n",
       "\t<li>'8'</li>\n",
       "\t<li>'9'</li>\n",
       "\t<li>'10'</li>\n",
       "</ol>\n"
      ],
      "text/latex": [
       "\\begin{enumerate*}\n",
       "\\item '1'\n",
       "\\item '2'\n",
       "\\item '3'\n",
       "\\item '4'\n",
       "\\item '5'\n",
       "\\item '6'\n",
       "\\item '7'\n",
       "\\item '8'\n",
       "\\item '9'\n",
       "\\item '10'\n",
       "\\end{enumerate*}\n"
      ],
      "text/markdown": [
       "1. '1'\n",
       "2. '2'\n",
       "3. '3'\n",
       "4. '4'\n",
       "5. '5'\n",
       "6. '6'\n",
       "7. '7'\n",
       "8. '8'\n",
       "9. '9'\n",
       "10. '10'\n",
       "\n",
       "\n"
      ],
      "text/plain": [
       " [1] \"1\"  \"2\"  \"3\"  \"4\"  \"5\"  \"6\"  \"7\"  \"8\"  \"9\"  \"10\""
      ]
     },
     "metadata": {},
     "output_type": "display_data"
    }
   ],
   "source": [
    "# Row names (may just return index)\n",
    "rownames(df)"
   ]
  },
  {
   "cell_type": "markdown",
   "id": "unnecessary-logic",
   "metadata": {},
   "source": [
    "## Referencing Cells"
   ]
  },
  {
   "cell_type": "code",
   "execution_count": 6,
   "id": "excellent-findings",
   "metadata": {},
   "outputs": [],
   "source": [
    "# You can think of the basics as using two sets of brackets for a single cell, and a single set of brackets for multiple cells. \n",
    "vec <- df[[5, 2]] # get cell by [[row,col]] num\n",
    "\n",
    "newdf <- df[1:5, 1:2] # get multiplt cells in new df\n",
    "\n",
    "df[[2, 'col.name.1']] <- 99999 # reassign a single cell"
   ]
  },
  {
   "cell_type": "code",
   "execution_count": 7,
   "id": "encouraging-intent",
   "metadata": {},
   "outputs": [
    {
     "data": {
      "text/html": [
       "<table>\n",
       "<thead><tr><th scope=col>col.name.1</th><th scope=col>col.name.2</th></tr></thead>\n",
       "<tbody>\n",
       "\t<tr><td>    1</td><td>a    </td></tr>\n",
       "\t<tr><td>99999</td><td>b    </td></tr>\n",
       "\t<tr><td>    3</td><td>c    </td></tr>\n",
       "\t<tr><td>    4</td><td>d    </td></tr>\n",
       "\t<tr><td>    5</td><td>e    </td></tr>\n",
       "\t<tr><td>    6</td><td>f    </td></tr>\n",
       "\t<tr><td>    7</td><td>g    </td></tr>\n",
       "\t<tr><td>    8</td><td>h    </td></tr>\n",
       "\t<tr><td>    9</td><td>i    </td></tr>\n",
       "\t<tr><td>   10</td><td>j    </td></tr>\n",
       "</tbody>\n",
       "</table>\n"
      ],
      "text/latex": [
       "\\begin{tabular}{r|ll}\n",
       " col.name.1 & col.name.2\\\\\n",
       "\\hline\n",
       "\t     1 & a    \\\\\n",
       "\t 99999 & b    \\\\\n",
       "\t     3 & c    \\\\\n",
       "\t     4 & d    \\\\\n",
       "\t     5 & e    \\\\\n",
       "\t     6 & f    \\\\\n",
       "\t     7 & g    \\\\\n",
       "\t     8 & h    \\\\\n",
       "\t     9 & i    \\\\\n",
       "\t    10 & j    \\\\\n",
       "\\end{tabular}\n"
      ],
      "text/markdown": [
       "\n",
       "| col.name.1 | col.name.2 |\n",
       "|---|---|\n",
       "|     1 | a     |\n",
       "| 99999 | b     |\n",
       "|     3 | c     |\n",
       "|     4 | d     |\n",
       "|     5 | e     |\n",
       "|     6 | f     |\n",
       "|     7 | g     |\n",
       "|     8 | h     |\n",
       "|     9 | i     |\n",
       "|    10 | j     |\n",
       "\n"
      ],
      "text/plain": [
       "   col.name.1 col.name.2\n",
       "1      1      a         \n",
       "2  99999      b         \n",
       "3      3      c         \n",
       "4      4      d         \n",
       "5      5      e         \n",
       "6      6      f         \n",
       "7      7      g         \n",
       "8      8      h         \n",
       "9      9      i         \n",
       "10    10      j         "
      ]
     },
     "metadata": {},
     "output_type": "display_data"
    }
   ],
   "source": [
    "df"
   ]
  },
  {
   "cell_type": "markdown",
   "id": "diverse-costume",
   "metadata": {},
   "source": [
    "## Referencing Rows"
   ]
  },
  {
   "cell_type": "code",
   "execution_count": 8,
   "id": "olympic-distance",
   "metadata": {},
   "outputs": [
    {
     "data": {
      "text/html": [
       "<table>\n",
       "<thead><tr><th scope=col>col.name.1</th><th scope=col>col.name.2</th></tr></thead>\n",
       "<tbody>\n",
       "\t<tr><td>1</td><td>a</td></tr>\n",
       "</tbody>\n",
       "</table>\n"
      ],
      "text/latex": [
       "\\begin{tabular}{r|ll}\n",
       " col.name.1 & col.name.2\\\\\n",
       "\\hline\n",
       "\t 1 & a\\\\\n",
       "\\end{tabular}\n"
      ],
      "text/markdown": [
       "\n",
       "| col.name.1 | col.name.2 |\n",
       "|---|---|\n",
       "| 1 | a |\n",
       "\n"
      ],
      "text/plain": [
       "  col.name.1 col.name.2\n",
       "1 1          a         "
      ]
     },
     "metadata": {},
     "output_type": "display_data"
    }
   ],
   "source": [
    "# Usually you'll use the [row,] format\n",
    "rowdf <- df[1, ]\n",
    "rowdf"
   ]
  },
  {
   "cell_type": "code",
   "execution_count": 9,
   "id": "charitable-question",
   "metadata": {},
   "outputs": [
    {
     "data": {
      "text/html": [
       "<ol class=list-inline>\n",
       "\t<li>1</li>\n",
       "\t<li>1</li>\n",
       "</ol>\n"
      ],
      "text/latex": [
       "\\begin{enumerate*}\n",
       "\\item 1\n",
       "\\item 1\n",
       "\\end{enumerate*}\n"
      ],
      "text/markdown": [
       "1. 1\n",
       "2. 1\n",
       "\n",
       "\n"
      ],
      "text/plain": [
       "[1] 1 1"
      ]
     },
     "metadata": {},
     "output_type": "display_data"
    }
   ],
   "source": [
    "# to get a row as a vector, use following\n",
    "vrow <- as.numeric(as.vector(df[1,]))\n",
    "vrow"
   ]
  },
  {
   "cell_type": "markdown",
   "id": "beginning-halloween",
   "metadata": {},
   "source": [
    "## Referencing Columns"
   ]
  },
  {
   "cell_type": "code",
   "execution_count": 10,
   "id": "relative-fruit",
   "metadata": {},
   "outputs": [
    {
     "data": {
      "text/html": [
       "<table>\n",
       "<thead><tr><th></th><th scope=col>mpg</th><th scope=col>cyl</th><th scope=col>disp</th><th scope=col>hp</th><th scope=col>drat</th><th scope=col>wt</th><th scope=col>qsec</th><th scope=col>vs</th><th scope=col>am</th><th scope=col>gear</th><th scope=col>carb</th></tr></thead>\n",
       "<tbody>\n",
       "\t<tr><th scope=row>Mazda RX4</th><td>21.0 </td><td>6    </td><td>160  </td><td>110  </td><td>3.90 </td><td>2.620</td><td>16.46</td><td>0    </td><td>1    </td><td>4    </td><td>4    </td></tr>\n",
       "\t<tr><th scope=row>Mazda RX4 Wag</th><td>21.0 </td><td>6    </td><td>160  </td><td>110  </td><td>3.90 </td><td>2.875</td><td>17.02</td><td>0    </td><td>1    </td><td>4    </td><td>4    </td></tr>\n",
       "\t<tr><th scope=row>Datsun 710</th><td>22.8 </td><td>4    </td><td>108  </td><td> 93  </td><td>3.85 </td><td>2.320</td><td>18.61</td><td>1    </td><td>1    </td><td>4    </td><td>1    </td></tr>\n",
       "\t<tr><th scope=row>Hornet 4 Drive</th><td>21.4 </td><td>6    </td><td>258  </td><td>110  </td><td>3.08 </td><td>3.215</td><td>19.44</td><td>1    </td><td>0    </td><td>3    </td><td>1    </td></tr>\n",
       "\t<tr><th scope=row>Hornet Sportabout</th><td>18.7 </td><td>8    </td><td>360  </td><td>175  </td><td>3.15 </td><td>3.440</td><td>17.02</td><td>0    </td><td>0    </td><td>3    </td><td>2    </td></tr>\n",
       "\t<tr><th scope=row>Valiant</th><td>18.1 </td><td>6    </td><td>225  </td><td>105  </td><td>2.76 </td><td>3.460</td><td>20.22</td><td>1    </td><td>0    </td><td>3    </td><td>1    </td></tr>\n",
       "</tbody>\n",
       "</table>\n"
      ],
      "text/latex": [
       "\\begin{tabular}{r|lllllllllll}\n",
       "  & mpg & cyl & disp & hp & drat & wt & qsec & vs & am & gear & carb\\\\\n",
       "\\hline\n",
       "\tMazda RX4 & 21.0  & 6     & 160   & 110   & 3.90  & 2.620 & 16.46 & 0     & 1     & 4     & 4    \\\\\n",
       "\tMazda RX4 Wag & 21.0  & 6     & 160   & 110   & 3.90  & 2.875 & 17.02 & 0     & 1     & 4     & 4    \\\\\n",
       "\tDatsun 710 & 22.8  & 4     & 108   &  93   & 3.85  & 2.320 & 18.61 & 1     & 1     & 4     & 1    \\\\\n",
       "\tHornet 4 Drive & 21.4  & 6     & 258   & 110   & 3.08  & 3.215 & 19.44 & 1     & 0     & 3     & 1    \\\\\n",
       "\tHornet Sportabout & 18.7  & 8     & 360   & 175   & 3.15  & 3.440 & 17.02 & 0     & 0     & 3     & 2    \\\\\n",
       "\tValiant & 18.1  & 6     & 225   & 105   & 2.76  & 3.460 & 20.22 & 1     & 0     & 3     & 1    \\\\\n",
       "\\end{tabular}\n"
      ],
      "text/markdown": [
       "\n",
       "| <!--/--> | mpg | cyl | disp | hp | drat | wt | qsec | vs | am | gear | carb |\n",
       "|---|---|---|---|---|---|---|---|---|---|---|---|\n",
       "| Mazda RX4 | 21.0  | 6     | 160   | 110   | 3.90  | 2.620 | 16.46 | 0     | 1     | 4     | 4     |\n",
       "| Mazda RX4 Wag | 21.0  | 6     | 160   | 110   | 3.90  | 2.875 | 17.02 | 0     | 1     | 4     | 4     |\n",
       "| Datsun 710 | 22.8  | 4     | 108   |  93   | 3.85  | 2.320 | 18.61 | 1     | 1     | 4     | 1     |\n",
       "| Hornet 4 Drive | 21.4  | 6     | 258   | 110   | 3.08  | 3.215 | 19.44 | 1     | 0     | 3     | 1     |\n",
       "| Hornet Sportabout | 18.7  | 8     | 360   | 175   | 3.15  | 3.440 | 17.02 | 0     | 0     | 3     | 2     |\n",
       "| Valiant | 18.1  | 6     | 225   | 105   | 2.76  | 3.460 | 20.22 | 1     | 0     | 3     | 1     |\n",
       "\n"
      ],
      "text/plain": [
       "                  mpg  cyl disp hp  drat wt    qsec  vs am gear carb\n",
       "Mazda RX4         21.0 6   160  110 3.90 2.620 16.46 0  1  4    4   \n",
       "Mazda RX4 Wag     21.0 6   160  110 3.90 2.875 17.02 0  1  4    4   \n",
       "Datsun 710        22.8 4   108   93 3.85 2.320 18.61 1  1  4    1   \n",
       "Hornet 4 Drive    21.4 6   258  110 3.08 3.215 19.44 1  0  3    1   \n",
       "Hornet Sportabout 18.7 8   360  175 3.15 3.440 17.02 0  0  3    2   \n",
       "Valiant           18.1 6   225  105 2.76 3.460 20.22 1  0  3    1   "
      ]
     },
     "metadata": {},
     "output_type": "display_data"
    }
   ],
   "source": [
    "# Most column references return a vector:\n",
    "cars <- mtcars\n",
    "head(cars)"
   ]
  },
  {
   "cell_type": "code",
   "execution_count": 11,
   "id": "liked-jesus",
   "metadata": {},
   "outputs": [
    {
     "data": {
      "text/html": [
       "<ol class=list-inline>\n",
       "\t<li>21</li>\n",
       "\t<li>21</li>\n",
       "\t<li>22.8</li>\n",
       "\t<li>21.4</li>\n",
       "\t<li>18.7</li>\n",
       "\t<li>18.1</li>\n",
       "\t<li>14.3</li>\n",
       "\t<li>24.4</li>\n",
       "\t<li>22.8</li>\n",
       "\t<li>19.2</li>\n",
       "\t<li>17.8</li>\n",
       "\t<li>16.4</li>\n",
       "\t<li>17.3</li>\n",
       "\t<li>15.2</li>\n",
       "\t<li>10.4</li>\n",
       "\t<li>10.4</li>\n",
       "\t<li>14.7</li>\n",
       "\t<li>32.4</li>\n",
       "\t<li>30.4</li>\n",
       "\t<li>33.9</li>\n",
       "\t<li>21.5</li>\n",
       "\t<li>15.5</li>\n",
       "\t<li>15.2</li>\n",
       "\t<li>13.3</li>\n",
       "\t<li>19.2</li>\n",
       "\t<li>27.3</li>\n",
       "\t<li>26</li>\n",
       "\t<li>30.4</li>\n",
       "\t<li>15.8</li>\n",
       "\t<li>19.7</li>\n",
       "\t<li>15</li>\n",
       "\t<li>21.4</li>\n",
       "</ol>\n"
      ],
      "text/latex": [
       "\\begin{enumerate*}\n",
       "\\item 21\n",
       "\\item 21\n",
       "\\item 22.8\n",
       "\\item 21.4\n",
       "\\item 18.7\n",
       "\\item 18.1\n",
       "\\item 14.3\n",
       "\\item 24.4\n",
       "\\item 22.8\n",
       "\\item 19.2\n",
       "\\item 17.8\n",
       "\\item 16.4\n",
       "\\item 17.3\n",
       "\\item 15.2\n",
       "\\item 10.4\n",
       "\\item 10.4\n",
       "\\item 14.7\n",
       "\\item 32.4\n",
       "\\item 30.4\n",
       "\\item 33.9\n",
       "\\item 21.5\n",
       "\\item 15.5\n",
       "\\item 15.2\n",
       "\\item 13.3\n",
       "\\item 19.2\n",
       "\\item 27.3\n",
       "\\item 26\n",
       "\\item 30.4\n",
       "\\item 15.8\n",
       "\\item 19.7\n",
       "\\item 15\n",
       "\\item 21.4\n",
       "\\end{enumerate*}\n"
      ],
      "text/markdown": [
       "1. 21\n",
       "2. 21\n",
       "3. 22.8\n",
       "4. 21.4\n",
       "5. 18.7\n",
       "6. 18.1\n",
       "7. 14.3\n",
       "8. 24.4\n",
       "9. 22.8\n",
       "10. 19.2\n",
       "11. 17.8\n",
       "12. 16.4\n",
       "13. 17.3\n",
       "14. 15.2\n",
       "15. 10.4\n",
       "16. 10.4\n",
       "17. 14.7\n",
       "18. 32.4\n",
       "19. 30.4\n",
       "20. 33.9\n",
       "21. 21.5\n",
       "22. 15.5\n",
       "23. 15.2\n",
       "24. 13.3\n",
       "25. 19.2\n",
       "26. 27.3\n",
       "27. 26\n",
       "28. 30.4\n",
       "29. 15.8\n",
       "30. 19.7\n",
       "31. 15\n",
       "32. 21.4\n",
       "\n",
       "\n"
      ],
      "text/plain": [
       " [1] 21.0 21.0 22.8 21.4 18.7 18.1 14.3 24.4 22.8 19.2 17.8 16.4 17.3 15.2 10.4\n",
       "[16] 10.4 14.7 32.4 30.4 33.9 21.5 15.5 15.2 13.3 19.2 27.3 26.0 30.4 15.8 19.7\n",
       "[31] 15.0 21.4"
      ]
     },
     "metadata": {},
     "output_type": "display_data"
    },
    {
     "data": {
      "text/html": [
       "<ol class=list-inline>\n",
       "\t<li>21</li>\n",
       "\t<li>21</li>\n",
       "\t<li>22.8</li>\n",
       "\t<li>21.4</li>\n",
       "\t<li>18.7</li>\n",
       "\t<li>18.1</li>\n",
       "\t<li>14.3</li>\n",
       "\t<li>24.4</li>\n",
       "\t<li>22.8</li>\n",
       "\t<li>19.2</li>\n",
       "\t<li>17.8</li>\n",
       "\t<li>16.4</li>\n",
       "\t<li>17.3</li>\n",
       "\t<li>15.2</li>\n",
       "\t<li>10.4</li>\n",
       "\t<li>10.4</li>\n",
       "\t<li>14.7</li>\n",
       "\t<li>32.4</li>\n",
       "\t<li>30.4</li>\n",
       "\t<li>33.9</li>\n",
       "\t<li>21.5</li>\n",
       "\t<li>15.5</li>\n",
       "\t<li>15.2</li>\n",
       "\t<li>13.3</li>\n",
       "\t<li>19.2</li>\n",
       "\t<li>27.3</li>\n",
       "\t<li>26</li>\n",
       "\t<li>30.4</li>\n",
       "\t<li>15.8</li>\n",
       "\t<li>19.7</li>\n",
       "\t<li>15</li>\n",
       "\t<li>21.4</li>\n",
       "</ol>\n"
      ],
      "text/latex": [
       "\\begin{enumerate*}\n",
       "\\item 21\n",
       "\\item 21\n",
       "\\item 22.8\n",
       "\\item 21.4\n",
       "\\item 18.7\n",
       "\\item 18.1\n",
       "\\item 14.3\n",
       "\\item 24.4\n",
       "\\item 22.8\n",
       "\\item 19.2\n",
       "\\item 17.8\n",
       "\\item 16.4\n",
       "\\item 17.3\n",
       "\\item 15.2\n",
       "\\item 10.4\n",
       "\\item 10.4\n",
       "\\item 14.7\n",
       "\\item 32.4\n",
       "\\item 30.4\n",
       "\\item 33.9\n",
       "\\item 21.5\n",
       "\\item 15.5\n",
       "\\item 15.2\n",
       "\\item 13.3\n",
       "\\item 19.2\n",
       "\\item 27.3\n",
       "\\item 26\n",
       "\\item 30.4\n",
       "\\item 15.8\n",
       "\\item 19.7\n",
       "\\item 15\n",
       "\\item 21.4\n",
       "\\end{enumerate*}\n"
      ],
      "text/markdown": [
       "1. 21\n",
       "2. 21\n",
       "3. 22.8\n",
       "4. 21.4\n",
       "5. 18.7\n",
       "6. 18.1\n",
       "7. 14.3\n",
       "8. 24.4\n",
       "9. 22.8\n",
       "10. 19.2\n",
       "11. 17.8\n",
       "12. 16.4\n",
       "13. 17.3\n",
       "14. 15.2\n",
       "15. 10.4\n",
       "16. 10.4\n",
       "17. 14.7\n",
       "18. 32.4\n",
       "19. 30.4\n",
       "20. 33.9\n",
       "21. 21.5\n",
       "22. 15.5\n",
       "23. 15.2\n",
       "24. 13.3\n",
       "25. 19.2\n",
       "26. 27.3\n",
       "27. 26\n",
       "28. 30.4\n",
       "29. 15.8\n",
       "30. 19.7\n",
       "31. 15\n",
       "32. 21.4\n",
       "\n",
       "\n"
      ],
      "text/plain": [
       " [1] 21.0 21.0 22.8 21.4 18.7 18.1 14.3 24.4 22.8 19.2 17.8 16.4 17.3 15.2 10.4\n",
       "[16] 10.4 14.7 32.4 30.4 33.9 21.5 15.5 15.2 13.3 19.2 27.3 26.0 30.4 15.8 19.7\n",
       "[31] 15.0 21.4"
      ]
     },
     "metadata": {},
     "output_type": "display_data"
    },
    {
     "data": {
      "text/html": [
       "<ol class=list-inline>\n",
       "\t<li>21</li>\n",
       "\t<li>21</li>\n",
       "\t<li>22.8</li>\n",
       "\t<li>21.4</li>\n",
       "\t<li>18.7</li>\n",
       "\t<li>18.1</li>\n",
       "\t<li>14.3</li>\n",
       "\t<li>24.4</li>\n",
       "\t<li>22.8</li>\n",
       "\t<li>19.2</li>\n",
       "\t<li>17.8</li>\n",
       "\t<li>16.4</li>\n",
       "\t<li>17.3</li>\n",
       "\t<li>15.2</li>\n",
       "\t<li>10.4</li>\n",
       "\t<li>10.4</li>\n",
       "\t<li>14.7</li>\n",
       "\t<li>32.4</li>\n",
       "\t<li>30.4</li>\n",
       "\t<li>33.9</li>\n",
       "\t<li>21.5</li>\n",
       "\t<li>15.5</li>\n",
       "\t<li>15.2</li>\n",
       "\t<li>13.3</li>\n",
       "\t<li>19.2</li>\n",
       "\t<li>27.3</li>\n",
       "\t<li>26</li>\n",
       "\t<li>30.4</li>\n",
       "\t<li>15.8</li>\n",
       "\t<li>19.7</li>\n",
       "\t<li>15</li>\n",
       "\t<li>21.4</li>\n",
       "</ol>\n"
      ],
      "text/latex": [
       "\\begin{enumerate*}\n",
       "\\item 21\n",
       "\\item 21\n",
       "\\item 22.8\n",
       "\\item 21.4\n",
       "\\item 18.7\n",
       "\\item 18.1\n",
       "\\item 14.3\n",
       "\\item 24.4\n",
       "\\item 22.8\n",
       "\\item 19.2\n",
       "\\item 17.8\n",
       "\\item 16.4\n",
       "\\item 17.3\n",
       "\\item 15.2\n",
       "\\item 10.4\n",
       "\\item 10.4\n",
       "\\item 14.7\n",
       "\\item 32.4\n",
       "\\item 30.4\n",
       "\\item 33.9\n",
       "\\item 21.5\n",
       "\\item 15.5\n",
       "\\item 15.2\n",
       "\\item 13.3\n",
       "\\item 19.2\n",
       "\\item 27.3\n",
       "\\item 26\n",
       "\\item 30.4\n",
       "\\item 15.8\n",
       "\\item 19.7\n",
       "\\item 15\n",
       "\\item 21.4\n",
       "\\end{enumerate*}\n"
      ],
      "text/markdown": [
       "1. 21\n",
       "2. 21\n",
       "3. 22.8\n",
       "4. 21.4\n",
       "5. 18.7\n",
       "6. 18.1\n",
       "7. 14.3\n",
       "8. 24.4\n",
       "9. 22.8\n",
       "10. 19.2\n",
       "11. 17.8\n",
       "12. 16.4\n",
       "13. 17.3\n",
       "14. 15.2\n",
       "15. 10.4\n",
       "16. 10.4\n",
       "17. 14.7\n",
       "18. 32.4\n",
       "19. 30.4\n",
       "20. 33.9\n",
       "21. 21.5\n",
       "22. 15.5\n",
       "23. 15.2\n",
       "24. 13.3\n",
       "25. 19.2\n",
       "26. 27.3\n",
       "27. 26\n",
       "28. 30.4\n",
       "29. 15.8\n",
       "30. 19.7\n",
       "31. 15\n",
       "32. 21.4\n",
       "\n",
       "\n"
      ],
      "text/plain": [
       " [1] 21.0 21.0 22.8 21.4 18.7 18.1 14.3 24.4 22.8 19.2 17.8 16.4 17.3 15.2 10.4\n",
       "[16] 10.4 14.7 32.4 30.4 33.9 21.5 15.5 15.2 13.3 19.2 27.3 26.0 30.4 15.8 19.7\n",
       "[31] 15.0 21.4"
      ]
     },
     "metadata": {},
     "output_type": "display_data"
    },
    {
     "data": {
      "text/html": [
       "<ol class=list-inline>\n",
       "\t<li>21</li>\n",
       "\t<li>21</li>\n",
       "\t<li>22.8</li>\n",
       "\t<li>21.4</li>\n",
       "\t<li>18.7</li>\n",
       "\t<li>18.1</li>\n",
       "\t<li>14.3</li>\n",
       "\t<li>24.4</li>\n",
       "\t<li>22.8</li>\n",
       "\t<li>19.2</li>\n",
       "\t<li>17.8</li>\n",
       "\t<li>16.4</li>\n",
       "\t<li>17.3</li>\n",
       "\t<li>15.2</li>\n",
       "\t<li>10.4</li>\n",
       "\t<li>10.4</li>\n",
       "\t<li>14.7</li>\n",
       "\t<li>32.4</li>\n",
       "\t<li>30.4</li>\n",
       "\t<li>33.9</li>\n",
       "\t<li>21.5</li>\n",
       "\t<li>15.5</li>\n",
       "\t<li>15.2</li>\n",
       "\t<li>13.3</li>\n",
       "\t<li>19.2</li>\n",
       "\t<li>27.3</li>\n",
       "\t<li>26</li>\n",
       "\t<li>30.4</li>\n",
       "\t<li>15.8</li>\n",
       "\t<li>19.7</li>\n",
       "\t<li>15</li>\n",
       "\t<li>21.4</li>\n",
       "</ol>\n"
      ],
      "text/latex": [
       "\\begin{enumerate*}\n",
       "\\item 21\n",
       "\\item 21\n",
       "\\item 22.8\n",
       "\\item 21.4\n",
       "\\item 18.7\n",
       "\\item 18.1\n",
       "\\item 14.3\n",
       "\\item 24.4\n",
       "\\item 22.8\n",
       "\\item 19.2\n",
       "\\item 17.8\n",
       "\\item 16.4\n",
       "\\item 17.3\n",
       "\\item 15.2\n",
       "\\item 10.4\n",
       "\\item 10.4\n",
       "\\item 14.7\n",
       "\\item 32.4\n",
       "\\item 30.4\n",
       "\\item 33.9\n",
       "\\item 21.5\n",
       "\\item 15.5\n",
       "\\item 15.2\n",
       "\\item 13.3\n",
       "\\item 19.2\n",
       "\\item 27.3\n",
       "\\item 26\n",
       "\\item 30.4\n",
       "\\item 15.8\n",
       "\\item 19.7\n",
       "\\item 15\n",
       "\\item 21.4\n",
       "\\end{enumerate*}\n"
      ],
      "text/markdown": [
       "1. 21\n",
       "2. 21\n",
       "3. 22.8\n",
       "4. 21.4\n",
       "5. 18.7\n",
       "6. 18.1\n",
       "7. 14.3\n",
       "8. 24.4\n",
       "9. 22.8\n",
       "10. 19.2\n",
       "11. 17.8\n",
       "12. 16.4\n",
       "13. 17.3\n",
       "14. 15.2\n",
       "15. 10.4\n",
       "16. 10.4\n",
       "17. 14.7\n",
       "18. 32.4\n",
       "19. 30.4\n",
       "20. 33.9\n",
       "21. 21.5\n",
       "22. 15.5\n",
       "23. 15.2\n",
       "24. 13.3\n",
       "25. 19.2\n",
       "26. 27.3\n",
       "27. 26\n",
       "28. 30.4\n",
       "29. 15.8\n",
       "30. 19.7\n",
       "31. 15\n",
       "32. 21.4\n",
       "\n",
       "\n"
      ],
      "text/plain": [
       " [1] 21.0 21.0 22.8 21.4 18.7 18.1 14.3 24.4 22.8 19.2 17.8 16.4 17.3 15.2 10.4\n",
       "[16] 10.4 14.7 32.4 30.4 33.9 21.5 15.5 15.2 13.3 19.2 27.3 26.0 30.4 15.8 19.7\n",
       "[31] 15.0 21.4"
      ]
     },
     "metadata": {},
     "output_type": "display_data"
    }
   ],
   "source": [
    "colv1 <- cars$mpg # returns a vector\n",
    "colv1\n",
    "\n",
    "colv2 <- cars[, 'mpg'] # returns vector\n",
    "colv2\n",
    "\n",
    "colv3<- cars[, 1] # a is int or string\n",
    "colv3\n",
    "\n",
    "colv4 <- cars[['mpg']] # returns a vector\n",
    "colv4"
   ]
  },
  {
   "cell_type": "code",
   "execution_count": 13,
   "id": "limiting-agenda",
   "metadata": {},
   "outputs": [
    {
     "data": {
      "text/html": [
       "<table>\n",
       "<thead><tr><th></th><th scope=col>mpg</th></tr></thead>\n",
       "<tbody>\n",
       "\t<tr><th scope=row>Mazda RX4</th><td>21.0</td></tr>\n",
       "\t<tr><th scope=row>Mazda RX4 Wag</th><td>21.0</td></tr>\n",
       "\t<tr><th scope=row>Datsun 710</th><td>22.8</td></tr>\n",
       "\t<tr><th scope=row>Hornet 4 Drive</th><td>21.4</td></tr>\n",
       "\t<tr><th scope=row>Hornet Sportabout</th><td>18.7</td></tr>\n",
       "\t<tr><th scope=row>Valiant</th><td>18.1</td></tr>\n",
       "</tbody>\n",
       "</table>\n"
      ],
      "text/latex": [
       "\\begin{tabular}{r|l}\n",
       "  & mpg\\\\\n",
       "\\hline\n",
       "\tMazda RX4 & 21.0\\\\\n",
       "\tMazda RX4 Wag & 21.0\\\\\n",
       "\tDatsun 710 & 22.8\\\\\n",
       "\tHornet 4 Drive & 21.4\\\\\n",
       "\tHornet Sportabout & 18.7\\\\\n",
       "\tValiant & 18.1\\\\\n",
       "\\end{tabular}\n"
      ],
      "text/markdown": [
       "\n",
       "| <!--/--> | mpg |\n",
       "|---|---|\n",
       "| Mazda RX4 | 21.0 |\n",
       "| Mazda RX4 Wag | 21.0 |\n",
       "| Datsun 710 | 22.8 |\n",
       "| Hornet 4 Drive | 21.4 |\n",
       "| Hornet Sportabout | 18.7 |\n",
       "| Valiant | 18.1 |\n",
       "\n"
      ],
      "text/plain": [
       "                  mpg \n",
       "Mazda RX4         21.0\n",
       "Mazda RX4 Wag     21.0\n",
       "Datsun 710        22.8\n",
       "Hornet 4 Drive    21.4\n",
       "Hornet Sportabout 18.7\n",
       "Valiant           18.1"
      ]
     },
     "metadata": {},
     "output_type": "display_data"
    },
    {
     "data": {
      "text/html": [
       "<table>\n",
       "<thead><tr><th></th><th scope=col>mpg</th></tr></thead>\n",
       "<tbody>\n",
       "\t<tr><th scope=row>Mazda RX4</th><td>21.0</td></tr>\n",
       "\t<tr><th scope=row>Mazda RX4 Wag</th><td>21.0</td></tr>\n",
       "\t<tr><th scope=row>Datsun 710</th><td>22.8</td></tr>\n",
       "\t<tr><th scope=row>Hornet 4 Drive</th><td>21.4</td></tr>\n",
       "\t<tr><th scope=row>Hornet Sportabout</th><td>18.7</td></tr>\n",
       "\t<tr><th scope=row>Valiant</th><td>18.1</td></tr>\n",
       "</tbody>\n",
       "</table>\n"
      ],
      "text/latex": [
       "\\begin{tabular}{r|l}\n",
       "  & mpg\\\\\n",
       "\\hline\n",
       "\tMazda RX4 & 21.0\\\\\n",
       "\tMazda RX4 Wag & 21.0\\\\\n",
       "\tDatsun 710 & 22.8\\\\\n",
       "\tHornet 4 Drive & 21.4\\\\\n",
       "\tHornet Sportabout & 18.7\\\\\n",
       "\tValiant & 18.1\\\\\n",
       "\\end{tabular}\n"
      ],
      "text/markdown": [
       "\n",
       "| <!--/--> | mpg |\n",
       "|---|---|\n",
       "| Mazda RX4 | 21.0 |\n",
       "| Mazda RX4 Wag | 21.0 |\n",
       "| Datsun 710 | 22.8 |\n",
       "| Hornet 4 Drive | 21.4 |\n",
       "| Hornet Sportabout | 18.7 |\n",
       "| Valiant | 18.1 |\n",
       "\n"
      ],
      "text/plain": [
       "                  mpg \n",
       "Mazda RX4         21.0\n",
       "Mazda RX4 Wag     21.0\n",
       "Datsun 710        22.8\n",
       "Hornet 4 Drive    21.4\n",
       "Hornet Sportabout 18.7\n",
       "Valiant           18.1"
      ]
     },
     "metadata": {},
     "output_type": "display_data"
    }
   ],
   "source": [
    "# Ways of Returning Data Frames\n",
    "mpgdf <- cars['mpg'] # returns 1 col df\n",
    "head(mpgdf)\n",
    "\n",
    "mpgdf2 <- cars[1] # returns 1 col df\n",
    "head(mpgdf2)"
   ]
  },
  {
   "cell_type": "markdown",
   "id": "alternate-trading",
   "metadata": {},
   "source": [
    "## Adding Rows"
   ]
  },
  {
   "cell_type": "code",
   "execution_count": 14,
   "id": "improved-bargain",
   "metadata": {},
   "outputs": [
    {
     "data": {
      "text/html": [
       "<table>\n",
       "<thead><tr><th scope=col>col.name.1</th><th scope=col>col.name.2</th></tr></thead>\n",
       "<tbody>\n",
       "\t<tr><td>2000</td><td>new </td></tr>\n",
       "</tbody>\n",
       "</table>\n"
      ],
      "text/latex": [
       "\\begin{tabular}{r|ll}\n",
       " col.name.1 & col.name.2\\\\\n",
       "\\hline\n",
       "\t 2000 & new \\\\\n",
       "\\end{tabular}\n"
      ],
      "text/markdown": [
       "\n",
       "| col.name.1 | col.name.2 |\n",
       "|---|---|\n",
       "| 2000 | new  |\n",
       "\n"
      ],
      "text/plain": [
       "  col.name.1 col.name.2\n",
       "1 2000       new       "
      ]
     },
     "metadata": {},
     "output_type": "display_data"
    }
   ],
   "source": [
    "# Both arguments are DFs)\n",
    "df2 <- data.frame(col.name.1=2000,col.name.2='new' )\n",
    "df2\n",
    "\n",
    "# use rbind to bind a new row!\n",
    "dfnew <- rbind(df,df2)"
   ]
  },
  {
   "cell_type": "code",
   "execution_count": 15,
   "id": "vietnamese-think",
   "metadata": {},
   "outputs": [
    {
     "data": {
      "text/html": [
       "<table>\n",
       "<thead><tr><th scope=col>col.name.1</th><th scope=col>col.name.2</th></tr></thead>\n",
       "<tbody>\n",
       "\t<tr><td>    1</td><td>a    </td></tr>\n",
       "\t<tr><td>99999</td><td>b    </td></tr>\n",
       "\t<tr><td>    3</td><td>c    </td></tr>\n",
       "\t<tr><td>    4</td><td>d    </td></tr>\n",
       "\t<tr><td>    5</td><td>e    </td></tr>\n",
       "\t<tr><td>    6</td><td>f    </td></tr>\n",
       "\t<tr><td>    7</td><td>g    </td></tr>\n",
       "\t<tr><td>    8</td><td>h    </td></tr>\n",
       "\t<tr><td>    9</td><td>i    </td></tr>\n",
       "\t<tr><td>   10</td><td>j    </td></tr>\n",
       "\t<tr><td> 2000</td><td>new  </td></tr>\n",
       "</tbody>\n",
       "</table>\n"
      ],
      "text/latex": [
       "\\begin{tabular}{r|ll}\n",
       " col.name.1 & col.name.2\\\\\n",
       "\\hline\n",
       "\t     1 & a    \\\\\n",
       "\t 99999 & b    \\\\\n",
       "\t     3 & c    \\\\\n",
       "\t     4 & d    \\\\\n",
       "\t     5 & e    \\\\\n",
       "\t     6 & f    \\\\\n",
       "\t     7 & g    \\\\\n",
       "\t     8 & h    \\\\\n",
       "\t     9 & i    \\\\\n",
       "\t    10 & j    \\\\\n",
       "\t  2000 & new  \\\\\n",
       "\\end{tabular}\n"
      ],
      "text/markdown": [
       "\n",
       "| col.name.1 | col.name.2 |\n",
       "|---|---|\n",
       "|     1 | a     |\n",
       "| 99999 | b     |\n",
       "|     3 | c     |\n",
       "|     4 | d     |\n",
       "|     5 | e     |\n",
       "|     6 | f     |\n",
       "|     7 | g     |\n",
       "|     8 | h     |\n",
       "|     9 | i     |\n",
       "|    10 | j     |\n",
       "|  2000 | new   |\n",
       "\n"
      ],
      "text/plain": [
       "   col.name.1 col.name.2\n",
       "1      1      a         \n",
       "2  99999      b         \n",
       "3      3      c         \n",
       "4      4      d         \n",
       "5      5      e         \n",
       "6      6      f         \n",
       "7      7      g         \n",
       "8      8      h         \n",
       "9      9      i         \n",
       "10    10      j         \n",
       "11  2000      new       "
      ]
     },
     "metadata": {},
     "output_type": "display_data"
    }
   ],
   "source": [
    "dfnew"
   ]
  },
  {
   "cell_type": "markdown",
   "id": "numeric-culture",
   "metadata": {},
   "source": [
    "## Adding Columns"
   ]
  },
  {
   "cell_type": "code",
   "execution_count": 16,
   "id": "packed-kinase",
   "metadata": {},
   "outputs": [
    {
     "data": {
      "text/html": [
       "<table>\n",
       "<thead><tr><th scope=col>col.name.1</th><th scope=col>col.name.2</th><th scope=col>newcol</th></tr></thead>\n",
       "<tbody>\n",
       "\t<tr><td>    1</td><td>a    </td><td>NA   </td></tr>\n",
       "\t<tr><td>99999</td><td>b    </td><td>NA   </td></tr>\n",
       "\t<tr><td>    3</td><td>c    </td><td>NA   </td></tr>\n",
       "\t<tr><td>    4</td><td>d    </td><td>NA   </td></tr>\n",
       "\t<tr><td>    5</td><td>e    </td><td>NA   </td></tr>\n",
       "\t<tr><td>    6</td><td>f    </td><td>NA   </td></tr>\n",
       "\t<tr><td>    7</td><td>g    </td><td>NA   </td></tr>\n",
       "\t<tr><td>    8</td><td>h    </td><td>NA   </td></tr>\n",
       "\t<tr><td>    9</td><td>i    </td><td>NA   </td></tr>\n",
       "\t<tr><td>   10</td><td>j    </td><td>NA   </td></tr>\n",
       "</tbody>\n",
       "</table>\n"
      ],
      "text/latex": [
       "\\begin{tabular}{r|lll}\n",
       " col.name.1 & col.name.2 & newcol\\\\\n",
       "\\hline\n",
       "\t     1 & a     & NA   \\\\\n",
       "\t 99999 & b     & NA   \\\\\n",
       "\t     3 & c     & NA   \\\\\n",
       "\t     4 & d     & NA   \\\\\n",
       "\t     5 & e     & NA   \\\\\n",
       "\t     6 & f     & NA   \\\\\n",
       "\t     7 & g     & NA   \\\\\n",
       "\t     8 & h     & NA   \\\\\n",
       "\t     9 & i     & NA   \\\\\n",
       "\t    10 & j     & NA   \\\\\n",
       "\\end{tabular}\n"
      ],
      "text/markdown": [
       "\n",
       "| col.name.1 | col.name.2 | newcol |\n",
       "|---|---|---|\n",
       "|     1 | a     | NA    |\n",
       "| 99999 | b     | NA    |\n",
       "|     3 | c     | NA    |\n",
       "|     4 | d     | NA    |\n",
       "|     5 | e     | NA    |\n",
       "|     6 | f     | NA    |\n",
       "|     7 | g     | NA    |\n",
       "|     8 | h     | NA    |\n",
       "|     9 | i     | NA    |\n",
       "|    10 | j     | NA    |\n",
       "\n"
      ],
      "text/plain": [
       "   col.name.1 col.name.2 newcol\n",
       "1      1      a          NA    \n",
       "2  99999      b          NA    \n",
       "3      3      c          NA    \n",
       "4      4      d          NA    \n",
       "5      5      e          NA    \n",
       "6      6      f          NA    \n",
       "7      7      g          NA    \n",
       "8      8      h          NA    \n",
       "9      9      i          NA    \n",
       "10    10      j          NA    "
      ]
     },
     "metadata": {},
     "output_type": "display_data"
    }
   ],
   "source": [
    "df$newcol <- rep(NA, nrow(df)) # NA column\n",
    "df"
   ]
  },
  {
   "cell_type": "code",
   "execution_count": 17,
   "id": "selected-intranet",
   "metadata": {},
   "outputs": [
    {
     "data": {
      "text/html": [
       "<table>\n",
       "<thead><tr><th scope=col>col.name.1</th><th scope=col>col.name.2</th><th scope=col>newcol</th><th scope=col>copy.of.col2</th></tr></thead>\n",
       "<tbody>\n",
       "\t<tr><td>    1</td><td>a    </td><td>NA   </td><td>a    </td></tr>\n",
       "\t<tr><td>99999</td><td>b    </td><td>NA   </td><td>b    </td></tr>\n",
       "\t<tr><td>    3</td><td>c    </td><td>NA   </td><td>c    </td></tr>\n",
       "\t<tr><td>    4</td><td>d    </td><td>NA   </td><td>d    </td></tr>\n",
       "\t<tr><td>    5</td><td>e    </td><td>NA   </td><td>e    </td></tr>\n",
       "\t<tr><td>    6</td><td>f    </td><td>NA   </td><td>f    </td></tr>\n",
       "\t<tr><td>    7</td><td>g    </td><td>NA   </td><td>g    </td></tr>\n",
       "\t<tr><td>    8</td><td>h    </td><td>NA   </td><td>h    </td></tr>\n",
       "\t<tr><td>    9</td><td>i    </td><td>NA   </td><td>i    </td></tr>\n",
       "\t<tr><td>   10</td><td>j    </td><td>NA   </td><td>j    </td></tr>\n",
       "</tbody>\n",
       "</table>\n"
      ],
      "text/latex": [
       "\\begin{tabular}{r|llll}\n",
       " col.name.1 & col.name.2 & newcol & copy.of.col2\\\\\n",
       "\\hline\n",
       "\t     1 & a     & NA    & a    \\\\\n",
       "\t 99999 & b     & NA    & b    \\\\\n",
       "\t     3 & c     & NA    & c    \\\\\n",
       "\t     4 & d     & NA    & d    \\\\\n",
       "\t     5 & e     & NA    & e    \\\\\n",
       "\t     6 & f     & NA    & f    \\\\\n",
       "\t     7 & g     & NA    & g    \\\\\n",
       "\t     8 & h     & NA    & h    \\\\\n",
       "\t     9 & i     & NA    & i    \\\\\n",
       "\t    10 & j     & NA    & j    \\\\\n",
       "\\end{tabular}\n"
      ],
      "text/markdown": [
       "\n",
       "| col.name.1 | col.name.2 | newcol | copy.of.col2 |\n",
       "|---|---|---|---|\n",
       "|     1 | a     | NA    | a     |\n",
       "| 99999 | b     | NA    | b     |\n",
       "|     3 | c     | NA    | c     |\n",
       "|     4 | d     | NA    | d     |\n",
       "|     5 | e     | NA    | e     |\n",
       "|     6 | f     | NA    | f     |\n",
       "|     7 | g     | NA    | g     |\n",
       "|     8 | h     | NA    | h     |\n",
       "|     9 | i     | NA    | i     |\n",
       "|    10 | j     | NA    | j     |\n",
       "\n"
      ],
      "text/plain": [
       "   col.name.1 col.name.2 newcol copy.of.col2\n",
       "1      1      a          NA     a           \n",
       "2  99999      b          NA     b           \n",
       "3      3      c          NA     c           \n",
       "4      4      d          NA     d           \n",
       "5      5      e          NA     e           \n",
       "6      6      f          NA     f           \n",
       "7      7      g          NA     g           \n",
       "8      8      h          NA     h           \n",
       "9      9      i          NA     i           \n",
       "10    10      j          NA     j           "
      ]
     },
     "metadata": {},
     "output_type": "display_data"
    }
   ],
   "source": [
    "df[, 'copy.of.col2'] <- df$col.name.2 # copy a col\n",
    "df"
   ]
  },
  {
   "cell_type": "code",
   "execution_count": 18,
   "id": "natural-monthly",
   "metadata": {},
   "outputs": [
    {
     "data": {
      "text/html": [
       "<table>\n",
       "<thead><tr><th scope=col>col.name.1</th><th scope=col>col.name.2</th><th scope=col>newcol</th><th scope=col>copy.of.col2</th><th scope=col>col1.times.2</th></tr></thead>\n",
       "<tbody>\n",
       "\t<tr><td>    1 </td><td>a     </td><td>NA    </td><td>a     </td><td>     2</td></tr>\n",
       "\t<tr><td>99999 </td><td>b     </td><td>NA    </td><td>b     </td><td>199998</td></tr>\n",
       "\t<tr><td>    3 </td><td>c     </td><td>NA    </td><td>c     </td><td>     6</td></tr>\n",
       "\t<tr><td>    4 </td><td>d     </td><td>NA    </td><td>d     </td><td>     8</td></tr>\n",
       "\t<tr><td>    5 </td><td>e     </td><td>NA    </td><td>e     </td><td>    10</td></tr>\n",
       "\t<tr><td>    6 </td><td>f     </td><td>NA    </td><td>f     </td><td>    12</td></tr>\n",
       "\t<tr><td>    7 </td><td>g     </td><td>NA    </td><td>g     </td><td>    14</td></tr>\n",
       "\t<tr><td>    8 </td><td>h     </td><td>NA    </td><td>h     </td><td>    16</td></tr>\n",
       "\t<tr><td>    9 </td><td>i     </td><td>NA    </td><td>i     </td><td>    18</td></tr>\n",
       "\t<tr><td>   10 </td><td>j     </td><td>NA    </td><td>j     </td><td>    20</td></tr>\n",
       "</tbody>\n",
       "</table>\n"
      ],
      "text/latex": [
       "\\begin{tabular}{r|lllll}\n",
       " col.name.1 & col.name.2 & newcol & copy.of.col2 & col1.times.2\\\\\n",
       "\\hline\n",
       "\t     1  & a      & NA     & a      &      2\\\\\n",
       "\t 99999  & b      & NA     & b      & 199998\\\\\n",
       "\t     3  & c      & NA     & c      &      6\\\\\n",
       "\t     4  & d      & NA     & d      &      8\\\\\n",
       "\t     5  & e      & NA     & e      &     10\\\\\n",
       "\t     6  & f      & NA     & f      &     12\\\\\n",
       "\t     7  & g      & NA     & g      &     14\\\\\n",
       "\t     8  & h      & NA     & h      &     16\\\\\n",
       "\t     9  & i      & NA     & i      &     18\\\\\n",
       "\t    10  & j      & NA     & j      &     20\\\\\n",
       "\\end{tabular}\n"
      ],
      "text/markdown": [
       "\n",
       "| col.name.1 | col.name.2 | newcol | copy.of.col2 | col1.times.2 |\n",
       "|---|---|---|---|---|\n",
       "|     1  | a      | NA     | a      |      2 |\n",
       "| 99999  | b      | NA     | b      | 199998 |\n",
       "|     3  | c      | NA     | c      |      6 |\n",
       "|     4  | d      | NA     | d      |      8 |\n",
       "|     5  | e      | NA     | e      |     10 |\n",
       "|     6  | f      | NA     | f      |     12 |\n",
       "|     7  | g      | NA     | g      |     14 |\n",
       "|     8  | h      | NA     | h      |     16 |\n",
       "|     9  | i      | NA     | i      |     18 |\n",
       "|    10  | j      | NA     | j      |     20 |\n",
       "\n"
      ],
      "text/plain": [
       "   col.name.1 col.name.2 newcol copy.of.col2 col1.times.2\n",
       "1      1      a          NA     a                 2      \n",
       "2  99999      b          NA     b            199998      \n",
       "3      3      c          NA     c                 6      \n",
       "4      4      d          NA     d                 8      \n",
       "5      5      e          NA     e                10      \n",
       "6      6      f          NA     f                12      \n",
       "7      7      g          NA     g                14      \n",
       "8      8      h          NA     h                16      \n",
       "9      9      i          NA     i                18      \n",
       "10    10      j          NA     j                20      "
      ]
     },
     "metadata": {},
     "output_type": "display_data"
    }
   ],
   "source": [
    "# Can also use equations!\n",
    "df[['col1.times.2']] <- df$col.name.1 * 2\n",
    "df"
   ]
  },
  {
   "cell_type": "code",
   "execution_count": 19,
   "id": "peripheral-klein",
   "metadata": {},
   "outputs": [
    {
     "data": {
      "text/html": [
       "<table>\n",
       "<thead><tr><th scope=col>col.name.1</th><th scope=col>col.name.2</th><th scope=col>newcol</th><th scope=col>copy.of.col2</th><th scope=col>col1.times.2</th><th scope=col>df$col.name.1</th></tr></thead>\n",
       "<tbody>\n",
       "\t<tr><td>    1 </td><td>a     </td><td>NA    </td><td>a     </td><td>     2</td><td>    1 </td></tr>\n",
       "\t<tr><td>99999 </td><td>b     </td><td>NA    </td><td>b     </td><td>199998</td><td>99999 </td></tr>\n",
       "\t<tr><td>    3 </td><td>c     </td><td>NA    </td><td>c     </td><td>     6</td><td>    3 </td></tr>\n",
       "\t<tr><td>    4 </td><td>d     </td><td>NA    </td><td>d     </td><td>     8</td><td>    4 </td></tr>\n",
       "\t<tr><td>    5 </td><td>e     </td><td>NA    </td><td>e     </td><td>    10</td><td>    5 </td></tr>\n",
       "\t<tr><td>    6 </td><td>f     </td><td>NA    </td><td>f     </td><td>    12</td><td>    6 </td></tr>\n",
       "\t<tr><td>    7 </td><td>g     </td><td>NA    </td><td>g     </td><td>    14</td><td>    7 </td></tr>\n",
       "\t<tr><td>    8 </td><td>h     </td><td>NA    </td><td>h     </td><td>    16</td><td>    8 </td></tr>\n",
       "\t<tr><td>    9 </td><td>i     </td><td>NA    </td><td>i     </td><td>    18</td><td>    9 </td></tr>\n",
       "\t<tr><td>   10 </td><td>j     </td><td>NA    </td><td>j     </td><td>    20</td><td>   10 </td></tr>\n",
       "</tbody>\n",
       "</table>\n"
      ],
      "text/latex": [
       "\\begin{tabular}{r|llllll}\n",
       " col.name.1 & col.name.2 & newcol & copy.of.col2 & col1.times.2 & df\\$col.name.1\\\\\n",
       "\\hline\n",
       "\t     1  & a      & NA     & a      &      2 &     1 \\\\\n",
       "\t 99999  & b      & NA     & b      & 199998 & 99999 \\\\\n",
       "\t     3  & c      & NA     & c      &      6 &     3 \\\\\n",
       "\t     4  & d      & NA     & d      &      8 &     4 \\\\\n",
       "\t     5  & e      & NA     & e      &     10 &     5 \\\\\n",
       "\t     6  & f      & NA     & f      &     12 &     6 \\\\\n",
       "\t     7  & g      & NA     & g      &     14 &     7 \\\\\n",
       "\t     8  & h      & NA     & h      &     16 &     8 \\\\\n",
       "\t     9  & i      & NA     & i      &     18 &     9 \\\\\n",
       "\t    10  & j      & NA     & j      &     20 &    10 \\\\\n",
       "\\end{tabular}\n"
      ],
      "text/markdown": [
       "\n",
       "| col.name.1 | col.name.2 | newcol | copy.of.col2 | col1.times.2 | df$col.name.1 |\n",
       "|---|---|---|---|---|---|\n",
       "|     1  | a      | NA     | a      |      2 |     1  |\n",
       "| 99999  | b      | NA     | b      | 199998 | 99999  |\n",
       "|     3  | c      | NA     | c      |      6 |     3  |\n",
       "|     4  | d      | NA     | d      |      8 |     4  |\n",
       "|     5  | e      | NA     | e      |     10 |     5  |\n",
       "|     6  | f      | NA     | f      |     12 |     6  |\n",
       "|     7  | g      | NA     | g      |     14 |     7  |\n",
       "|     8  | h      | NA     | h      |     16 |     8  |\n",
       "|     9  | i      | NA     | i      |     18 |     9  |\n",
       "|    10  | j      | NA     | j      |     20 |    10  |\n",
       "\n"
      ],
      "text/plain": [
       "   col.name.1 col.name.2 newcol copy.of.col2 col1.times.2 df$col.name.1\n",
       "1      1      a          NA     a                 2           1        \n",
       "2  99999      b          NA     b            199998       99999        \n",
       "3      3      c          NA     c                 6           3        \n",
       "4      4      d          NA     d                 8           4        \n",
       "5      5      e          NA     e                10           5        \n",
       "6      6      f          NA     f                12           6        \n",
       "7      7      g          NA     g                14           7        \n",
       "8      8      h          NA     h                16           8        \n",
       "9      9      i          NA     i                18           9        \n",
       "10    10      j          NA     j                20          10        "
      ]
     },
     "metadata": {},
     "output_type": "display_data"
    }
   ],
   "source": [
    "df3 <- cbind(df, df$col.name.1)\n",
    "df3"
   ]
  },
  {
   "cell_type": "markdown",
   "id": "furnished-person",
   "metadata": {},
   "source": [
    "## Setting Column Names"
   ]
  },
  {
   "cell_type": "code",
   "execution_count": 20,
   "id": "continued-gibson",
   "metadata": {},
   "outputs": [
    {
     "data": {
      "text/html": [
       "<table>\n",
       "<thead><tr><th scope=col>col.name.1</th><th scope=col>SECOND COLUMN NEW NAME</th><th scope=col>newcol</th><th scope=col>copy.of.col2</th><th scope=col>col1.times.2</th></tr></thead>\n",
       "<tbody>\n",
       "\t<tr><td>    1 </td><td>a     </td><td>NA    </td><td>a     </td><td>     2</td></tr>\n",
       "\t<tr><td>99999 </td><td>b     </td><td>NA    </td><td>b     </td><td>199998</td></tr>\n",
       "\t<tr><td>    3 </td><td>c     </td><td>NA    </td><td>c     </td><td>     6</td></tr>\n",
       "\t<tr><td>    4 </td><td>d     </td><td>NA    </td><td>d     </td><td>     8</td></tr>\n",
       "\t<tr><td>    5 </td><td>e     </td><td>NA    </td><td>e     </td><td>    10</td></tr>\n",
       "\t<tr><td>    6 </td><td>f     </td><td>NA    </td><td>f     </td><td>    12</td></tr>\n",
       "\t<tr><td>    7 </td><td>g     </td><td>NA    </td><td>g     </td><td>    14</td></tr>\n",
       "\t<tr><td>    8 </td><td>h     </td><td>NA    </td><td>h     </td><td>    16</td></tr>\n",
       "\t<tr><td>    9 </td><td>i     </td><td>NA    </td><td>i     </td><td>    18</td></tr>\n",
       "\t<tr><td>   10 </td><td>j     </td><td>NA    </td><td>j     </td><td>    20</td></tr>\n",
       "</tbody>\n",
       "</table>\n"
      ],
      "text/latex": [
       "\\begin{tabular}{r|lllll}\n",
       " col.name.1 & SECOND COLUMN NEW NAME & newcol & copy.of.col2 & col1.times.2\\\\\n",
       "\\hline\n",
       "\t     1  & a      & NA     & a      &      2\\\\\n",
       "\t 99999  & b      & NA     & b      & 199998\\\\\n",
       "\t     3  & c      & NA     & c      &      6\\\\\n",
       "\t     4  & d      & NA     & d      &      8\\\\\n",
       "\t     5  & e      & NA     & e      &     10\\\\\n",
       "\t     6  & f      & NA     & f      &     12\\\\\n",
       "\t     7  & g      & NA     & g      &     14\\\\\n",
       "\t     8  & h      & NA     & h      &     16\\\\\n",
       "\t     9  & i      & NA     & i      &     18\\\\\n",
       "\t    10  & j      & NA     & j      &     20\\\\\n",
       "\\end{tabular}\n"
      ],
      "text/markdown": [
       "\n",
       "| col.name.1 | SECOND COLUMN NEW NAME | newcol | copy.of.col2 | col1.times.2 |\n",
       "|---|---|---|---|---|\n",
       "|     1  | a      | NA     | a      |      2 |\n",
       "| 99999  | b      | NA     | b      | 199998 |\n",
       "|     3  | c      | NA     | c      |      6 |\n",
       "|     4  | d      | NA     | d      |      8 |\n",
       "|     5  | e      | NA     | e      |     10 |\n",
       "|     6  | f      | NA     | f      |     12 |\n",
       "|     7  | g      | NA     | g      |     14 |\n",
       "|     8  | h      | NA     | h      |     16 |\n",
       "|     9  | i      | NA     | i      |     18 |\n",
       "|    10  | j      | NA     | j      |     20 |\n",
       "\n"
      ],
      "text/plain": [
       "   col.name.1 SECOND COLUMN NEW NAME newcol copy.of.col2 col1.times.2\n",
       "1      1      a                      NA     a                 2      \n",
       "2  99999      b                      NA     b            199998      \n",
       "3      3      c                      NA     c                 6      \n",
       "4      4      d                      NA     d                 8      \n",
       "5      5      e                      NA     e                10      \n",
       "6      6      f                      NA     f                12      \n",
       "7      7      g                      NA     g                14      \n",
       "8      8      h                      NA     h                16      \n",
       "9      9      i                      NA     i                18      \n",
       "10    10      j                      NA     j                20      "
      ]
     },
     "metadata": {},
     "output_type": "display_data"
    },
    {
     "data": {
      "text/html": [
       "<table>\n",
       "<thead><tr><th scope=col>col.name.1</th><th scope=col>col.name.2</th><th scope=col>newcol</th><th scope=col>copy.of.col2</th><th scope=col>col1.times.2</th></tr></thead>\n",
       "<tbody>\n",
       "\t<tr><td>    1 </td><td>a     </td><td>NA    </td><td>a     </td><td>     2</td></tr>\n",
       "\t<tr><td>99999 </td><td>b     </td><td>NA    </td><td>b     </td><td>199998</td></tr>\n",
       "\t<tr><td>    3 </td><td>c     </td><td>NA    </td><td>c     </td><td>     6</td></tr>\n",
       "\t<tr><td>    4 </td><td>d     </td><td>NA    </td><td>d     </td><td>     8</td></tr>\n",
       "\t<tr><td>    5 </td><td>e     </td><td>NA    </td><td>e     </td><td>    10</td></tr>\n",
       "\t<tr><td>    6 </td><td>f     </td><td>NA    </td><td>f     </td><td>    12</td></tr>\n",
       "\t<tr><td>    7 </td><td>g     </td><td>NA    </td><td>g     </td><td>    14</td></tr>\n",
       "\t<tr><td>    8 </td><td>h     </td><td>NA    </td><td>h     </td><td>    16</td></tr>\n",
       "\t<tr><td>    9 </td><td>i     </td><td>NA    </td><td>i     </td><td>    18</td></tr>\n",
       "\t<tr><td>   10 </td><td>j     </td><td>NA    </td><td>j     </td><td>    20</td></tr>\n",
       "</tbody>\n",
       "</table>\n"
      ],
      "text/latex": [
       "\\begin{tabular}{r|lllll}\n",
       " col.name.1 & col.name.2 & newcol & copy.of.col2 & col1.times.2\\\\\n",
       "\\hline\n",
       "\t     1  & a      & NA     & a      &      2\\\\\n",
       "\t 99999  & b      & NA     & b      & 199998\\\\\n",
       "\t     3  & c      & NA     & c      &      6\\\\\n",
       "\t     4  & d      & NA     & d      &      8\\\\\n",
       "\t     5  & e      & NA     & e      &     10\\\\\n",
       "\t     6  & f      & NA     & f      &     12\\\\\n",
       "\t     7  & g      & NA     & g      &     14\\\\\n",
       "\t     8  & h      & NA     & h      &     16\\\\\n",
       "\t     9  & i      & NA     & i      &     18\\\\\n",
       "\t    10  & j      & NA     & j      &     20\\\\\n",
       "\\end{tabular}\n"
      ],
      "text/markdown": [
       "\n",
       "| col.name.1 | col.name.2 | newcol | copy.of.col2 | col1.times.2 |\n",
       "|---|---|---|---|---|\n",
       "|     1  | a      | NA     | a      |      2 |\n",
       "| 99999  | b      | NA     | b      | 199998 |\n",
       "|     3  | c      | NA     | c      |      6 |\n",
       "|     4  | d      | NA     | d      |      8 |\n",
       "|     5  | e      | NA     | e      |     10 |\n",
       "|     6  | f      | NA     | f      |     12 |\n",
       "|     7  | g      | NA     | g      |     14 |\n",
       "|     8  | h      | NA     | h      |     16 |\n",
       "|     9  | i      | NA     | i      |     18 |\n",
       "|    10  | j      | NA     | j      |     20 |\n",
       "\n"
      ],
      "text/plain": [
       "   col.name.1 col.name.2 newcol copy.of.col2 col1.times.2\n",
       "1      1      a          NA     a                 2      \n",
       "2  99999      b          NA     b            199998      \n",
       "3      3      c          NA     c                 6      \n",
       "4      4      d          NA     d                 8      \n",
       "5      5      e          NA     e                10      \n",
       "6      6      f          NA     f                12      \n",
       "7      7      g          NA     g                14      \n",
       "8      8      h          NA     h                16      \n",
       "9      9      i          NA     i                18      \n",
       "10    10      j          NA     j                20      "
      ]
     },
     "metadata": {},
     "output_type": "display_data"
    }
   ],
   "source": [
    "# Rename second column\n",
    "colnames(df)[2] <- 'SECOND COLUMN NEW NAME'\n",
    "df\n",
    "\n",
    "# Rename all at once with a vector\n",
    "colnames(df) <- c('col.name.1', 'col.name.2', 'newcol', 'copy.of.col2' ,'col1.times.2')\n",
    "df"
   ]
  },
  {
   "cell_type": "markdown",
   "id": "given-spider",
   "metadata": {},
   "source": [
    "## Selecting Multiple Rows"
   ]
  },
  {
   "cell_type": "code",
   "execution_count": 21,
   "id": "equipped-mailing",
   "metadata": {},
   "outputs": [
    {
     "data": {
      "text/html": [
       "<table>\n",
       "<thead><tr><th scope=col>col.name.1</th><th scope=col>col.name.2</th><th scope=col>newcol</th><th scope=col>copy.of.col2</th><th scope=col>col1.times.2</th></tr></thead>\n",
       "<tbody>\n",
       "\t<tr><td>    1 </td><td>a     </td><td>NA    </td><td>a     </td><td>     2</td></tr>\n",
       "\t<tr><td>99999 </td><td>b     </td><td>NA    </td><td>b     </td><td>199998</td></tr>\n",
       "\t<tr><td>    3 </td><td>c     </td><td>NA    </td><td>c     </td><td>     6</td></tr>\n",
       "\t<tr><td>    4 </td><td>d     </td><td>NA    </td><td>d     </td><td>     8</td></tr>\n",
       "\t<tr><td>    5 </td><td>e     </td><td>NA    </td><td>e     </td><td>    10</td></tr>\n",
       "\t<tr><td>    6 </td><td>f     </td><td>NA    </td><td>f     </td><td>    12</td></tr>\n",
       "\t<tr><td>    7 </td><td>g     </td><td>NA    </td><td>g     </td><td>    14</td></tr>\n",
       "\t<tr><td>    8 </td><td>h     </td><td>NA    </td><td>h     </td><td>    16</td></tr>\n",
       "\t<tr><td>    9 </td><td>i     </td><td>NA    </td><td>i     </td><td>    18</td></tr>\n",
       "\t<tr><td>   10 </td><td>j     </td><td>NA    </td><td>j     </td><td>    20</td></tr>\n",
       "</tbody>\n",
       "</table>\n"
      ],
      "text/latex": [
       "\\begin{tabular}{r|lllll}\n",
       " col.name.1 & col.name.2 & newcol & copy.of.col2 & col1.times.2\\\\\n",
       "\\hline\n",
       "\t     1  & a      & NA     & a      &      2\\\\\n",
       "\t 99999  & b      & NA     & b      & 199998\\\\\n",
       "\t     3  & c      & NA     & c      &      6\\\\\n",
       "\t     4  & d      & NA     & d      &      8\\\\\n",
       "\t     5  & e      & NA     & e      &     10\\\\\n",
       "\t     6  & f      & NA     & f      &     12\\\\\n",
       "\t     7  & g      & NA     & g      &     14\\\\\n",
       "\t     8  & h      & NA     & h      &     16\\\\\n",
       "\t     9  & i      & NA     & i      &     18\\\\\n",
       "\t    10  & j      & NA     & j      &     20\\\\\n",
       "\\end{tabular}\n"
      ],
      "text/markdown": [
       "\n",
       "| col.name.1 | col.name.2 | newcol | copy.of.col2 | col1.times.2 |\n",
       "|---|---|---|---|---|\n",
       "|     1  | a      | NA     | a      |      2 |\n",
       "| 99999  | b      | NA     | b      | 199998 |\n",
       "|     3  | c      | NA     | c      |      6 |\n",
       "|     4  | d      | NA     | d      |      8 |\n",
       "|     5  | e      | NA     | e      |     10 |\n",
       "|     6  | f      | NA     | f      |     12 |\n",
       "|     7  | g      | NA     | g      |     14 |\n",
       "|     8  | h      | NA     | h      |     16 |\n",
       "|     9  | i      | NA     | i      |     18 |\n",
       "|    10  | j      | NA     | j      |     20 |\n",
       "\n"
      ],
      "text/plain": [
       "   col.name.1 col.name.2 newcol copy.of.col2 col1.times.2\n",
       "1      1      a          NA     a                 2      \n",
       "2  99999      b          NA     b            199998      \n",
       "3      3      c          NA     c                 6      \n",
       "4      4      d          NA     d                 8      \n",
       "5      5      e          NA     e                10      \n",
       "6      6      f          NA     f                12      \n",
       "7      7      g          NA     g                14      \n",
       "8      8      h          NA     h                16      \n",
       "9      9      i          NA     i                18      \n",
       "10    10      j          NA     j                20      "
      ]
     },
     "metadata": {},
     "output_type": "display_data"
    }
   ],
   "source": [
    "first.ten.rows <- df[1:10, ] # Same as head(df, 10)\n",
    "first.ten.rows"
   ]
  },
  {
   "cell_type": "code",
   "execution_count": 22,
   "id": "acoustic-heather",
   "metadata": {},
   "outputs": [
    {
     "data": {
      "text/html": [
       "<table>\n",
       "<thead><tr><th></th><th scope=col>col.name.1</th><th scope=col>col.name.2</th><th scope=col>newcol</th><th scope=col>copy.of.col2</th><th scope=col>col1.times.2</th></tr></thead>\n",
       "<tbody>\n",
       "\t<tr><th scope=row>1</th><td> 1</td><td>a </td><td>NA</td><td>a </td><td> 2</td></tr>\n",
       "\t<tr><th scope=row>3</th><td> 3</td><td>c </td><td>NA</td><td>c </td><td> 6</td></tr>\n",
       "\t<tr><th scope=row>4</th><td> 4</td><td>d </td><td>NA</td><td>d </td><td> 8</td></tr>\n",
       "\t<tr><th scope=row>5</th><td> 5</td><td>e </td><td>NA</td><td>e </td><td>10</td></tr>\n",
       "\t<tr><th scope=row>6</th><td> 6</td><td>f </td><td>NA</td><td>f </td><td>12</td></tr>\n",
       "\t<tr><th scope=row>7</th><td> 7</td><td>g </td><td>NA</td><td>g </td><td>14</td></tr>\n",
       "\t<tr><th scope=row>8</th><td> 8</td><td>h </td><td>NA</td><td>h </td><td>16</td></tr>\n",
       "\t<tr><th scope=row>9</th><td> 9</td><td>i </td><td>NA</td><td>i </td><td>18</td></tr>\n",
       "\t<tr><th scope=row>10</th><td>10</td><td>j </td><td>NA</td><td>j </td><td>20</td></tr>\n",
       "</tbody>\n",
       "</table>\n"
      ],
      "text/latex": [
       "\\begin{tabular}{r|lllll}\n",
       "  & col.name.1 & col.name.2 & newcol & copy.of.col2 & col1.times.2\\\\\n",
       "\\hline\n",
       "\t1 &  1 & a  & NA & a  &  2\\\\\n",
       "\t3 &  3 & c  & NA & c  &  6\\\\\n",
       "\t4 &  4 & d  & NA & d  &  8\\\\\n",
       "\t5 &  5 & e  & NA & e  & 10\\\\\n",
       "\t6 &  6 & f  & NA & f  & 12\\\\\n",
       "\t7 &  7 & g  & NA & g  & 14\\\\\n",
       "\t8 &  8 & h  & NA & h  & 16\\\\\n",
       "\t9 &  9 & i  & NA & i  & 18\\\\\n",
       "\t10 & 10 & j  & NA & j  & 20\\\\\n",
       "\\end{tabular}\n"
      ],
      "text/markdown": [
       "\n",
       "| <!--/--> | col.name.1 | col.name.2 | newcol | copy.of.col2 | col1.times.2 |\n",
       "|---|---|---|---|---|---|\n",
       "| 1 |  1 | a  | NA | a  |  2 |\n",
       "| 3 |  3 | c  | NA | c  |  6 |\n",
       "| 4 |  4 | d  | NA | d  |  8 |\n",
       "| 5 |  5 | e  | NA | e  | 10 |\n",
       "| 6 |  6 | f  | NA | f  | 12 |\n",
       "| 7 |  7 | g  | NA | g  | 14 |\n",
       "| 8 |  8 | h  | NA | h  | 16 |\n",
       "| 9 |  9 | i  | NA | i  | 18 |\n",
       "| 10 | 10 | j  | NA | j  | 20 |\n",
       "\n"
      ],
      "text/plain": [
       "   col.name.1 col.name.2 newcol copy.of.col2 col1.times.2\n",
       "1   1         a          NA     a             2          \n",
       "3   3         c          NA     c             6          \n",
       "4   4         d          NA     d             8          \n",
       "5   5         e          NA     e            10          \n",
       "6   6         f          NA     f            12          \n",
       "7   7         g          NA     g            14          \n",
       "8   8         h          NA     h            16          \n",
       "9   9         i          NA     i            18          \n",
       "10 10         j          NA     j            20          "
      ]
     },
     "metadata": {},
     "output_type": "display_data"
    }
   ],
   "source": [
    "everything.but.row.two <- df[-2, ]\n",
    "everything.but.row.two"
   ]
  },
  {
   "cell_type": "code",
   "execution_count": 23,
   "id": "surprising-contents",
   "metadata": {},
   "outputs": [
    {
     "data": {
      "text/html": [
       "<table>\n",
       "<thead><tr><th></th><th scope=col>col.name.1</th><th scope=col>col.name.2</th><th scope=col>newcol</th><th scope=col>copy.of.col2</th><th scope=col>col1.times.2</th></tr></thead>\n",
       "<tbody>\n",
       "\t<tr><th scope=row>2</th><td>99999 </td><td>b     </td><td>NA    </td><td>b     </td><td>199998</td></tr>\n",
       "\t<tr><th scope=row>9</th><td>    9 </td><td>i     </td><td>NA    </td><td>i     </td><td>    18</td></tr>\n",
       "\t<tr><th scope=row>10</th><td>   10 </td><td>j     </td><td>NA    </td><td>j     </td><td>    20</td></tr>\n",
       "</tbody>\n",
       "</table>\n"
      ],
      "text/latex": [
       "\\begin{tabular}{r|lllll}\n",
       "  & col.name.1 & col.name.2 & newcol & copy.of.col2 & col1.times.2\\\\\n",
       "\\hline\n",
       "\t2 & 99999  & b      & NA     & b      & 199998\\\\\n",
       "\t9 &     9  & i      & NA     & i      &     18\\\\\n",
       "\t10 &    10  & j      & NA     & j      &     20\\\\\n",
       "\\end{tabular}\n"
      ],
      "text/markdown": [
       "\n",
       "| <!--/--> | col.name.1 | col.name.2 | newcol | copy.of.col2 | col1.times.2 |\n",
       "|---|---|---|---|---|---|\n",
       "| 2 | 99999  | b      | NA     | b      | 199998 |\n",
       "| 9 |     9  | i      | NA     | i      |     18 |\n",
       "| 10 |    10  | j      | NA     | j      |     20 |\n",
       "\n"
      ],
      "text/plain": [
       "   col.name.1 col.name.2 newcol copy.of.col2 col1.times.2\n",
       "2  99999      b          NA     b            199998      \n",
       "9      9      i          NA     i                18      \n",
       "10    10      j          NA     j                20      "
      ]
     },
     "metadata": {},
     "output_type": "display_data"
    },
    {
     "data": {
      "text/html": [
       "<table>\n",
       "<thead><tr><th></th><th scope=col>col.name.1</th><th scope=col>col.name.2</th><th scope=col>newcol</th><th scope=col>copy.of.col2</th><th scope=col>col1.times.2</th></tr></thead>\n",
       "<tbody>\n",
       "\t<tr><th scope=row>2</th><td>99999 </td><td>b     </td><td>NA    </td><td>b     </td><td>199998</td></tr>\n",
       "\t<tr><th scope=row>9</th><td>    9 </td><td>i     </td><td>NA    </td><td>i     </td><td>    18</td></tr>\n",
       "\t<tr><th scope=row>10</th><td>   10 </td><td>j     </td><td>NA    </td><td>j     </td><td>    20</td></tr>\n",
       "</tbody>\n",
       "</table>\n"
      ],
      "text/latex": [
       "\\begin{tabular}{r|lllll}\n",
       "  & col.name.1 & col.name.2 & newcol & copy.of.col2 & col1.times.2\\\\\n",
       "\\hline\n",
       "\t2 & 99999  & b      & NA     & b      & 199998\\\\\n",
       "\t9 &     9  & i      & NA     & i      &     18\\\\\n",
       "\t10 &    10  & j      & NA     & j      &     20\\\\\n",
       "\\end{tabular}\n"
      ],
      "text/markdown": [
       "\n",
       "| <!--/--> | col.name.1 | col.name.2 | newcol | copy.of.col2 | col1.times.2 |\n",
       "|---|---|---|---|---|---|\n",
       "| 2 | 99999  | b      | NA     | b      | 199998 |\n",
       "| 9 |     9  | i      | NA     | i      |     18 |\n",
       "| 10 |    10  | j      | NA     | j      |     20 |\n",
       "\n"
      ],
      "text/plain": [
       "   col.name.1 col.name.2 newcol copy.of.col2 col1.times.2\n",
       "2  99999      b          NA     b            199998      \n",
       "9      9      i          NA     i                18      \n",
       "10    10      j          NA     j                20      "
      ]
     },
     "metadata": {},
     "output_type": "display_data"
    }
   ],
   "source": [
    "# Conditional Selection\n",
    "sub1 <- df[ (df$col.name.1 > 8 & df$col1.times.2 > 10), ]\n",
    "sub1\n",
    "\n",
    "sub2 <- subset(df, col.name.1 > 8 & col1.times.2 > 10)\n",
    "sub2"
   ]
  },
  {
   "cell_type": "markdown",
   "id": "overhead-dancing",
   "metadata": {},
   "source": [
    "## Selecting Multiple Columns"
   ]
  },
  {
   "cell_type": "code",
   "execution_count": 24,
   "id": "otherwise-montana",
   "metadata": {},
   "outputs": [
    {
     "data": {
      "text/html": [
       "<table>\n",
       "<thead><tr><th scope=col>col.name.1</th><th scope=col>col.name.2</th><th scope=col>newcol</th></tr></thead>\n",
       "<tbody>\n",
       "\t<tr><td>    1</td><td>a    </td><td>NA   </td></tr>\n",
       "\t<tr><td>99999</td><td>b    </td><td>NA   </td></tr>\n",
       "\t<tr><td>    3</td><td>c    </td><td>NA   </td></tr>\n",
       "\t<tr><td>    4</td><td>d    </td><td>NA   </td></tr>\n",
       "\t<tr><td>    5</td><td>e    </td><td>NA   </td></tr>\n",
       "\t<tr><td>    6</td><td>f    </td><td>NA   </td></tr>\n",
       "\t<tr><td>    7</td><td>g    </td><td>NA   </td></tr>\n",
       "\t<tr><td>    8</td><td>h    </td><td>NA   </td></tr>\n",
       "\t<tr><td>    9</td><td>i    </td><td>NA   </td></tr>\n",
       "\t<tr><td>   10</td><td>j    </td><td>NA   </td></tr>\n",
       "</tbody>\n",
       "</table>\n"
      ],
      "text/latex": [
       "\\begin{tabular}{r|lll}\n",
       " col.name.1 & col.name.2 & newcol\\\\\n",
       "\\hline\n",
       "\t     1 & a     & NA   \\\\\n",
       "\t 99999 & b     & NA   \\\\\n",
       "\t     3 & c     & NA   \\\\\n",
       "\t     4 & d     & NA   \\\\\n",
       "\t     5 & e     & NA   \\\\\n",
       "\t     6 & f     & NA   \\\\\n",
       "\t     7 & g     & NA   \\\\\n",
       "\t     8 & h     & NA   \\\\\n",
       "\t     9 & i     & NA   \\\\\n",
       "\t    10 & j     & NA   \\\\\n",
       "\\end{tabular}\n"
      ],
      "text/markdown": [
       "\n",
       "| col.name.1 | col.name.2 | newcol |\n",
       "|---|---|---|\n",
       "|     1 | a     | NA    |\n",
       "| 99999 | b     | NA    |\n",
       "|     3 | c     | NA    |\n",
       "|     4 | d     | NA    |\n",
       "|     5 | e     | NA    |\n",
       "|     6 | f     | NA    |\n",
       "|     7 | g     | NA    |\n",
       "|     8 | h     | NA    |\n",
       "|     9 | i     | NA    |\n",
       "|    10 | j     | NA    |\n",
       "\n"
      ],
      "text/plain": [
       "   col.name.1 col.name.2 newcol\n",
       "1      1      a          NA    \n",
       "2  99999      b          NA    \n",
       "3      3      c          NA    \n",
       "4      4      d          NA    \n",
       "5      5      e          NA    \n",
       "6      6      f          NA    \n",
       "7      7      g          NA    \n",
       "8      8      h          NA    \n",
       "9      9      i          NA    \n",
       "10    10      j          NA    "
      ]
     },
     "metadata": {},
     "output_type": "display_data"
    }
   ],
   "source": [
    "df[, c(1, 2, 3)] #Grab cols 1 2 3"
   ]
  },
  {
   "cell_type": "code",
   "execution_count": 25,
   "id": "satellite-orientation",
   "metadata": {},
   "outputs": [
    {
     "data": {
      "text/html": [
       "<table>\n",
       "<thead><tr><th scope=col>col.name.1</th><th scope=col>col1.times.2</th></tr></thead>\n",
       "<tbody>\n",
       "\t<tr><td>    1 </td><td>     2</td></tr>\n",
       "\t<tr><td>99999 </td><td>199998</td></tr>\n",
       "\t<tr><td>    3 </td><td>     6</td></tr>\n",
       "\t<tr><td>    4 </td><td>     8</td></tr>\n",
       "\t<tr><td>    5 </td><td>    10</td></tr>\n",
       "\t<tr><td>    6 </td><td>    12</td></tr>\n",
       "\t<tr><td>    7 </td><td>    14</td></tr>\n",
       "\t<tr><td>    8 </td><td>    16</td></tr>\n",
       "\t<tr><td>    9 </td><td>    18</td></tr>\n",
       "\t<tr><td>   10 </td><td>    20</td></tr>\n",
       "</tbody>\n",
       "</table>\n"
      ],
      "text/latex": [
       "\\begin{tabular}{r|ll}\n",
       " col.name.1 & col1.times.2\\\\\n",
       "\\hline\n",
       "\t     1  &      2\\\\\n",
       "\t 99999  & 199998\\\\\n",
       "\t     3  &      6\\\\\n",
       "\t     4  &      8\\\\\n",
       "\t     5  &     10\\\\\n",
       "\t     6  &     12\\\\\n",
       "\t     7  &     14\\\\\n",
       "\t     8  &     16\\\\\n",
       "\t     9  &     18\\\\\n",
       "\t    10  &     20\\\\\n",
       "\\end{tabular}\n"
      ],
      "text/markdown": [
       "\n",
       "| col.name.1 | col1.times.2 |\n",
       "|---|---|\n",
       "|     1  |      2 |\n",
       "| 99999  | 199998 |\n",
       "|     3  |      6 |\n",
       "|     4  |      8 |\n",
       "|     5  |     10 |\n",
       "|     6  |     12 |\n",
       "|     7  |     14 |\n",
       "|     8  |     16 |\n",
       "|     9  |     18 |\n",
       "|    10  |     20 |\n",
       "\n"
      ],
      "text/plain": [
       "   col.name.1 col1.times.2\n",
       "1      1           2      \n",
       "2  99999      199998      \n",
       "3      3           6      \n",
       "4      4           8      \n",
       "5      5          10      \n",
       "6      6          12      \n",
       "7      7          14      \n",
       "8      8          16      \n",
       "9      9          18      \n",
       "10    10          20      "
      ]
     },
     "metadata": {},
     "output_type": "display_data"
    }
   ],
   "source": [
    "df[, c('col.name.1', 'col1.times.2')] # by name"
   ]
  },
  {
   "cell_type": "code",
   "execution_count": 26,
   "id": "controlled-greensboro",
   "metadata": {},
   "outputs": [
    {
     "data": {
      "text/html": [
       "<table>\n",
       "<thead><tr><th scope=col>col.name.2</th><th scope=col>newcol</th><th scope=col>copy.of.col2</th><th scope=col>col1.times.2</th></tr></thead>\n",
       "<tbody>\n",
       "\t<tr><td>a     </td><td>NA    </td><td>a     </td><td>     2</td></tr>\n",
       "\t<tr><td>b     </td><td>NA    </td><td>b     </td><td>199998</td></tr>\n",
       "\t<tr><td>c     </td><td>NA    </td><td>c     </td><td>     6</td></tr>\n",
       "\t<tr><td>d     </td><td>NA    </td><td>d     </td><td>     8</td></tr>\n",
       "\t<tr><td>e     </td><td>NA    </td><td>e     </td><td>    10</td></tr>\n",
       "\t<tr><td>f     </td><td>NA    </td><td>f     </td><td>    12</td></tr>\n",
       "\t<tr><td>g     </td><td>NA    </td><td>g     </td><td>    14</td></tr>\n",
       "\t<tr><td>h     </td><td>NA    </td><td>h     </td><td>    16</td></tr>\n",
       "\t<tr><td>i     </td><td>NA    </td><td>i     </td><td>    18</td></tr>\n",
       "\t<tr><td>j     </td><td>NA    </td><td>j     </td><td>    20</td></tr>\n",
       "</tbody>\n",
       "</table>\n"
      ],
      "text/latex": [
       "\\begin{tabular}{r|llll}\n",
       " col.name.2 & newcol & copy.of.col2 & col1.times.2\\\\\n",
       "\\hline\n",
       "\t a      & NA     & a      &      2\\\\\n",
       "\t b      & NA     & b      & 199998\\\\\n",
       "\t c      & NA     & c      &      6\\\\\n",
       "\t d      & NA     & d      &      8\\\\\n",
       "\t e      & NA     & e      &     10\\\\\n",
       "\t f      & NA     & f      &     12\\\\\n",
       "\t g      & NA     & g      &     14\\\\\n",
       "\t h      & NA     & h      &     16\\\\\n",
       "\t i      & NA     & i      &     18\\\\\n",
       "\t j      & NA     & j      &     20\\\\\n",
       "\\end{tabular}\n"
      ],
      "text/markdown": [
       "\n",
       "| col.name.2 | newcol | copy.of.col2 | col1.times.2 |\n",
       "|---|---|---|---|\n",
       "| a      | NA     | a      |      2 |\n",
       "| b      | NA     | b      | 199998 |\n",
       "| c      | NA     | c      |      6 |\n",
       "| d      | NA     | d      |      8 |\n",
       "| e      | NA     | e      |     10 |\n",
       "| f      | NA     | f      |     12 |\n",
       "| g      | NA     | g      |     14 |\n",
       "| h      | NA     | h      |     16 |\n",
       "| i      | NA     | i      |     18 |\n",
       "| j      | NA     | j      |     20 |\n",
       "\n"
      ],
      "text/plain": [
       "   col.name.2 newcol copy.of.col2 col1.times.2\n",
       "1  a          NA     a                 2      \n",
       "2  b          NA     b            199998      \n",
       "3  c          NA     c                 6      \n",
       "4  d          NA     d                 8      \n",
       "5  e          NA     e                10      \n",
       "6  f          NA     f                12      \n",
       "7  g          NA     g                14      \n",
       "8  h          NA     h                16      \n",
       "9  i          NA     i                18      \n",
       "10 j          NA     j                20      "
      ]
     },
     "metadata": {},
     "output_type": "display_data"
    }
   ],
   "source": [
    "df[, -1] # keep all but first column"
   ]
  },
  {
   "cell_type": "code",
   "execution_count": 27,
   "id": "distant-beaver",
   "metadata": {},
   "outputs": [
    {
     "data": {
      "text/html": [
       "<table>\n",
       "<thead><tr><th scope=col>col.name.2</th><th scope=col>copy.of.col2</th><th scope=col>col1.times.2</th></tr></thead>\n",
       "<tbody>\n",
       "\t<tr><td>a     </td><td>a     </td><td>     2</td></tr>\n",
       "\t<tr><td>b     </td><td>b     </td><td>199998</td></tr>\n",
       "\t<tr><td>c     </td><td>c     </td><td>     6</td></tr>\n",
       "\t<tr><td>d     </td><td>d     </td><td>     8</td></tr>\n",
       "\t<tr><td>e     </td><td>e     </td><td>    10</td></tr>\n",
       "\t<tr><td>f     </td><td>f     </td><td>    12</td></tr>\n",
       "\t<tr><td>g     </td><td>g     </td><td>    14</td></tr>\n",
       "\t<tr><td>h     </td><td>h     </td><td>    16</td></tr>\n",
       "\t<tr><td>i     </td><td>i     </td><td>    18</td></tr>\n",
       "\t<tr><td>j     </td><td>j     </td><td>    20</td></tr>\n",
       "</tbody>\n",
       "</table>\n"
      ],
      "text/latex": [
       "\\begin{tabular}{r|lll}\n",
       " col.name.2 & copy.of.col2 & col1.times.2\\\\\n",
       "\\hline\n",
       "\t a      & a      &      2\\\\\n",
       "\t b      & b      & 199998\\\\\n",
       "\t c      & c      &      6\\\\\n",
       "\t d      & d      &      8\\\\\n",
       "\t e      & e      &     10\\\\\n",
       "\t f      & f      &     12\\\\\n",
       "\t g      & g      &     14\\\\\n",
       "\t h      & h      &     16\\\\\n",
       "\t i      & i      &     18\\\\\n",
       "\t j      & j      &     20\\\\\n",
       "\\end{tabular}\n"
      ],
      "text/markdown": [
       "\n",
       "| col.name.2 | copy.of.col2 | col1.times.2 |\n",
       "|---|---|---|\n",
       "| a      | a      |      2 |\n",
       "| b      | b      | 199998 |\n",
       "| c      | c      |      6 |\n",
       "| d      | d      |      8 |\n",
       "| e      | e      |     10 |\n",
       "| f      | f      |     12 |\n",
       "| g      | g      |     14 |\n",
       "| h      | h      |     16 |\n",
       "| i      | i      |     18 |\n",
       "| j      | j      |     20 |\n",
       "\n"
      ],
      "text/plain": [
       "   col.name.2 copy.of.col2 col1.times.2\n",
       "1  a          a                 2      \n",
       "2  b          b            199998      \n",
       "3  c          c                 6      \n",
       "4  d          d                 8      \n",
       "5  e          e                10      \n",
       "6  f          f                12      \n",
       "7  g          g                14      \n",
       "8  h          h                16      \n",
       "9  i          i                18      \n",
       "10 j          j                20      "
      ]
     },
     "metadata": {},
     "output_type": "display_data"
    }
   ],
   "source": [
    "df[, -c(1, 3)] # drop cols 1 and 3\n"
   ]
  },
  {
   "cell_type": "markdown",
   "id": "joint-logic",
   "metadata": {},
   "source": [
    "## Dealing with Missing Data"
   ]
  },
  {
   "cell_type": "code",
   "execution_count": 28,
   "id": "center-banking",
   "metadata": {},
   "outputs": [
    {
     "data": {
      "text/html": [
       "TRUE"
      ],
      "text/latex": [
       "TRUE"
      ],
      "text/markdown": [
       "TRUE"
      ],
      "text/plain": [
       "[1] TRUE"
      ]
     },
     "metadata": {},
     "output_type": "display_data"
    }
   ],
   "source": [
    "any(is.na(df)) # detect anywhere in df"
   ]
  },
  {
   "cell_type": "code",
   "execution_count": 29,
   "id": "unnecessary-warrior",
   "metadata": {},
   "outputs": [
    {
     "data": {
      "text/html": [
       "FALSE"
      ],
      "text/latex": [
       "FALSE"
      ],
      "text/markdown": [
       "FALSE"
      ],
      "text/plain": [
       "[1] FALSE"
      ]
     },
     "metadata": {},
     "output_type": "display_data"
    }
   ],
   "source": [
    "any(is.na(df$col.name.1)) # anywhere in col"
   ]
  },
  {
   "cell_type": "code",
   "execution_count": 30,
   "id": "inside-point",
   "metadata": {},
   "outputs": [],
   "source": [
    "# delete selected missing data rows\n",
    "df <- df[!is.na(df$col), ]"
   ]
  },
  {
   "cell_type": "code",
   "execution_count": 31,
   "id": "romantic-assessment",
   "metadata": {},
   "outputs": [],
   "source": [
    "# replace NAs with something else\n",
    "df[is.na(df)] <- 0 # works on whole df"
   ]
  },
  {
   "cell_type": "code",
   "execution_count": 32,
   "id": "relative-sleep",
   "metadata": {},
   "outputs": [],
   "source": [
    "df$col[is.na(df$col)] <- 999 # For a selected column"
   ]
  }
 ],
 "metadata": {
  "kernelspec": {
   "display_name": "R",
   "language": "R",
   "name": "ir"
  },
  "language_info": {
   "codemirror_mode": "r",
   "file_extension": ".r",
   "mimetype": "text/x-r-source",
   "name": "R",
   "pygments_lexer": "r",
   "version": "3.6.1"
  }
 },
 "nbformat": 4,
 "nbformat_minor": 5
}
