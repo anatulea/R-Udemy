{
 "cells": [
  {
   "cell_type": "markdown",
   "id": "latter-ordinary",
   "metadata": {},
   "source": [
    "## Matrix Arithmetic"
   ]
  },
  {
   "cell_type": "code",
   "execution_count": 1,
   "id": "orange-plastic",
   "metadata": {},
   "outputs": [
    {
     "data": {
      "text/html": [
       "<table>\n",
       "<tbody>\n",
       "\t<tr><td> 1</td><td> 2</td><td> 3</td><td> 4</td><td> 5</td><td> 6</td><td> 7</td><td> 8</td><td> 9</td><td>10</td></tr>\n",
       "\t<tr><td>11</td><td>12</td><td>13</td><td>14</td><td>15</td><td>16</td><td>17</td><td>18</td><td>19</td><td>20</td></tr>\n",
       "\t<tr><td>21</td><td>22</td><td>23</td><td>24</td><td>25</td><td>26</td><td>27</td><td>28</td><td>29</td><td>30</td></tr>\n",
       "\t<tr><td>31</td><td>32</td><td>33</td><td>34</td><td>35</td><td>36</td><td>37</td><td>38</td><td>39</td><td>40</td></tr>\n",
       "\t<tr><td>41</td><td>42</td><td>43</td><td>44</td><td>45</td><td>46</td><td>47</td><td>48</td><td>49</td><td>50</td></tr>\n",
       "</tbody>\n",
       "</table>\n"
      ],
      "text/latex": [
       "\\begin{tabular}{llllllllll}\n",
       "\t  1 &  2 &  3 &  4 &  5 &  6 &  7 &  8 &  9 & 10\\\\\n",
       "\t 11 & 12 & 13 & 14 & 15 & 16 & 17 & 18 & 19 & 20\\\\\n",
       "\t 21 & 22 & 23 & 24 & 25 & 26 & 27 & 28 & 29 & 30\\\\\n",
       "\t 31 & 32 & 33 & 34 & 35 & 36 & 37 & 38 & 39 & 40\\\\\n",
       "\t 41 & 42 & 43 & 44 & 45 & 46 & 47 & 48 & 49 & 50\\\\\n",
       "\\end{tabular}\n"
      ],
      "text/markdown": [
       "\n",
       "|  1 |  2 |  3 |  4 |  5 |  6 |  7 |  8 |  9 | 10 |\n",
       "| 11 | 12 | 13 | 14 | 15 | 16 | 17 | 18 | 19 | 20 |\n",
       "| 21 | 22 | 23 | 24 | 25 | 26 | 27 | 28 | 29 | 30 |\n",
       "| 31 | 32 | 33 | 34 | 35 | 36 | 37 | 38 | 39 | 40 |\n",
       "| 41 | 42 | 43 | 44 | 45 | 46 | 47 | 48 | 49 | 50 |\n",
       "\n"
      ],
      "text/plain": [
       "     [,1] [,2] [,3] [,4] [,5] [,6] [,7] [,8] [,9] [,10]\n",
       "[1,]  1    2    3    4    5    6    7    8    9   10   \n",
       "[2,] 11   12   13   14   15   16   17   18   19   20   \n",
       "[3,] 21   22   23   24   25   26   27   28   29   30   \n",
       "[4,] 31   32   33   34   35   36   37   38   39   40   \n",
       "[5,] 41   42   43   44   45   46   47   48   49   50   "
      ]
     },
     "metadata": {},
     "output_type": "display_data"
    }
   ],
   "source": [
    "mat <- matrix(1:50,byrow=TRUE,nrow=5)\n",
    "mat"
   ]
  },
  {
   "cell_type": "code",
   "execution_count": 2,
   "id": "civilian-thomson",
   "metadata": {},
   "outputs": [
    {
     "data": {
      "text/html": [
       "<table>\n",
       "<tbody>\n",
       "\t<tr><td> 2 </td><td> 4 </td><td> 6 </td><td> 8 </td><td>10 </td><td>12 </td><td>14 </td><td>16 </td><td>18 </td><td> 20</td></tr>\n",
       "\t<tr><td>22 </td><td>24 </td><td>26 </td><td>28 </td><td>30 </td><td>32 </td><td>34 </td><td>36 </td><td>38 </td><td> 40</td></tr>\n",
       "\t<tr><td>42 </td><td>44 </td><td>46 </td><td>48 </td><td>50 </td><td>52 </td><td>54 </td><td>56 </td><td>58 </td><td> 60</td></tr>\n",
       "\t<tr><td>62 </td><td>64 </td><td>66 </td><td>68 </td><td>70 </td><td>72 </td><td>74 </td><td>76 </td><td>78 </td><td> 80</td></tr>\n",
       "\t<tr><td>82 </td><td>84 </td><td>86 </td><td>88 </td><td>90 </td><td>92 </td><td>94 </td><td>96 </td><td>98 </td><td>100</td></tr>\n",
       "</tbody>\n",
       "</table>\n"
      ],
      "text/latex": [
       "\\begin{tabular}{llllllllll}\n",
       "\t  2  &  4  &  6  &  8  & 10  & 12  & 14  & 16  & 18  &  20\\\\\n",
       "\t 22  & 24  & 26  & 28  & 30  & 32  & 34  & 36  & 38  &  40\\\\\n",
       "\t 42  & 44  & 46  & 48  & 50  & 52  & 54  & 56  & 58  &  60\\\\\n",
       "\t 62  & 64  & 66  & 68  & 70  & 72  & 74  & 76  & 78  &  80\\\\\n",
       "\t 82  & 84  & 86  & 88  & 90  & 92  & 94  & 96  & 98  & 100\\\\\n",
       "\\end{tabular}\n"
      ],
      "text/markdown": [
       "\n",
       "|  2  |  4  |  6  |  8  | 10  | 12  | 14  | 16  | 18  |  20 |\n",
       "| 22  | 24  | 26  | 28  | 30  | 32  | 34  | 36  | 38  |  40 |\n",
       "| 42  | 44  | 46  | 48  | 50  | 52  | 54  | 56  | 58  |  60 |\n",
       "| 62  | 64  | 66  | 68  | 70  | 72  | 74  | 76  | 78  |  80 |\n",
       "| 82  | 84  | 86  | 88  | 90  | 92  | 94  | 96  | 98  | 100 |\n",
       "\n"
      ],
      "text/plain": [
       "     [,1] [,2] [,3] [,4] [,5] [,6] [,7] [,8] [,9] [,10]\n",
       "[1,]  2    4    6    8   10   12   14   16   18    20  \n",
       "[2,] 22   24   26   28   30   32   34   36   38    40  \n",
       "[3,] 42   44   46   48   50   52   54   56   58    60  \n",
       "[4,] 62   64   66   68   70   72   74   76   78    80  \n",
       "[5,] 82   84   86   88   90   92   94   96   98   100  "
      ]
     },
     "metadata": {},
     "output_type": "display_data"
    }
   ],
   "source": [
    "# Multiplication\n",
    "2*mat"
   ]
  },
  {
   "cell_type": "code",
   "execution_count": 3,
   "id": "mature-image",
   "metadata": {},
   "outputs": [
    {
     "data": {
      "text/html": [
       "<table>\n",
       "<tbody>\n",
       "\t<tr><td>1.00000000</td><td>0.50000000</td><td>0.33333333</td><td>0.25000000</td><td>0.20000000</td><td>0.16666667</td><td>0.14285714</td><td>0.12500000</td><td>0.11111111</td><td>0.10000000</td></tr>\n",
       "\t<tr><td>0.09090909</td><td>0.08333333</td><td>0.07692308</td><td>0.07142857</td><td>0.06666667</td><td>0.06250000</td><td>0.05882353</td><td>0.05555556</td><td>0.05263158</td><td>0.05000000</td></tr>\n",
       "\t<tr><td>0.04761905</td><td>0.04545455</td><td>0.04347826</td><td>0.04166667</td><td>0.04000000</td><td>0.03846154</td><td>0.03703704</td><td>0.03571429</td><td>0.03448276</td><td>0.03333333</td></tr>\n",
       "\t<tr><td>0.03225806</td><td>0.03125000</td><td>0.03030303</td><td>0.02941176</td><td>0.02857143</td><td>0.02777778</td><td>0.02702703</td><td>0.02631579</td><td>0.02564103</td><td>0.02500000</td></tr>\n",
       "\t<tr><td>0.02439024</td><td>0.02380952</td><td>0.02325581</td><td>0.02272727</td><td>0.02222222</td><td>0.02173913</td><td>0.02127660</td><td>0.02083333</td><td>0.02040816</td><td>0.02000000</td></tr>\n",
       "</tbody>\n",
       "</table>\n"
      ],
      "text/latex": [
       "\\begin{tabular}{llllllllll}\n",
       "\t 1.00000000 & 0.50000000 & 0.33333333 & 0.25000000 & 0.20000000 & 0.16666667 & 0.14285714 & 0.12500000 & 0.11111111 & 0.10000000\\\\\n",
       "\t 0.09090909 & 0.08333333 & 0.07692308 & 0.07142857 & 0.06666667 & 0.06250000 & 0.05882353 & 0.05555556 & 0.05263158 & 0.05000000\\\\\n",
       "\t 0.04761905 & 0.04545455 & 0.04347826 & 0.04166667 & 0.04000000 & 0.03846154 & 0.03703704 & 0.03571429 & 0.03448276 & 0.03333333\\\\\n",
       "\t 0.03225806 & 0.03125000 & 0.03030303 & 0.02941176 & 0.02857143 & 0.02777778 & 0.02702703 & 0.02631579 & 0.02564103 & 0.02500000\\\\\n",
       "\t 0.02439024 & 0.02380952 & 0.02325581 & 0.02272727 & 0.02222222 & 0.02173913 & 0.02127660 & 0.02083333 & 0.02040816 & 0.02000000\\\\\n",
       "\\end{tabular}\n"
      ],
      "text/markdown": [
       "\n",
       "| 1.00000000 | 0.50000000 | 0.33333333 | 0.25000000 | 0.20000000 | 0.16666667 | 0.14285714 | 0.12500000 | 0.11111111 | 0.10000000 |\n",
       "| 0.09090909 | 0.08333333 | 0.07692308 | 0.07142857 | 0.06666667 | 0.06250000 | 0.05882353 | 0.05555556 | 0.05263158 | 0.05000000 |\n",
       "| 0.04761905 | 0.04545455 | 0.04347826 | 0.04166667 | 0.04000000 | 0.03846154 | 0.03703704 | 0.03571429 | 0.03448276 | 0.03333333 |\n",
       "| 0.03225806 | 0.03125000 | 0.03030303 | 0.02941176 | 0.02857143 | 0.02777778 | 0.02702703 | 0.02631579 | 0.02564103 | 0.02500000 |\n",
       "| 0.02439024 | 0.02380952 | 0.02325581 | 0.02272727 | 0.02222222 | 0.02173913 | 0.02127660 | 0.02083333 | 0.02040816 | 0.02000000 |\n",
       "\n"
      ],
      "text/plain": [
       "     [,1]       [,2]       [,3]       [,4]       [,5]       [,6]      \n",
       "[1,] 1.00000000 0.50000000 0.33333333 0.25000000 0.20000000 0.16666667\n",
       "[2,] 0.09090909 0.08333333 0.07692308 0.07142857 0.06666667 0.06250000\n",
       "[3,] 0.04761905 0.04545455 0.04347826 0.04166667 0.04000000 0.03846154\n",
       "[4,] 0.03225806 0.03125000 0.03030303 0.02941176 0.02857143 0.02777778\n",
       "[5,] 0.02439024 0.02380952 0.02325581 0.02272727 0.02222222 0.02173913\n",
       "     [,7]       [,8]       [,9]       [,10]     \n",
       "[1,] 0.14285714 0.12500000 0.11111111 0.10000000\n",
       "[2,] 0.05882353 0.05555556 0.05263158 0.05000000\n",
       "[3,] 0.03703704 0.03571429 0.03448276 0.03333333\n",
       "[4,] 0.02702703 0.02631579 0.02564103 0.02500000\n",
       "[5,] 0.02127660 0.02083333 0.02040816 0.02000000"
      ]
     },
     "metadata": {},
     "output_type": "display_data"
    }
   ],
   "source": [
    "# Division (reciprocal)\n",
    "1/mat"
   ]
  },
  {
   "cell_type": "code",
   "execution_count": 4,
   "id": "declared-activity",
   "metadata": {},
   "outputs": [
    {
     "data": {
      "text/html": [
       "<table>\n",
       "<tbody>\n",
       "\t<tr><td> 0.5</td><td> 1  </td><td> 1.5</td><td> 2  </td><td> 2.5</td><td> 3  </td><td> 3.5</td><td> 4  </td><td> 4.5</td><td> 5  </td></tr>\n",
       "\t<tr><td> 5.5</td><td> 6  </td><td> 6.5</td><td> 7  </td><td> 7.5</td><td> 8  </td><td> 8.5</td><td> 9  </td><td> 9.5</td><td>10  </td></tr>\n",
       "\t<tr><td>10.5</td><td>11  </td><td>11.5</td><td>12  </td><td>12.5</td><td>13  </td><td>13.5</td><td>14  </td><td>14.5</td><td>15  </td></tr>\n",
       "\t<tr><td>15.5</td><td>16  </td><td>16.5</td><td>17  </td><td>17.5</td><td>18  </td><td>18.5</td><td>19  </td><td>19.5</td><td>20  </td></tr>\n",
       "\t<tr><td>20.5</td><td>21  </td><td>21.5</td><td>22  </td><td>22.5</td><td>23  </td><td>23.5</td><td>24  </td><td>24.5</td><td>25  </td></tr>\n",
       "</tbody>\n",
       "</table>\n"
      ],
      "text/latex": [
       "\\begin{tabular}{llllllllll}\n",
       "\t  0.5 &  1   &  1.5 &  2   &  2.5 &  3   &  3.5 &  4   &  4.5 &  5  \\\\\n",
       "\t  5.5 &  6   &  6.5 &  7   &  7.5 &  8   &  8.5 &  9   &  9.5 & 10  \\\\\n",
       "\t 10.5 & 11   & 11.5 & 12   & 12.5 & 13   & 13.5 & 14   & 14.5 & 15  \\\\\n",
       "\t 15.5 & 16   & 16.5 & 17   & 17.5 & 18   & 18.5 & 19   & 19.5 & 20  \\\\\n",
       "\t 20.5 & 21   & 21.5 & 22   & 22.5 & 23   & 23.5 & 24   & 24.5 & 25  \\\\\n",
       "\\end{tabular}\n"
      ],
      "text/markdown": [
       "\n",
       "|  0.5 |  1   |  1.5 |  2   |  2.5 |  3   |  3.5 |  4   |  4.5 |  5   |\n",
       "|  5.5 |  6   |  6.5 |  7   |  7.5 |  8   |  8.5 |  9   |  9.5 | 10   |\n",
       "| 10.5 | 11   | 11.5 | 12   | 12.5 | 13   | 13.5 | 14   | 14.5 | 15   |\n",
       "| 15.5 | 16   | 16.5 | 17   | 17.5 | 18   | 18.5 | 19   | 19.5 | 20   |\n",
       "| 20.5 | 21   | 21.5 | 22   | 22.5 | 23   | 23.5 | 24   | 24.5 | 25   |\n",
       "\n"
      ],
      "text/plain": [
       "     [,1] [,2] [,3] [,4] [,5] [,6] [,7] [,8] [,9] [,10]\n",
       "[1,]  0.5  1    1.5  2    2.5  3    3.5  4    4.5  5   \n",
       "[2,]  5.5  6    6.5  7    7.5  8    8.5  9    9.5 10   \n",
       "[3,] 10.5 11   11.5 12   12.5 13   13.5 14   14.5 15   \n",
       "[4,] 15.5 16   16.5 17   17.5 18   18.5 19   19.5 20   \n",
       "[5,] 20.5 21   21.5 22   22.5 23   23.5 24   24.5 25   "
      ]
     },
     "metadata": {},
     "output_type": "display_data"
    }
   ],
   "source": [
    "# Division\n",
    "mat/2"
   ]
  },
  {
   "cell_type": "code",
   "execution_count": 5,
   "id": "supported-plaintiff",
   "metadata": {},
   "outputs": [
    {
     "data": {
      "text/html": [
       "<table>\n",
       "<tbody>\n",
       "\t<tr><td>   1</td><td>   4</td><td>   9</td><td>  16</td><td>  25</td><td>  36</td><td>  49</td><td>  64</td><td>  81</td><td> 100</td></tr>\n",
       "\t<tr><td> 121</td><td> 144</td><td> 169</td><td> 196</td><td> 225</td><td> 256</td><td> 289</td><td> 324</td><td> 361</td><td> 400</td></tr>\n",
       "\t<tr><td> 441</td><td> 484</td><td> 529</td><td> 576</td><td> 625</td><td> 676</td><td> 729</td><td> 784</td><td> 841</td><td> 900</td></tr>\n",
       "\t<tr><td> 961</td><td>1024</td><td>1089</td><td>1156</td><td>1225</td><td>1296</td><td>1369</td><td>1444</td><td>1521</td><td>1600</td></tr>\n",
       "\t<tr><td>1681</td><td>1764</td><td>1849</td><td>1936</td><td>2025</td><td>2116</td><td>2209</td><td>2304</td><td>2401</td><td>2500</td></tr>\n",
       "</tbody>\n",
       "</table>\n"
      ],
      "text/latex": [
       "\\begin{tabular}{llllllllll}\n",
       "\t    1 &    4 &    9 &   16 &   25 &   36 &   49 &   64 &   81 &  100\\\\\n",
       "\t  121 &  144 &  169 &  196 &  225 &  256 &  289 &  324 &  361 &  400\\\\\n",
       "\t  441 &  484 &  529 &  576 &  625 &  676 &  729 &  784 &  841 &  900\\\\\n",
       "\t  961 & 1024 & 1089 & 1156 & 1225 & 1296 & 1369 & 1444 & 1521 & 1600\\\\\n",
       "\t 1681 & 1764 & 1849 & 1936 & 2025 & 2116 & 2209 & 2304 & 2401 & 2500\\\\\n",
       "\\end{tabular}\n"
      ],
      "text/markdown": [
       "\n",
       "|    1 |    4 |    9 |   16 |   25 |   36 |   49 |   64 |   81 |  100 |\n",
       "|  121 |  144 |  169 |  196 |  225 |  256 |  289 |  324 |  361 |  400 |\n",
       "|  441 |  484 |  529 |  576 |  625 |  676 |  729 |  784 |  841 |  900 |\n",
       "|  961 | 1024 | 1089 | 1156 | 1225 | 1296 | 1369 | 1444 | 1521 | 1600 |\n",
       "| 1681 | 1764 | 1849 | 1936 | 2025 | 2116 | 2209 | 2304 | 2401 | 2500 |\n",
       "\n"
      ],
      "text/plain": [
       "     [,1] [,2] [,3] [,4] [,5] [,6] [,7] [,8] [,9] [,10]\n",
       "[1,]    1    4    9   16   25   36   49   64   81  100 \n",
       "[2,]  121  144  169  196  225  256  289  324  361  400 \n",
       "[3,]  441  484  529  576  625  676  729  784  841  900 \n",
       "[4,]  961 1024 1089 1156 1225 1296 1369 1444 1521 1600 \n",
       "[5,] 1681 1764 1849 1936 2025 2116 2209 2304 2401 2500 "
      ]
     },
     "metadata": {},
     "output_type": "display_data"
    }
   ],
   "source": [
    "# Power\n",
    "mat ^ 2"
   ]
  },
  {
   "cell_type": "markdown",
   "id": "separate-smooth",
   "metadata": {},
   "source": [
    "## Comparison operators with matrices"
   ]
  },
  {
   "cell_type": "code",
   "execution_count": 6,
   "id": "marine-feature",
   "metadata": {},
   "outputs": [
    {
     "data": {
      "text/html": [
       "<table>\n",
       "<tbody>\n",
       "\t<tr><td>FALSE</td><td>FALSE</td><td>FALSE</td><td>FALSE</td><td>FALSE</td><td>FALSE</td><td>FALSE</td><td>FALSE</td><td>FALSE</td><td>FALSE</td></tr>\n",
       "\t<tr><td>FALSE</td><td>FALSE</td><td>FALSE</td><td>FALSE</td><td>FALSE</td><td>FALSE</td><td>FALSE</td><td> TRUE</td><td> TRUE</td><td> TRUE</td></tr>\n",
       "\t<tr><td> TRUE</td><td> TRUE</td><td> TRUE</td><td> TRUE</td><td> TRUE</td><td> TRUE</td><td> TRUE</td><td> TRUE</td><td> TRUE</td><td> TRUE</td></tr>\n",
       "\t<tr><td> TRUE</td><td> TRUE</td><td> TRUE</td><td> TRUE</td><td> TRUE</td><td> TRUE</td><td> TRUE</td><td> TRUE</td><td> TRUE</td><td> TRUE</td></tr>\n",
       "\t<tr><td> TRUE</td><td> TRUE</td><td> TRUE</td><td> TRUE</td><td> TRUE</td><td> TRUE</td><td> TRUE</td><td> TRUE</td><td> TRUE</td><td> TRUE</td></tr>\n",
       "</tbody>\n",
       "</table>\n"
      ],
      "text/latex": [
       "\\begin{tabular}{llllllllll}\n",
       "\t FALSE & FALSE & FALSE & FALSE & FALSE & FALSE & FALSE & FALSE & FALSE & FALSE\\\\\n",
       "\t FALSE & FALSE & FALSE & FALSE & FALSE & FALSE & FALSE &  TRUE &  TRUE &  TRUE\\\\\n",
       "\t  TRUE &  TRUE &  TRUE &  TRUE &  TRUE &  TRUE &  TRUE &  TRUE &  TRUE &  TRUE\\\\\n",
       "\t  TRUE &  TRUE &  TRUE &  TRUE &  TRUE &  TRUE &  TRUE &  TRUE &  TRUE &  TRUE\\\\\n",
       "\t  TRUE &  TRUE &  TRUE &  TRUE &  TRUE &  TRUE &  TRUE &  TRUE &  TRUE &  TRUE\\\\\n",
       "\\end{tabular}\n"
      ],
      "text/markdown": [
       "\n",
       "| FALSE | FALSE | FALSE | FALSE | FALSE | FALSE | FALSE | FALSE | FALSE | FALSE |\n",
       "| FALSE | FALSE | FALSE | FALSE | FALSE | FALSE | FALSE |  TRUE |  TRUE |  TRUE |\n",
       "|  TRUE |  TRUE |  TRUE |  TRUE |  TRUE |  TRUE |  TRUE |  TRUE |  TRUE |  TRUE |\n",
       "|  TRUE |  TRUE |  TRUE |  TRUE |  TRUE |  TRUE |  TRUE |  TRUE |  TRUE |  TRUE |\n",
       "|  TRUE |  TRUE |  TRUE |  TRUE |  TRUE |  TRUE |  TRUE |  TRUE |  TRUE |  TRUE |\n",
       "\n"
      ],
      "text/plain": [
       "     [,1]  [,2]  [,3]  [,4]  [,5]  [,6]  [,7]  [,8]  [,9]  [,10]\n",
       "[1,] FALSE FALSE FALSE FALSE FALSE FALSE FALSE FALSE FALSE FALSE\n",
       "[2,] FALSE FALSE FALSE FALSE FALSE FALSE FALSE  TRUE  TRUE  TRUE\n",
       "[3,]  TRUE  TRUE  TRUE  TRUE  TRUE  TRUE  TRUE  TRUE  TRUE  TRUE\n",
       "[4,]  TRUE  TRUE  TRUE  TRUE  TRUE  TRUE  TRUE  TRUE  TRUE  TRUE\n",
       "[5,]  TRUE  TRUE  TRUE  TRUE  TRUE  TRUE  TRUE  TRUE  TRUE  TRUE"
      ]
     },
     "metadata": {},
     "output_type": "display_data"
    }
   ],
   "source": [
    "mat > 17"
   ]
  },
  {
   "cell_type": "code",
   "execution_count": 7,
   "id": "educational-bowling",
   "metadata": {},
   "outputs": [
    {
     "data": {
      "text/html": [
       "<table>\n",
       "<tbody>\n",
       "\t<tr><td> 2 </td><td> 4 </td><td> 6 </td><td> 8 </td><td>10 </td><td>12 </td><td>14 </td><td>16 </td><td>18 </td><td> 20</td></tr>\n",
       "\t<tr><td>22 </td><td>24 </td><td>26 </td><td>28 </td><td>30 </td><td>32 </td><td>34 </td><td>36 </td><td>38 </td><td> 40</td></tr>\n",
       "\t<tr><td>42 </td><td>44 </td><td>46 </td><td>48 </td><td>50 </td><td>52 </td><td>54 </td><td>56 </td><td>58 </td><td> 60</td></tr>\n",
       "\t<tr><td>62 </td><td>64 </td><td>66 </td><td>68 </td><td>70 </td><td>72 </td><td>74 </td><td>76 </td><td>78 </td><td> 80</td></tr>\n",
       "\t<tr><td>82 </td><td>84 </td><td>86 </td><td>88 </td><td>90 </td><td>92 </td><td>94 </td><td>96 </td><td>98 </td><td>100</td></tr>\n",
       "</tbody>\n",
       "</table>\n"
      ],
      "text/latex": [
       "\\begin{tabular}{llllllllll}\n",
       "\t  2  &  4  &  6  &  8  & 10  & 12  & 14  & 16  & 18  &  20\\\\\n",
       "\t 22  & 24  & 26  & 28  & 30  & 32  & 34  & 36  & 38  &  40\\\\\n",
       "\t 42  & 44  & 46  & 48  & 50  & 52  & 54  & 56  & 58  &  60\\\\\n",
       "\t 62  & 64  & 66  & 68  & 70  & 72  & 74  & 76  & 78  &  80\\\\\n",
       "\t 82  & 84  & 86  & 88  & 90  & 92  & 94  & 96  & 98  & 100\\\\\n",
       "\\end{tabular}\n"
      ],
      "text/markdown": [
       "\n",
       "|  2  |  4  |  6  |  8  | 10  | 12  | 14  | 16  | 18  |  20 |\n",
       "| 22  | 24  | 26  | 28  | 30  | 32  | 34  | 36  | 38  |  40 |\n",
       "| 42  | 44  | 46  | 48  | 50  | 52  | 54  | 56  | 58  |  60 |\n",
       "| 62  | 64  | 66  | 68  | 70  | 72  | 74  | 76  | 78  |  80 |\n",
       "| 82  | 84  | 86  | 88  | 90  | 92  | 94  | 96  | 98  | 100 |\n",
       "\n"
      ],
      "text/plain": [
       "     [,1] [,2] [,3] [,4] [,5] [,6] [,7] [,8] [,9] [,10]\n",
       "[1,]  2    4    6    8   10   12   14   16   18    20  \n",
       "[2,] 22   24   26   28   30   32   34   36   38    40  \n",
       "[3,] 42   44   46   48   50   52   54   56   58    60  \n",
       "[4,] 62   64   66   68   70   72   74   76   78    80  \n",
       "[5,] 82   84   86   88   90   92   94   96   98   100  "
      ]
     },
     "metadata": {},
     "output_type": "display_data"
    }
   ],
   "source": [
    "# Matrix Arithmetic with multiple matrices\n",
    "# We can use multiple matrices with arithmetic as well, for example:\n",
    "mat + mat\n"
   ]
  },
  {
   "cell_type": "code",
   "execution_count": 8,
   "id": "native-apple",
   "metadata": {},
   "outputs": [
    {
     "data": {
      "text/html": [
       "<table>\n",
       "<tbody>\n",
       "\t<tr><td>1</td><td>1</td><td>1</td><td>1</td><td>1</td><td>1</td><td>1</td><td>1</td><td>1</td><td>1</td></tr>\n",
       "\t<tr><td>1</td><td>1</td><td>1</td><td>1</td><td>1</td><td>1</td><td>1</td><td>1</td><td>1</td><td>1</td></tr>\n",
       "\t<tr><td>1</td><td>1</td><td>1</td><td>1</td><td>1</td><td>1</td><td>1</td><td>1</td><td>1</td><td>1</td></tr>\n",
       "\t<tr><td>1</td><td>1</td><td>1</td><td>1</td><td>1</td><td>1</td><td>1</td><td>1</td><td>1</td><td>1</td></tr>\n",
       "\t<tr><td>1</td><td>1</td><td>1</td><td>1</td><td>1</td><td>1</td><td>1</td><td>1</td><td>1</td><td>1</td></tr>\n",
       "</tbody>\n",
       "</table>\n"
      ],
      "text/latex": [
       "\\begin{tabular}{llllllllll}\n",
       "\t 1 & 1 & 1 & 1 & 1 & 1 & 1 & 1 & 1 & 1\\\\\n",
       "\t 1 & 1 & 1 & 1 & 1 & 1 & 1 & 1 & 1 & 1\\\\\n",
       "\t 1 & 1 & 1 & 1 & 1 & 1 & 1 & 1 & 1 & 1\\\\\n",
       "\t 1 & 1 & 1 & 1 & 1 & 1 & 1 & 1 & 1 & 1\\\\\n",
       "\t 1 & 1 & 1 & 1 & 1 & 1 & 1 & 1 & 1 & 1\\\\\n",
       "\\end{tabular}\n"
      ],
      "text/markdown": [
       "\n",
       "| 1 | 1 | 1 | 1 | 1 | 1 | 1 | 1 | 1 | 1 |\n",
       "| 1 | 1 | 1 | 1 | 1 | 1 | 1 | 1 | 1 | 1 |\n",
       "| 1 | 1 | 1 | 1 | 1 | 1 | 1 | 1 | 1 | 1 |\n",
       "| 1 | 1 | 1 | 1 | 1 | 1 | 1 | 1 | 1 | 1 |\n",
       "| 1 | 1 | 1 | 1 | 1 | 1 | 1 | 1 | 1 | 1 |\n",
       "\n"
      ],
      "text/plain": [
       "     [,1] [,2] [,3] [,4] [,5] [,6] [,7] [,8] [,9] [,10]\n",
       "[1,] 1    1    1    1    1    1    1    1    1    1    \n",
       "[2,] 1    1    1    1    1    1    1    1    1    1    \n",
       "[3,] 1    1    1    1    1    1    1    1    1    1    \n",
       "[4,] 1    1    1    1    1    1    1    1    1    1    \n",
       "[5,] 1    1    1    1    1    1    1    1    1    1    "
      ]
     },
     "metadata": {},
     "output_type": "display_data"
    }
   ],
   "source": [
    "mat / mat"
   ]
  },
  {
   "cell_type": "code",
   "execution_count": 9,
   "id": "included-transcript",
   "metadata": {},
   "outputs": [
    {
     "data": {
      "text/html": [
       "<table>\n",
       "<tbody>\n",
       "\t<tr><td>1.000000e+00</td><td>4.000000e+00</td><td>2.700000e+01</td><td>2.560000e+02</td><td>3.125000e+03</td><td>4.665600e+04</td><td>8.235430e+05</td><td>1.677722e+07</td><td>3.874205e+08</td><td>1.000000e+10</td></tr>\n",
       "\t<tr><td>2.853117e+11</td><td>8.916100e+12</td><td>3.028751e+14</td><td>1.111201e+16</td><td>4.378939e+17</td><td>1.844674e+19</td><td>8.272403e+20</td><td>3.934641e+22</td><td>1.978420e+24</td><td>1.048576e+26</td></tr>\n",
       "\t<tr><td>5.842587e+27</td><td>3.414279e+29</td><td>2.088047e+31</td><td>1.333736e+33</td><td>8.881784e+34</td><td>6.156120e+36</td><td>4.434265e+38</td><td>3.314552e+40</td><td>2.567686e+42</td><td>2.058911e+44</td></tr>\n",
       "\t<tr><td>1.706917e+46</td><td>1.461502e+48</td><td>1.291100e+50</td><td>1.175664e+52</td><td>1.102507e+54</td><td>1.063874e+56</td><td>1.055513e+58</td><td>1.075912e+60</td><td>1.125951e+62</td><td>1.208926e+64</td></tr>\n",
       "\t<tr><td>1.330878e+66</td><td>1.501309e+68</td><td>1.734377e+70</td><td>2.050774e+72</td><td>2.480636e+74</td><td>3.068035e+76</td><td>3.877924e+78</td><td>5.007021e+80</td><td>6.600972e+82</td><td>8.881784e+84</td></tr>\n",
       "</tbody>\n",
       "</table>\n"
      ],
      "text/latex": [
       "\\begin{tabular}{llllllllll}\n",
       "\t 1.000000e+00 & 4.000000e+00 & 2.700000e+01 & 2.560000e+02 & 3.125000e+03 & 4.665600e+04 & 8.235430e+05 & 1.677722e+07 & 3.874205e+08 & 1.000000e+10\\\\\n",
       "\t 2.853117e+11 & 8.916100e+12 & 3.028751e+14 & 1.111201e+16 & 4.378939e+17 & 1.844674e+19 & 8.272403e+20 & 3.934641e+22 & 1.978420e+24 & 1.048576e+26\\\\\n",
       "\t 5.842587e+27 & 3.414279e+29 & 2.088047e+31 & 1.333736e+33 & 8.881784e+34 & 6.156120e+36 & 4.434265e+38 & 3.314552e+40 & 2.567686e+42 & 2.058911e+44\\\\\n",
       "\t 1.706917e+46 & 1.461502e+48 & 1.291100e+50 & 1.175664e+52 & 1.102507e+54 & 1.063874e+56 & 1.055513e+58 & 1.075912e+60 & 1.125951e+62 & 1.208926e+64\\\\\n",
       "\t 1.330878e+66 & 1.501309e+68 & 1.734377e+70 & 2.050774e+72 & 2.480636e+74 & 3.068035e+76 & 3.877924e+78 & 5.007021e+80 & 6.600972e+82 & 8.881784e+84\\\\\n",
       "\\end{tabular}\n"
      ],
      "text/markdown": [
       "\n",
       "| 1.000000e+00 | 4.000000e+00 | 2.700000e+01 | 2.560000e+02 | 3.125000e+03 | 4.665600e+04 | 8.235430e+05 | 1.677722e+07 | 3.874205e+08 | 1.000000e+10 |\n",
       "| 2.853117e+11 | 8.916100e+12 | 3.028751e+14 | 1.111201e+16 | 4.378939e+17 | 1.844674e+19 | 8.272403e+20 | 3.934641e+22 | 1.978420e+24 | 1.048576e+26 |\n",
       "| 5.842587e+27 | 3.414279e+29 | 2.088047e+31 | 1.333736e+33 | 8.881784e+34 | 6.156120e+36 | 4.434265e+38 | 3.314552e+40 | 2.567686e+42 | 2.058911e+44 |\n",
       "| 1.706917e+46 | 1.461502e+48 | 1.291100e+50 | 1.175664e+52 | 1.102507e+54 | 1.063874e+56 | 1.055513e+58 | 1.075912e+60 | 1.125951e+62 | 1.208926e+64 |\n",
       "| 1.330878e+66 | 1.501309e+68 | 1.734377e+70 | 2.050774e+72 | 2.480636e+74 | 3.068035e+76 | 3.877924e+78 | 5.007021e+80 | 6.600972e+82 | 8.881784e+84 |\n",
       "\n"
      ],
      "text/plain": [
       "     [,1]         [,2]         [,3]         [,4]         [,5]        \n",
       "[1,] 1.000000e+00 4.000000e+00 2.700000e+01 2.560000e+02 3.125000e+03\n",
       "[2,] 2.853117e+11 8.916100e+12 3.028751e+14 1.111201e+16 4.378939e+17\n",
       "[3,] 5.842587e+27 3.414279e+29 2.088047e+31 1.333736e+33 8.881784e+34\n",
       "[4,] 1.706917e+46 1.461502e+48 1.291100e+50 1.175664e+52 1.102507e+54\n",
       "[5,] 1.330878e+66 1.501309e+68 1.734377e+70 2.050774e+72 2.480636e+74\n",
       "     [,6]         [,7]         [,8]         [,9]         [,10]       \n",
       "[1,] 4.665600e+04 8.235430e+05 1.677722e+07 3.874205e+08 1.000000e+10\n",
       "[2,] 1.844674e+19 8.272403e+20 3.934641e+22 1.978420e+24 1.048576e+26\n",
       "[3,] 6.156120e+36 4.434265e+38 3.314552e+40 2.567686e+42 2.058911e+44\n",
       "[4,] 1.063874e+56 1.055513e+58 1.075912e+60 1.125951e+62 1.208926e+64\n",
       "[5,] 3.068035e+76 3.877924e+78 5.007021e+80 6.600972e+82 8.881784e+84"
      ]
     },
     "metadata": {},
     "output_type": "display_data"
    }
   ],
   "source": [
    "mat ^ mat\n"
   ]
  },
  {
   "cell_type": "markdown",
   "id": "comic-insight",
   "metadata": {},
   "source": [
    "## Matrix multiplication"
   ]
  },
  {
   "cell_type": "markdown",
   "id": "little-tunnel",
   "metadata": {},
   "source": [
    "A quick side note on matrix multiplications. You can perform arithmetic multiplication on an element by element basis using the * sign in R. You should note this is not the same as Matrix Multiplication. If you are familiar with the mathematics behind this topic and want to use R to perform true matrix multiplication, you can use the following:"
   ]
  },
  {
   "cell_type": "code",
   "execution_count": 11,
   "id": "checked-tutorial",
   "metadata": {},
   "outputs": [
    {
     "data": {
      "text/html": [
       "<table>\n",
       "<tbody>\n",
       "\t<tr><td>1</td><td>4</td><td>7</td></tr>\n",
       "\t<tr><td>2</td><td>5</td><td>8</td></tr>\n",
       "\t<tr><td>3</td><td>6</td><td>9</td></tr>\n",
       "</tbody>\n",
       "</table>\n"
      ],
      "text/latex": [
       "\\begin{tabular}{lll}\n",
       "\t 1 & 4 & 7\\\\\n",
       "\t 2 & 5 & 8\\\\\n",
       "\t 3 & 6 & 9\\\\\n",
       "\\end{tabular}\n"
      ],
      "text/markdown": [
       "\n",
       "| 1 | 4 | 7 |\n",
       "| 2 | 5 | 8 |\n",
       "| 3 | 6 | 9 |\n",
       "\n"
      ],
      "text/plain": [
       "     [,1] [,2] [,3]\n",
       "[1,] 1    4    7   \n",
       "[2,] 2    5    8   \n",
       "[3,] 3    6    9   "
      ]
     },
     "metadata": {},
     "output_type": "display_data"
    }
   ],
   "source": [
    "mat2 <- matrix(1:9, nrow=3)\n",
    "mat2"
   ]
  },
  {
   "cell_type": "code",
   "execution_count": 12,
   "id": "diverse-subscription",
   "metadata": {},
   "outputs": [
    {
     "data": {
      "text/html": [
       "<table>\n",
       "<tbody>\n",
       "\t<tr><td>30 </td><td>66 </td><td>102</td></tr>\n",
       "\t<tr><td>36 </td><td>81 </td><td>126</td></tr>\n",
       "\t<tr><td>42 </td><td>96 </td><td>150</td></tr>\n",
       "</tbody>\n",
       "</table>\n"
      ],
      "text/latex": [
       "\\begin{tabular}{lll}\n",
       "\t 30  & 66  & 102\\\\\n",
       "\t 36  & 81  & 126\\\\\n",
       "\t 42  & 96  & 150\\\\\n",
       "\\end{tabular}\n"
      ],
      "text/markdown": [
       "\n",
       "| 30  | 66  | 102 |\n",
       "| 36  | 81  | 126 |\n",
       "| 42  | 96  | 150 |\n",
       "\n"
      ],
      "text/plain": [
       "     [,1] [,2] [,3]\n",
       "[1,] 30   66   102 \n",
       "[2,] 36   81   126 \n",
       "[3,] 42   96   150 "
      ]
     },
     "metadata": {},
     "output_type": "display_data"
    }
   ],
   "source": [
    "# True Matrix Multiplication\n",
    "mat2 %*% mat2"
   ]
  }
 ],
 "metadata": {
  "kernelspec": {
   "display_name": "R",
   "language": "R",
   "name": "ir"
  },
  "language_info": {
   "codemirror_mode": "r",
   "file_extension": ".r",
   "mimetype": "text/x-r-source",
   "name": "R",
   "pygments_lexer": "r",
   "version": "3.6.1"
  }
 },
 "nbformat": 4,
 "nbformat_minor": 5
}
