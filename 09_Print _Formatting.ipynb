{
 "cells": [
  {
   "cell_type": "markdown",
   "id": "stylish-morris",
   "metadata": {},
   "source": [
    "# Print Formatting"
   ]
  },
  {
   "cell_type": "code",
   "execution_count": 1,
   "id": "attractive-michael",
   "metadata": {},
   "outputs": [
    {
     "name": "stdout",
     "output_type": "stream",
     "text": [
      "[1] \"hello\"\n"
     ]
    }
   ],
   "source": [
    "# We can use the print() function to print out variables or strings:\n",
    "print(\"hello\")\n"
   ]
  },
  {
   "cell_type": "code",
   "execution_count": 2,
   "id": "fourth-indication",
   "metadata": {},
   "outputs": [
    {
     "name": "stdout",
     "output_type": "stream",
     "text": [
      "[1] 10\n"
     ]
    }
   ],
   "source": [
    "x <- 10\n",
    "print(x)"
   ]
  },
  {
   "cell_type": "code",
   "execution_count": 3,
   "id": "restricted-deadline",
   "metadata": {},
   "outputs": [
    {
     "name": "stdout",
     "output_type": "stream",
     "text": [
      "                     mpg cyl  disp  hp drat    wt  qsec vs am gear carb\n",
      "Mazda RX4           21.0   6 160.0 110 3.90 2.620 16.46  0  1    4    4\n",
      "Mazda RX4 Wag       21.0   6 160.0 110 3.90 2.875 17.02  0  1    4    4\n",
      "Datsun 710          22.8   4 108.0  93 3.85 2.320 18.61  1  1    4    1\n",
      "Hornet 4 Drive      21.4   6 258.0 110 3.08 3.215 19.44  1  0    3    1\n",
      "Hornet Sportabout   18.7   8 360.0 175 3.15 3.440 17.02  0  0    3    2\n",
      "Valiant             18.1   6 225.0 105 2.76 3.460 20.22  1  0    3    1\n",
      "Duster 360          14.3   8 360.0 245 3.21 3.570 15.84  0  0    3    4\n",
      "Merc 240D           24.4   4 146.7  62 3.69 3.190 20.00  1  0    4    2\n",
      "Merc 230            22.8   4 140.8  95 3.92 3.150 22.90  1  0    4    2\n",
      "Merc 280            19.2   6 167.6 123 3.92 3.440 18.30  1  0    4    4\n",
      "Merc 280C           17.8   6 167.6 123 3.92 3.440 18.90  1  0    4    4\n",
      "Merc 450SE          16.4   8 275.8 180 3.07 4.070 17.40  0  0    3    3\n",
      "Merc 450SL          17.3   8 275.8 180 3.07 3.730 17.60  0  0    3    3\n",
      "Merc 450SLC         15.2   8 275.8 180 3.07 3.780 18.00  0  0    3    3\n",
      "Cadillac Fleetwood  10.4   8 472.0 205 2.93 5.250 17.98  0  0    3    4\n",
      "Lincoln Continental 10.4   8 460.0 215 3.00 5.424 17.82  0  0    3    4\n",
      "Chrysler Imperial   14.7   8 440.0 230 3.23 5.345 17.42  0  0    3    4\n",
      "Fiat 128            32.4   4  78.7  66 4.08 2.200 19.47  1  1    4    1\n",
      "Honda Civic         30.4   4  75.7  52 4.93 1.615 18.52  1  1    4    2\n",
      "Toyota Corolla      33.9   4  71.1  65 4.22 1.835 19.90  1  1    4    1\n",
      "Toyota Corona       21.5   4 120.1  97 3.70 2.465 20.01  1  0    3    1\n",
      "Dodge Challenger    15.5   8 318.0 150 2.76 3.520 16.87  0  0    3    2\n",
      "AMC Javelin         15.2   8 304.0 150 3.15 3.435 17.30  0  0    3    2\n",
      "Camaro Z28          13.3   8 350.0 245 3.73 3.840 15.41  0  0    3    4\n",
      "Pontiac Firebird    19.2   8 400.0 175 3.08 3.845 17.05  0  0    3    2\n",
      "Fiat X1-9           27.3   4  79.0  66 4.08 1.935 18.90  1  1    4    1\n",
      "Porsche 914-2       26.0   4 120.3  91 4.43 2.140 16.70  0  1    5    2\n",
      "Lotus Europa        30.4   4  95.1 113 3.77 1.513 16.90  1  1    5    2\n",
      "Ford Pantera L      15.8   8 351.0 264 4.22 3.170 14.50  0  1    5    4\n",
      "Ferrari Dino        19.7   6 145.0 175 3.62 2.770 15.50  0  1    5    6\n",
      "Maserati Bora       15.0   8 301.0 335 3.54 3.570 14.60  0  1    5    8\n",
      "Volvo 142E          21.4   4 121.0 109 4.11 2.780 18.60  1  1    4    2\n"
     ]
    }
   ],
   "source": [
    "x <- mtcars\n",
    "print(mtcars)"
   ]
  },
  {
   "cell_type": "markdown",
   "id": "closed-finder",
   "metadata": {},
   "source": [
    "## Formatting"
   ]
  },
  {
   "cell_type": "markdown",
   "id": "driving-algebra",
   "metadata": {},
   "source": [
    "## paste()"
   ]
  },
  {
   "cell_type": "markdown",
   "id": "macro-tampa",
   "metadata": {},
   "source": [
    "paste (..., sep = \" \")"
   ]
  },
  {
   "cell_type": "code",
   "execution_count": 4,
   "id": "cooked-defendant",
   "metadata": {},
   "outputs": [
    {
     "name": "stdout",
     "output_type": "stream",
     "text": [
      "[1] \"hello world\"\n"
     ]
    }
   ],
   "source": [
    "# Where ... are the things you want to paste and sep is the separator you want between the pasted items, by default it is a space. For example:\n",
    "print(paste('hello','world'))"
   ]
  },
  {
   "cell_type": "code",
   "execution_count": 5,
   "id": "nominated-punishment",
   "metadata": {},
   "outputs": [
    {
     "name": "stdout",
     "output_type": "stream",
     "text": [
      "[1] \"hello-|-world\"\n"
     ]
    }
   ],
   "source": [
    "print(paste('hello','world',sep='-|-'))"
   ]
  },
  {
   "cell_type": "markdown",
   "id": "naughty-plaza",
   "metadata": {},
   "source": [
    "## paste0()"
   ]
  },
  {
   "cell_type": "markdown",
   "id": "republican-boulder",
   "metadata": {},
   "source": [
    "paste0(..., collapse) is equivalent to paste(..., sep = \"\", collapse), slightly more efficiently."
   ]
  },
  {
   "cell_type": "code",
   "execution_count": 6,
   "id": "perfect-suite",
   "metadata": {},
   "outputs": [
    {
     "data": {
      "text/html": [
       "'helloworld'"
      ],
      "text/latex": [
       "'helloworld'"
      ],
      "text/markdown": [
       "'helloworld'"
      ],
      "text/plain": [
       "[1] \"helloworld\""
      ]
     },
     "metadata": {},
     "output_type": "display_data"
    }
   ],
   "source": [
    "paste0('hello','world')"
   ]
  },
  {
   "cell_type": "markdown",
   "id": "intense-gabriel",
   "metadata": {},
   "source": [
    "## sprintf()"
   ]
  },
  {
   "cell_type": "markdown",
   "id": "instrumental-shareware",
   "metadata": {},
   "source": [
    "srpintf() is a wrapper for the C function sprintf, that returns a character vector containing a formatted combination of text and variable values. Meaning you can use % codes to place in variables by specifying all of them at the end. This is best shown through example:"
   ]
  },
  {
   "cell_type": "code",
   "execution_count": 7,
   "id": "regional-import",
   "metadata": {},
   "outputs": [
    {
     "data": {
      "text/html": [
       "'Sven is 7.100000 feet tall\\n'"
      ],
      "text/latex": [
       "'Sven is 7.100000 feet tall\\textbackslash{}n'"
      ],
      "text/markdown": [
       "'Sven is 7.100000 feet tall\\n'"
      ],
      "text/plain": [
       "[1] \"Sven is 7.100000 feet tall\\n\""
      ]
     },
     "metadata": {},
     "output_type": "display_data"
    }
   ],
   "source": [
    "sprintf(\"%s is %f feet tall\\n\", \"Sven\", 7.1)"
   ]
  },
  {
   "cell_type": "code",
   "execution_count": 8,
   "id": "surface-contrary",
   "metadata": {},
   "outputs": [
    {
     "ename": "ERROR",
     "evalue": "Error in sprintf(\"%s is %i feet tall\\n\", \"Sven\", 7.1): invalid format '%i'; use format %f, %e, %g or %a for numeric objects\n",
     "output_type": "error",
     "traceback": [
      "Error in sprintf(\"%s is %i feet tall\\n\", \"Sven\", 7.1): invalid format '%i'; use format %f, %e, %g or %a for numeric objects\nTraceback:\n",
      "1. sprintf(\"%s is %i feet tall\\n\", \"Sven\", 7.1)"
     ]
    }
   ],
   "source": [
    "# THIS WILL PRODUCE AN ERROR BECAUSE 7.1 is a float, not an integer\n",
    "sprintf(\"%s is %i feet tall\\n\", \"Sven\", 7.1)"
   ]
  },
  {
   "cell_type": "code",
   "execution_count": 9,
   "id": "coastal-yield",
   "metadata": {},
   "outputs": [],
   "source": [
    "help(sprintf)"
   ]
  }
 ],
 "metadata": {
  "kernelspec": {
   "display_name": "R",
   "language": "R",
   "name": "ir"
  },
  "language_info": {
   "codemirror_mode": "r",
   "file_extension": ".r",
   "mimetype": "text/x-r-source",
   "name": "R",
   "pygments_lexer": "r",
   "version": "3.6.1"
  }
 },
 "nbformat": 4,
 "nbformat_minor": 5
}
