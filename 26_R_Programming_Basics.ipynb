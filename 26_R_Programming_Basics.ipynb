{
 "cells": [
  {
   "cell_type": "markdown",
   "id": "generous-archives",
   "metadata": {},
   "source": [
    "# Logical Operators"
   ]
  },
  {
   "cell_type": "markdown",
   "id": "extensive-gospel",
   "metadata": {},
   "source": [
    "Logical Operators will allow us to combine multiple comparison operators. The logical operators we will learn about are:\n",
    "\n",
    "- AND - &\n",
    "- OR - |\n",
    "- NOT - !"
   ]
  },
  {
   "cell_type": "code",
   "execution_count": 1,
   "id": "offshore-michigan",
   "metadata": {},
   "outputs": [
    {
     "data": {
      "text/html": [
       "TRUE"
      ],
      "text/latex": [
       "TRUE"
      ],
      "text/markdown": [
       "TRUE"
      ],
      "text/plain": [
       "[1] TRUE"
      ]
     },
     "metadata": {},
     "output_type": "display_data"
    }
   ],
   "source": [
    "x <- 10\n",
    "x < 20 & x > 5"
   ]
  },
  {
   "cell_type": "code",
   "execution_count": 2,
   "id": "eastern-beaver",
   "metadata": {},
   "outputs": [
    {
     "data": {
      "text/html": [
       "TRUE"
      ],
      "text/latex": [
       "TRUE"
      ],
      "text/markdown": [
       "TRUE"
      ],
      "text/plain": [
       "[1] TRUE"
      ]
     },
     "metadata": {},
     "output_type": "display_data"
    }
   ],
   "source": [
    "(x < 20) & (x>5)"
   ]
  },
  {
   "cell_type": "code",
   "execution_count": 3,
   "id": "naval-bidder",
   "metadata": {},
   "outputs": [
    {
     "data": {
      "text/html": [
       "TRUE"
      ],
      "text/latex": [
       "TRUE"
      ],
      "text/markdown": [
       "TRUE"
      ],
      "text/plain": [
       "[1] TRUE"
      ]
     },
     "metadata": {},
     "output_type": "display_data"
    }
   ],
   "source": [
    "(x < 20) & (x>5) & (x == 10)"
   ]
  },
  {
   "cell_type": "markdown",
   "id": "documentary-specification",
   "metadata": {},
   "source": [
    "## NOT !"
   ]
  },
  {
   "cell_type": "code",
   "execution_count": 4,
   "id": "opening-notion",
   "metadata": {},
   "outputs": [
    {
     "data": {
      "text/html": [
       "FALSE"
      ],
      "text/latex": [
       "FALSE"
      ],
      "text/markdown": [
       "FALSE"
      ],
      "text/plain": [
       "[1] FALSE"
      ]
     },
     "metadata": {},
     "output_type": "display_data"
    }
   ],
   "source": [
    "(10==1)\n"
   ]
  },
  {
   "cell_type": "code",
   "execution_count": 5,
   "id": "occupied-oxide",
   "metadata": {},
   "outputs": [
    {
     "data": {
      "text/html": [
       "TRUE"
      ],
      "text/latex": [
       "TRUE"
      ],
      "text/markdown": [
       "TRUE"
      ],
      "text/plain": [
       "[1] TRUE"
      ]
     },
     "metadata": {},
     "output_type": "display_data"
    }
   ],
   "source": [
    "!(10==1)"
   ]
  },
  {
   "cell_type": "code",
   "execution_count": 6,
   "id": "labeled-newspaper",
   "metadata": {},
   "outputs": [
    {
     "data": {
      "text/html": [
       "FALSE"
      ],
      "text/latex": [
       "FALSE"
      ],
      "text/markdown": [
       "FALSE"
      ],
      "text/plain": [
       "[1] FALSE"
      ]
     },
     "metadata": {},
     "output_type": "display_data"
    }
   ],
   "source": [
    "# We can stack them (pretty uncommon, but possible)\n",
    "!!(10==1)"
   ]
  },
  {
   "cell_type": "code",
   "execution_count": 7,
   "id": "noble-monitor",
   "metadata": {},
   "outputs": [
    {
     "data": {
      "text/html": [
       "<table>\n",
       "<thead><tr><th></th><th scope=col>mpg</th><th scope=col>cyl</th><th scope=col>disp</th><th scope=col>hp</th><th scope=col>drat</th><th scope=col>wt</th><th scope=col>qsec</th><th scope=col>vs</th><th scope=col>am</th><th scope=col>gear</th><th scope=col>carb</th></tr></thead>\n",
       "<tbody>\n",
       "\t<tr><th scope=row>Mazda RX4</th><td>21.0 </td><td>6    </td><td>160.0</td><td>110  </td><td>3.90 </td><td>2.620</td><td>16.46</td><td>0    </td><td>1    </td><td>4    </td><td>4    </td></tr>\n",
       "\t<tr><th scope=row>Mazda RX4 Wag</th><td>21.0 </td><td>6    </td><td>160.0</td><td>110  </td><td>3.90 </td><td>2.875</td><td>17.02</td><td>0    </td><td>1    </td><td>4    </td><td>4    </td></tr>\n",
       "\t<tr><th scope=row>Datsun 710</th><td>22.8 </td><td>4    </td><td>108.0</td><td> 93  </td><td>3.85 </td><td>2.320</td><td>18.61</td><td>1    </td><td>1    </td><td>4    </td><td>1    </td></tr>\n",
       "\t<tr><th scope=row>Hornet 4 Drive</th><td>21.4 </td><td>6    </td><td>258.0</td><td>110  </td><td>3.08 </td><td>3.215</td><td>19.44</td><td>1    </td><td>0    </td><td>3    </td><td>1    </td></tr>\n",
       "\t<tr><th scope=row>Merc 240D</th><td>24.4 </td><td>4    </td><td>146.7</td><td> 62  </td><td>3.69 </td><td>3.190</td><td>20.00</td><td>1    </td><td>0    </td><td>4    </td><td>2    </td></tr>\n",
       "\t<tr><th scope=row>Merc 230</th><td>22.8 </td><td>4    </td><td>140.8</td><td> 95  </td><td>3.92 </td><td>3.150</td><td>22.90</td><td>1    </td><td>0    </td><td>4    </td><td>2    </td></tr>\n",
       "\t<tr><th scope=row>Fiat 128</th><td>32.4 </td><td>4    </td><td> 78.7</td><td> 66  </td><td>4.08 </td><td>2.200</td><td>19.47</td><td>1    </td><td>1    </td><td>4    </td><td>1    </td></tr>\n",
       "\t<tr><th scope=row>Honda Civic</th><td>30.4 </td><td>4    </td><td> 75.7</td><td> 52  </td><td>4.93 </td><td>1.615</td><td>18.52</td><td>1    </td><td>1    </td><td>4    </td><td>2    </td></tr>\n",
       "\t<tr><th scope=row>Toyota Corolla</th><td>33.9 </td><td>4    </td><td> 71.1</td><td> 65  </td><td>4.22 </td><td>1.835</td><td>19.90</td><td>1    </td><td>1    </td><td>4    </td><td>1    </td></tr>\n",
       "\t<tr><th scope=row>Toyota Corona</th><td>21.5 </td><td>4    </td><td>120.1</td><td> 97  </td><td>3.70 </td><td>2.465</td><td>20.01</td><td>1    </td><td>0    </td><td>3    </td><td>1    </td></tr>\n",
       "\t<tr><th scope=row>Fiat X1-9</th><td>27.3 </td><td>4    </td><td> 79.0</td><td> 66  </td><td>4.08 </td><td>1.935</td><td>18.90</td><td>1    </td><td>1    </td><td>4    </td><td>1    </td></tr>\n",
       "\t<tr><th scope=row>Porsche 914-2</th><td>26.0 </td><td>4    </td><td>120.3</td><td> 91  </td><td>4.43 </td><td>2.140</td><td>16.70</td><td>0    </td><td>1    </td><td>5    </td><td>2    </td></tr>\n",
       "\t<tr><th scope=row>Lotus Europa</th><td>30.4 </td><td>4    </td><td> 95.1</td><td>113  </td><td>3.77 </td><td>1.513</td><td>16.90</td><td>1    </td><td>1    </td><td>5    </td><td>2    </td></tr>\n",
       "\t<tr><th scope=row>Volvo 142E</th><td>21.4 </td><td>4    </td><td>121.0</td><td>109  </td><td>4.11 </td><td>2.780</td><td>18.60</td><td>1    </td><td>1    </td><td>4    </td><td>2    </td></tr>\n",
       "</tbody>\n",
       "</table>\n"
      ],
      "text/latex": [
       "\\begin{tabular}{r|lllllllllll}\n",
       "  & mpg & cyl & disp & hp & drat & wt & qsec & vs & am & gear & carb\\\\\n",
       "\\hline\n",
       "\tMazda RX4 & 21.0  & 6     & 160.0 & 110   & 3.90  & 2.620 & 16.46 & 0     & 1     & 4     & 4    \\\\\n",
       "\tMazda RX4 Wag & 21.0  & 6     & 160.0 & 110   & 3.90  & 2.875 & 17.02 & 0     & 1     & 4     & 4    \\\\\n",
       "\tDatsun 710 & 22.8  & 4     & 108.0 &  93   & 3.85  & 2.320 & 18.61 & 1     & 1     & 4     & 1    \\\\\n",
       "\tHornet 4 Drive & 21.4  & 6     & 258.0 & 110   & 3.08  & 3.215 & 19.44 & 1     & 0     & 3     & 1    \\\\\n",
       "\tMerc 240D & 24.4  & 4     & 146.7 &  62   & 3.69  & 3.190 & 20.00 & 1     & 0     & 4     & 2    \\\\\n",
       "\tMerc 230 & 22.8  & 4     & 140.8 &  95   & 3.92  & 3.150 & 22.90 & 1     & 0     & 4     & 2    \\\\\n",
       "\tFiat 128 & 32.4  & 4     &  78.7 &  66   & 4.08  & 2.200 & 19.47 & 1     & 1     & 4     & 1    \\\\\n",
       "\tHonda Civic & 30.4  & 4     &  75.7 &  52   & 4.93  & 1.615 & 18.52 & 1     & 1     & 4     & 2    \\\\\n",
       "\tToyota Corolla & 33.9  & 4     &  71.1 &  65   & 4.22  & 1.835 & 19.90 & 1     & 1     & 4     & 1    \\\\\n",
       "\tToyota Corona & 21.5  & 4     & 120.1 &  97   & 3.70  & 2.465 & 20.01 & 1     & 0     & 3     & 1    \\\\\n",
       "\tFiat X1-9 & 27.3  & 4     &  79.0 &  66   & 4.08  & 1.935 & 18.90 & 1     & 1     & 4     & 1    \\\\\n",
       "\tPorsche 914-2 & 26.0  & 4     & 120.3 &  91   & 4.43  & 2.140 & 16.70 & 0     & 1     & 5     & 2    \\\\\n",
       "\tLotus Europa & 30.4  & 4     &  95.1 & 113   & 3.77  & 1.513 & 16.90 & 1     & 1     & 5     & 2    \\\\\n",
       "\tVolvo 142E & 21.4  & 4     & 121.0 & 109   & 4.11  & 2.780 & 18.60 & 1     & 1     & 4     & 2    \\\\\n",
       "\\end{tabular}\n"
      ],
      "text/markdown": [
       "\n",
       "| <!--/--> | mpg | cyl | disp | hp | drat | wt | qsec | vs | am | gear | carb |\n",
       "|---|---|---|---|---|---|---|---|---|---|---|---|\n",
       "| Mazda RX4 | 21.0  | 6     | 160.0 | 110   | 3.90  | 2.620 | 16.46 | 0     | 1     | 4     | 4     |\n",
       "| Mazda RX4 Wag | 21.0  | 6     | 160.0 | 110   | 3.90  | 2.875 | 17.02 | 0     | 1     | 4     | 4     |\n",
       "| Datsun 710 | 22.8  | 4     | 108.0 |  93   | 3.85  | 2.320 | 18.61 | 1     | 1     | 4     | 1     |\n",
       "| Hornet 4 Drive | 21.4  | 6     | 258.0 | 110   | 3.08  | 3.215 | 19.44 | 1     | 0     | 3     | 1     |\n",
       "| Merc 240D | 24.4  | 4     | 146.7 |  62   | 3.69  | 3.190 | 20.00 | 1     | 0     | 4     | 2     |\n",
       "| Merc 230 | 22.8  | 4     | 140.8 |  95   | 3.92  | 3.150 | 22.90 | 1     | 0     | 4     | 2     |\n",
       "| Fiat 128 | 32.4  | 4     |  78.7 |  66   | 4.08  | 2.200 | 19.47 | 1     | 1     | 4     | 1     |\n",
       "| Honda Civic | 30.4  | 4     |  75.7 |  52   | 4.93  | 1.615 | 18.52 | 1     | 1     | 4     | 2     |\n",
       "| Toyota Corolla | 33.9  | 4     |  71.1 |  65   | 4.22  | 1.835 | 19.90 | 1     | 1     | 4     | 1     |\n",
       "| Toyota Corona | 21.5  | 4     | 120.1 |  97   | 3.70  | 2.465 | 20.01 | 1     | 0     | 3     | 1     |\n",
       "| Fiat X1-9 | 27.3  | 4     |  79.0 |  66   | 4.08  | 1.935 | 18.90 | 1     | 1     | 4     | 1     |\n",
       "| Porsche 914-2 | 26.0  | 4     | 120.3 |  91   | 4.43  | 2.140 | 16.70 | 0     | 1     | 5     | 2     |\n",
       "| Lotus Europa | 30.4  | 4     |  95.1 | 113   | 3.77  | 1.513 | 16.90 | 1     | 1     | 5     | 2     |\n",
       "| Volvo 142E | 21.4  | 4     | 121.0 | 109   | 4.11  | 2.780 | 18.60 | 1     | 1     | 4     | 2     |\n",
       "\n"
      ],
      "text/plain": [
       "               mpg  cyl disp  hp  drat wt    qsec  vs am gear carb\n",
       "Mazda RX4      21.0 6   160.0 110 3.90 2.620 16.46 0  1  4    4   \n",
       "Mazda RX4 Wag  21.0 6   160.0 110 3.90 2.875 17.02 0  1  4    4   \n",
       "Datsun 710     22.8 4   108.0  93 3.85 2.320 18.61 1  1  4    1   \n",
       "Hornet 4 Drive 21.4 6   258.0 110 3.08 3.215 19.44 1  0  3    1   \n",
       "Merc 240D      24.4 4   146.7  62 3.69 3.190 20.00 1  0  4    2   \n",
       "Merc 230       22.8 4   140.8  95 3.92 3.150 22.90 1  0  4    2   \n",
       "Fiat 128       32.4 4    78.7  66 4.08 2.200 19.47 1  1  4    1   \n",
       "Honda Civic    30.4 4    75.7  52 4.93 1.615 18.52 1  1  4    2   \n",
       "Toyota Corolla 33.9 4    71.1  65 4.22 1.835 19.90 1  1  4    1   \n",
       "Toyota Corona  21.5 4   120.1  97 3.70 2.465 20.01 1  0  3    1   \n",
       "Fiat X1-9      27.3 4    79.0  66 4.08 1.935 18.90 1  1  4    1   \n",
       "Porsche 914-2  26.0 4   120.3  91 4.43 2.140 16.70 0  1  5    2   \n",
       "Lotus Europa   30.4 4    95.1 113 3.77 1.513 16.90 1  1  5    2   \n",
       "Volvo 142E     21.4 4   121.0 109 4.11 2.780 18.60 1  1  4    2   "
      ]
     },
     "metadata": {},
     "output_type": "display_data"
    }
   ],
   "source": [
    "df <- mtcars\n",
    "df[df['mpg'] >= 20,] # Notice the use of indexing with the comma\n",
    "# subset(df,mpg>=20) # Could also use subset"
   ]
  },
  {
   "cell_type": "code",
   "execution_count": 8,
   "id": "posted-digest",
   "metadata": {},
   "outputs": [
    {
     "data": {
      "text/html": [
       "<table>\n",
       "<thead><tr><th></th><th scope=col>mpg</th><th scope=col>cyl</th><th scope=col>disp</th><th scope=col>hp</th><th scope=col>drat</th><th scope=col>wt</th><th scope=col>qsec</th><th scope=col>vs</th><th scope=col>am</th><th scope=col>gear</th><th scope=col>carb</th></tr></thead>\n",
       "<tbody>\n",
       "\t<tr><th scope=row>Mazda RX4</th><td>21.0 </td><td>6    </td><td>160.0</td><td>110  </td><td>3.90 </td><td>2.620</td><td>16.46</td><td>0    </td><td>1    </td><td>4    </td><td>4    </td></tr>\n",
       "\t<tr><th scope=row>Mazda RX4 Wag</th><td>21.0 </td><td>6    </td><td>160.0</td><td>110  </td><td>3.90 </td><td>2.875</td><td>17.02</td><td>0    </td><td>1    </td><td>4    </td><td>4    </td></tr>\n",
       "\t<tr><th scope=row>Hornet 4 Drive</th><td>21.4 </td><td>6    </td><td>258.0</td><td>110  </td><td>3.08 </td><td>3.215</td><td>19.44</td><td>1    </td><td>0    </td><td>3    </td><td>1    </td></tr>\n",
       "\t<tr><th scope=row>Lotus Europa</th><td>30.4 </td><td>4    </td><td> 95.1</td><td>113  </td><td>3.77 </td><td>1.513</td><td>16.90</td><td>1    </td><td>1    </td><td>5    </td><td>2    </td></tr>\n",
       "\t<tr><th scope=row>Volvo 142E</th><td>21.4 </td><td>4    </td><td>121.0</td><td>109  </td><td>4.11 </td><td>2.780</td><td>18.60</td><td>1    </td><td>1    </td><td>4    </td><td>2    </td></tr>\n",
       "</tbody>\n",
       "</table>\n"
      ],
      "text/latex": [
       "\\begin{tabular}{r|lllllllllll}\n",
       "  & mpg & cyl & disp & hp & drat & wt & qsec & vs & am & gear & carb\\\\\n",
       "\\hline\n",
       "\tMazda RX4 & 21.0  & 6     & 160.0 & 110   & 3.90  & 2.620 & 16.46 & 0     & 1     & 4     & 4    \\\\\n",
       "\tMazda RX4 Wag & 21.0  & 6     & 160.0 & 110   & 3.90  & 2.875 & 17.02 & 0     & 1     & 4     & 4    \\\\\n",
       "\tHornet 4 Drive & 21.4  & 6     & 258.0 & 110   & 3.08  & 3.215 & 19.44 & 1     & 0     & 3     & 1    \\\\\n",
       "\tLotus Europa & 30.4  & 4     &  95.1 & 113   & 3.77  & 1.513 & 16.90 & 1     & 1     & 5     & 2    \\\\\n",
       "\tVolvo 142E & 21.4  & 4     & 121.0 & 109   & 4.11  & 2.780 & 18.60 & 1     & 1     & 4     & 2    \\\\\n",
       "\\end{tabular}\n"
      ],
      "text/markdown": [
       "\n",
       "| <!--/--> | mpg | cyl | disp | hp | drat | wt | qsec | vs | am | gear | carb |\n",
       "|---|---|---|---|---|---|---|---|---|---|---|---|\n",
       "| Mazda RX4 | 21.0  | 6     | 160.0 | 110   | 3.90  | 2.620 | 16.46 | 0     | 1     | 4     | 4     |\n",
       "| Mazda RX4 Wag | 21.0  | 6     | 160.0 | 110   | 3.90  | 2.875 | 17.02 | 0     | 1     | 4     | 4     |\n",
       "| Hornet 4 Drive | 21.4  | 6     | 258.0 | 110   | 3.08  | 3.215 | 19.44 | 1     | 0     | 3     | 1     |\n",
       "| Lotus Europa | 30.4  | 4     |  95.1 | 113   | 3.77  | 1.513 | 16.90 | 1     | 1     | 5     | 2     |\n",
       "| Volvo 142E | 21.4  | 4     | 121.0 | 109   | 4.11  | 2.780 | 18.60 | 1     | 1     | 4     | 2     |\n",
       "\n"
      ],
      "text/plain": [
       "               mpg  cyl disp  hp  drat wt    qsec  vs am gear carb\n",
       "Mazda RX4      21.0 6   160.0 110 3.90 2.620 16.46 0  1  4    4   \n",
       "Mazda RX4 Wag  21.0 6   160.0 110 3.90 2.875 17.02 0  1  4    4   \n",
       "Hornet 4 Drive 21.4 6   258.0 110 3.08 3.215 19.44 1  0  3    1   \n",
       "Lotus Europa   30.4 4    95.1 113 3.77 1.513 16.90 1  1  5    2   \n",
       "Volvo 142E     21.4 4   121.0 109 4.11 2.780 18.60 1  1  4    2   "
      ]
     },
     "metadata": {},
     "output_type": "display_data"
    }
   ],
   "source": [
    "df[(df['mpg'] >= 20) & (df['hp'] > 100),]"
   ]
  },
  {
   "cell_type": "markdown",
   "id": "exclusive-spotlight",
   "metadata": {},
   "source": [
    "## Logical Operators with Vectors"
   ]
  },
  {
   "cell_type": "code",
   "execution_count": 9,
   "id": "accepting-future",
   "metadata": {},
   "outputs": [],
   "source": [
    "tf <- c(TRUE,FALSE)\n",
    "tt <- c(TRUE,TRUE)\n",
    "ft <- c(FALSE, TRUE)"
   ]
  },
  {
   "cell_type": "code",
   "execution_count": 10,
   "id": "expected-karen",
   "metadata": {},
   "outputs": [
    {
     "data": {
      "text/html": [
       "<ol class=list-inline>\n",
       "\t<li>TRUE</li>\n",
       "\t<li>FALSE</li>\n",
       "</ol>\n"
      ],
      "text/latex": [
       "\\begin{enumerate*}\n",
       "\\item TRUE\n",
       "\\item FALSE\n",
       "\\end{enumerate*}\n"
      ],
      "text/markdown": [
       "1. TRUE\n",
       "2. FALSE\n",
       "\n",
       "\n"
      ],
      "text/plain": [
       "[1]  TRUE FALSE"
      ]
     },
     "metadata": {},
     "output_type": "display_data"
    }
   ],
   "source": [
    "tt & tf"
   ]
  },
  {
   "cell_type": "code",
   "execution_count": 11,
   "id": "determined-transport",
   "metadata": {},
   "outputs": [
    {
     "data": {
      "text/html": [
       "<ol class=list-inline>\n",
       "\t<li>TRUE</li>\n",
       "\t<li>TRUE</li>\n",
       "</ol>\n"
      ],
      "text/latex": [
       "\\begin{enumerate*}\n",
       "\\item TRUE\n",
       "\\item TRUE\n",
       "\\end{enumerate*}\n"
      ],
      "text/markdown": [
       "1. TRUE\n",
       "2. TRUE\n",
       "\n",
       "\n"
      ],
      "text/plain": [
       "[1] TRUE TRUE"
      ]
     },
     "metadata": {},
     "output_type": "display_data"
    }
   ],
   "source": [
    "tt | tf"
   ]
  },
  {
   "cell_type": "markdown",
   "id": "gentle-finder",
   "metadata": {},
   "source": [
    "# if, else, else if Statements"
   ]
  },
  {
   "cell_type": "markdown",
   "id": "heated-republic",
   "metadata": {},
   "source": [
    "Here is the syntax for an if statement in R:\n",
    "\n",
    "if (condition){\n",
    "    # Execute some code\n",
    "}"
   ]
  },
  {
   "cell_type": "code",
   "execution_count": 12,
   "id": "floral-panama",
   "metadata": {},
   "outputs": [
    {
     "data": {
      "text/html": [
       "FALSE"
      ],
      "text/latex": [
       "FALSE"
      ],
      "text/markdown": [
       "FALSE"
      ],
      "text/plain": [
       "[1] FALSE"
      ]
     },
     "metadata": {},
     "output_type": "display_data"
    }
   ],
   "source": [
    "hot <- FALSE\n",
    "temp <- 60\n",
    "\n",
    "if (temp > 80){\n",
    "    hot <- TRUE\n",
    "    \n",
    "}\n",
    "hot\n"
   ]
  },
  {
   "cell_type": "code",
   "execution_count": 13,
   "id": "helpful-accident",
   "metadata": {},
   "outputs": [
    {
     "data": {
      "text/html": [
       "TRUE"
      ],
      "text/latex": [
       "TRUE"
      ],
      "text/markdown": [
       "TRUE"
      ],
      "text/plain": [
       "[1] TRUE"
      ]
     },
     "metadata": {},
     "output_type": "display_data"
    }
   ],
   "source": [
    "# Reset temp\n",
    "temp <- 100\n",
    "\n",
    "if (temp > 80){\n",
    "    hot <- TRUE\n",
    "    \n",
    "}\n",
    "\n",
    "hot"
   ]
  },
  {
   "cell_type": "code",
   "execution_count": 14,
   "id": "stunning-husband",
   "metadata": {},
   "outputs": [
    {
     "name": "stdout",
     "output_type": "stream",
     "text": [
      "[1] \"hi\"\n"
     ]
    }
   ],
   "source": [
    "if( 1 == 1){\n",
    "    print('hi')}"
   ]
  },
  {
   "cell_type": "markdown",
   "id": "related-seller",
   "metadata": {},
   "source": [
    "## else"
   ]
  },
  {
   "cell_type": "markdown",
   "id": "indie-profile",
   "metadata": {},
   "source": [
    "if (condition) {\n",
    "\n",
    "     Code to execute if true\n",
    "   \n",
    "} else {\n",
    "\n",
    "     Code to execute if above was not true\n",
    "   \n",
    "}"
   ]
  },
  {
   "cell_type": "code",
   "execution_count": 16,
   "id": "aggregate-exhaust",
   "metadata": {},
   "outputs": [
    {
     "name": "stdout",
     "output_type": "stream",
     "text": [
      "[1] \"Its not too hot today!\"\n"
     ]
    }
   ],
   "source": [
    "temp <- 30\n",
    "\n",
    "if (temp > 90){\n",
    "    print(\"Hot outside!\")\n",
    "} else{\n",
    "    print(\"Its not too hot today!\")\n",
    "}"
   ]
  },
  {
   "cell_type": "markdown",
   "id": "disciplinary-sense",
   "metadata": {},
   "source": [
    "## else if"
   ]
  },
  {
   "cell_type": "code",
   "execution_count": 17,
   "id": "efficient-actor",
   "metadata": {},
   "outputs": [
    {
     "name": "stdout",
     "output_type": "stream",
     "text": [
      "[1] \"Its really cold outside!\"\n"
     ]
    }
   ],
   "source": [
    "temp <- 30\n",
    "\n",
    "if (temp > 80){\n",
    "    print(\"Hot outside!\")\n",
    "} else if(temp<80 & temp>50){\n",
    "    print('Nice outside!')\n",
    "} else if(temp <50 & temp > 32){\n",
    "    print(\"Its cooler outside!\")\n",
    "} else{\n",
    "    print(\"Its really cold outside!\")\n",
    "}"
   ]
  },
  {
   "cell_type": "code",
   "execution_count": 18,
   "id": "whole-monroe",
   "metadata": {},
   "outputs": [
    {
     "name": "stdout",
     "output_type": "stream",
     "text": [
      "[1] \"Nice outside!\"\n"
     ]
    }
   ],
   "source": [
    "temp <- 75\n",
    "\n",
    "if (temp > 80){\n",
    "    print(\"Hot outside!\")\n",
    "} else if(temp<80 & temp>50){\n",
    "    print('Nice outside!')\n",
    "} else if(temp <50 & temp > 32){\n",
    "    print(\"Its cooler outside!\")\n",
    "} else{\n",
    "    print(\"Its really cold outside!\")\n",
    "}"
   ]
  },
  {
   "cell_type": "code",
   "execution_count": 19,
   "id": "essential-captain",
   "metadata": {},
   "outputs": [
    {
     "name": "stdout",
     "output_type": "stream",
     "text": [
      "[1] \"Strong sales of both items\"\n"
     ]
    }
   ],
   "source": [
    "# Items sold that day\n",
    "ham <- 10\n",
    "cheese <- 10\n",
    "\n",
    "# Report to HQ\n",
    "report <- 'blank'\n",
    "\n",
    "\n",
    "if(ham >= 10 & cheese >= 10){\n",
    "    report <- \"Strong sales of both items\"\n",
    "    \n",
    "}else if(ham == 0 & cheese == 0){\n",
    "    report <- \"Nothing sold!\"\n",
    "}else{\n",
    "    report <- 'We had some sales'\n",
    "}\n",
    "print(report)"
   ]
  },
  {
   "cell_type": "markdown",
   "id": "processed-income",
   "metadata": {},
   "source": [
    "# while loops"
   ]
  },
  {
   "cell_type": "markdown",
   "id": "comic-process",
   "metadata": {},
   "source": [
    "**while** loops are a while to have your program continuously run some block of code until a condition is met (made TRUE). The syntax is:\n",
    "\n",
    "while (condition){\n",
    "    # Code executed here \n",
    "    # while condition is true\n",
    "}"
   ]
  },
  {
   "cell_type": "code",
   "execution_count": 20,
   "id": "reduced-marble",
   "metadata": {},
   "outputs": [
    {
     "name": "stdout",
     "output_type": "stream",
     "text": [
      "x is currently:  0[1] \" x is still less than 10, adding 1 to x\"\n",
      "x is currently:  1[1] \" x is still less than 10, adding 1 to x\"\n",
      "x is currently:  2[1] \" x is still less than 10, adding 1 to x\"\n",
      "x is currently:  3[1] \" x is still less than 10, adding 1 to x\"\n",
      "x is currently:  4[1] \" x is still less than 10, adding 1 to x\"\n",
      "x is currently:  5[1] \" x is still less than 10, adding 1 to x\"\n",
      "x is currently:  6[1] \" x is still less than 10, adding 1 to x\"\n",
      "x is currently:  7[1] \" x is still less than 10, adding 1 to x\"\n",
      "x is currently:  8[1] \" x is still less than 10, adding 1 to x\"\n",
      "x is currently:  9[1] \" x is still less than 10, adding 1 to x\"\n"
     ]
    }
   ],
   "source": [
    "x <- 0\n",
    "\n",
    "while(x < 10){\n",
    "    \n",
    "    cat('x is currently: ',x)\n",
    "    print(' x is still less than 10, adding 1 to x')\n",
    "    \n",
    "    # add one to x\n",
    "    x <- x+1\n",
    "}"
   ]
  },
  {
   "cell_type": "code",
   "execution_count": 21,
   "id": "convinced-reserve",
   "metadata": {},
   "outputs": [
    {
     "name": "stdout",
     "output_type": "stream",
     "text": [
      "x is currently:  0[1] \" x is still less than 10, adding 1 to x\"\n",
      "x is currently:  1[1] \" x is still less than 10, adding 1 to x\"\n",
      "x is currently:  2[1] \" x is still less than 10, adding 1 to x\"\n",
      "x is currently:  3[1] \" x is still less than 10, adding 1 to x\"\n",
      "x is currently:  4[1] \" x is still less than 10, adding 1 to x\"\n",
      "x is currently:  5[1] \" x is still less than 10, adding 1 to x\"\n",
      "x is currently:  6[1] \" x is still less than 10, adding 1 to x\"\n",
      "x is currently:  7[1] \" x is still less than 10, adding 1 to x\"\n",
      "x is currently:  8[1] \" x is still less than 10, adding 1 to x\"\n",
      "x is currently:  9[1] \" x is still less than 10, adding 1 to x\"\n",
      "[1] \"x is equal to 10! Terminating loop\"\n"
     ]
    }
   ],
   "source": [
    "x <- 0\n",
    "\n",
    "while(x < 10){\n",
    "    \n",
    "    cat('x is currently: ',x)\n",
    "    print(' x is still less than 10, adding 1 to x')\n",
    "    \n",
    "    # add one to x\n",
    "    x <- x+1\n",
    "    if(x==10){\n",
    "        print(\"x is equal to 10! Terminating loop\")\n",
    "    }\n",
    "}\n"
   ]
  },
  {
   "cell_type": "markdown",
   "id": "canadian-lotus",
   "metadata": {},
   "source": [
    "## break"
   ]
  },
  {
   "cell_type": "markdown",
   "id": "emerging-brooks",
   "metadata": {},
   "source": [
    "You can use break to break out of a loop. Previously we showed an if statement checking for 10, but this wasn't actually stopping the loop, the while condition check on the next run stopped the loop, let's show an example where we could use break to terminate the loop:"
   ]
  },
  {
   "cell_type": "code",
   "execution_count": 22,
   "id": "occupational-month",
   "metadata": {},
   "outputs": [
    {
     "name": "stdout",
     "output_type": "stream",
     "text": [
      "x is currently:  0[1] \" x is still less than 10, adding 1 to x\"\n",
      "x is currently:  1[1] \" x is still less than 10, adding 1 to x\"\n",
      "x is currently:  2[1] \" x is still less than 10, adding 1 to x\"\n",
      "x is currently:  3[1] \" x is still less than 10, adding 1 to x\"\n",
      "x is currently:  4[1] \" x is still less than 10, adding 1 to x\"\n",
      "x is currently:  5[1] \" x is still less than 10, adding 1 to x\"\n",
      "x is currently:  6[1] \" x is still less than 10, adding 1 to x\"\n",
      "x is currently:  7[1] \" x is still less than 10, adding 1 to x\"\n",
      "x is currently:  8[1] \" x is still less than 10, adding 1 to x\"\n",
      "x is currently:  9[1] \" x is still less than 10, adding 1 to x\"\n",
      "[1] \"x is equal to 10!\"\n",
      "[1] \"I will also print, woohoo!\"\n"
     ]
    }
   ],
   "source": [
    "x <- 0\n",
    "\n",
    "while(x < 10){\n",
    "    \n",
    "    cat('x is currently: ',x)\n",
    "    print(' x is still less than 10, adding 1 to x')\n",
    "    \n",
    "    # add one to x\n",
    "    x <- x+1\n",
    "    if(x==10){\n",
    "        print(\"x is equal to 10!\")\n",
    "        print(\"I will also print, woohoo!\")\n",
    "    }\n",
    "}"
   ]
  },
  {
   "cell_type": "code",
   "execution_count": 23,
   "id": "sunset-enhancement",
   "metadata": {},
   "outputs": [
    {
     "name": "stdout",
     "output_type": "stream",
     "text": [
      "x is currently:  0[1] \" x is still less than 10, adding 1 to x\"\n",
      "x is currently:  1[1] \" x is still less than 10, adding 1 to x\"\n",
      "x is currently:  2[1] \" x is still less than 10, adding 1 to x\"\n",
      "x is currently:  3[1] \" x is still less than 10, adding 1 to x\"\n",
      "x is currently:  4[1] \" x is still less than 10, adding 1 to x\"\n",
      "x is currently:  5[1] \" x is still less than 10, adding 1 to x\"\n",
      "x is currently:  6[1] \" x is still less than 10, adding 1 to x\"\n",
      "x is currently:  7[1] \" x is still less than 10, adding 1 to x\"\n",
      "x is currently:  8[1] \" x is still less than 10, adding 1 to x\"\n",
      "x is currently:  9[1] \" x is still less than 10, adding 1 to x\"\n",
      "[1] \"x is equal to 10!\"\n"
     ]
    }
   ],
   "source": [
    "x <- 0\n",
    "\n",
    "while(x < 10){\n",
    "    \n",
    "    cat('x is currently: ',x)\n",
    "    print(' x is still less than 10, adding 1 to x')\n",
    "    \n",
    "    # add one to x\n",
    "    x <- x+1\n",
    "    if(x==10){\n",
    "        print(\"x is equal to 10!\")\n",
    "        break\n",
    "        print(\"I will also print, woohoo!\")\n",
    "    }\n",
    "}"
   ]
  },
  {
   "cell_type": "markdown",
   "id": "promotional-diamond",
   "metadata": {},
   "source": [
    "Notice how the break stopped the \"I will also print, woohoo!\" from occuring. You can use this as an internal check inside a while loop to stop is based off some other condition.\n",
    "\n"
   ]
  },
  {
   "cell_type": "markdown",
   "id": "retained-mailing",
   "metadata": {},
   "source": [
    "# for loops"
   ]
  },
  {
   "cell_type": "markdown",
   "id": "compliant-value",
   "metadata": {},
   "source": [
    "A for loop allows us to iterate over an object (such as a vector) and we can then perform and execute blocks of codes for every loop we go through. The syntax for a for loop is:\n",
    "\n",
    "for (temporary_variable in object){\n",
    "    # Execute some code at every loop\n",
    "}"
   ]
  },
  {
   "cell_type": "markdown",
   "id": "diverse-foundation",
   "metadata": {},
   "source": [
    "## For loop over a vector"
   ]
  },
  {
   "cell_type": "code",
   "execution_count": 24,
   "id": "printable-agent",
   "metadata": {},
   "outputs": [
    {
     "name": "stdout",
     "output_type": "stream",
     "text": [
      "[1] 1\n",
      "[1] 2\n",
      "[1] 3\n",
      "[1] 4\n",
      "[1] 5\n"
     ]
    }
   ],
   "source": [
    "vec <- c(1,2,3,4,5)\n",
    "for (temp_var in vec){\n",
    "    print(temp_var)\n",
    "}"
   ]
  },
  {
   "cell_type": "code",
   "execution_count": 25,
   "id": "collaborative-portrait",
   "metadata": {},
   "outputs": [
    {
     "name": "stdout",
     "output_type": "stream",
     "text": [
      "[1] 1\n",
      "[1] 2\n",
      "[1] 3\n",
      "[1] 4\n",
      "[1] 5\n"
     ]
    }
   ],
   "source": [
    "# The other way would be to loop a numbered amount of times and then use indexing to continually grab from the vector:\n",
    "for (i in 1:length(vec)){\n",
    "    print(vec[i])\n",
    "}"
   ]
  },
  {
   "cell_type": "markdown",
   "id": "pacific-summit",
   "metadata": {},
   "source": [
    "## For loop over a list"
   ]
  },
  {
   "cell_type": "code",
   "execution_count": 26,
   "id": "addressed-thomas",
   "metadata": {},
   "outputs": [
    {
     "name": "stdout",
     "output_type": "stream",
     "text": [
      "[1] 1\n",
      "[1] 2\n",
      "[1] 3\n",
      "[1] 4\n",
      "[1] 5\n"
     ]
    }
   ],
   "source": [
    "li <- list(1,2,3,4,5)\n",
    "for (temp_var in li){\n",
    "    print(temp_var)\n",
    "}\n",
    "\n",
    "# for (i in 1:length(li)){\n",
    "#     print(li[[i]]) # Remember to use double brackets!\n",
    "# }"
   ]
  },
  {
   "cell_type": "markdown",
   "id": "wireless-master",
   "metadata": {},
   "source": [
    "## For loop with a matrix\n"
   ]
  },
  {
   "cell_type": "code",
   "execution_count": 28,
   "id": "federal-boards",
   "metadata": {},
   "outputs": [
    {
     "data": {
      "text/html": [
       "<table>\n",
       "<tbody>\n",
       "\t<tr><td>1 </td><td> 6</td><td>11</td></tr>\n",
       "\t<tr><td>2 </td><td> 7</td><td>12</td></tr>\n",
       "\t<tr><td>3 </td><td> 8</td><td>13</td></tr>\n",
       "\t<tr><td>4 </td><td> 9</td><td>14</td></tr>\n",
       "\t<tr><td>5 </td><td>10</td><td>15</td></tr>\n",
       "</tbody>\n",
       "</table>\n"
      ],
      "text/latex": [
       "\\begin{tabular}{lll}\n",
       "\t 1  &  6 & 11\\\\\n",
       "\t 2  &  7 & 12\\\\\n",
       "\t 3  &  8 & 13\\\\\n",
       "\t 4  &  9 & 14\\\\\n",
       "\t 5  & 10 & 15\\\\\n",
       "\\end{tabular}\n"
      ],
      "text/markdown": [
       "\n",
       "| 1  |  6 | 11 |\n",
       "| 2  |  7 | 12 |\n",
       "| 3  |  8 | 13 |\n",
       "| 4  |  9 | 14 |\n",
       "| 5  | 10 | 15 |\n",
       "\n"
      ],
      "text/plain": [
       "     [,1] [,2] [,3]\n",
       "[1,] 1     6   11  \n",
       "[2,] 2     7   12  \n",
       "[3,] 3     8   13  \n",
       "[4,] 4     9   14  \n",
       "[5,] 5    10   15  "
      ]
     },
     "metadata": {},
     "output_type": "display_data"
    }
   ],
   "source": [
    "mat <- matrix(1:15,nrow=5)\n",
    "mat"
   ]
  },
  {
   "cell_type": "code",
   "execution_count": 29,
   "id": "found-manchester",
   "metadata": {},
   "outputs": [
    {
     "name": "stdout",
     "output_type": "stream",
     "text": [
      "[1] 1\n",
      "[1] 2\n",
      "[1] 3\n",
      "[1] 4\n",
      "[1] 5\n",
      "[1] 6\n",
      "[1] 7\n",
      "[1] 8\n",
      "[1] 9\n",
      "[1] 10\n",
      "[1] 11\n",
      "[1] 12\n",
      "[1] 13\n",
      "[1] 14\n",
      "[1] 15\n"
     ]
    }
   ],
   "source": [
    "for (num in mat){\n",
    "    print(num)\n",
    "}"
   ]
  },
  {
   "cell_type": "markdown",
   "id": "worldwide-assistant",
   "metadata": {},
   "source": [
    "## Nested for loops"
   ]
  },
  {
   "cell_type": "markdown",
   "id": "exclusive-conservative",
   "metadata": {},
   "source": [
    "We can nest for loops inside one another,however be careful when doing this, as every additional for loop nested inside another may cause a significant amount of additional time for your code to finish executing."
   ]
  },
  {
   "cell_type": "code",
   "execution_count": 30,
   "id": "filled-classification",
   "metadata": {},
   "outputs": [
    {
     "name": "stdout",
     "output_type": "stream",
     "text": [
      "[1] \"The element at row: 1 and col: 1 is 1\"\n",
      "[1] \"The element at row: 1 and col: 2 is 6\"\n",
      "[1] \"The element at row: 1 and col: 3 is 11\"\n",
      "[1] \"The element at row: 2 and col: 1 is 2\"\n",
      "[1] \"The element at row: 2 and col: 2 is 7\"\n",
      "[1] \"The element at row: 2 and col: 3 is 12\"\n",
      "[1] \"The element at row: 3 and col: 1 is 3\"\n",
      "[1] \"The element at row: 3 and col: 2 is 8\"\n",
      "[1] \"The element at row: 3 and col: 3 is 13\"\n",
      "[1] \"The element at row: 4 and col: 1 is 4\"\n",
      "[1] \"The element at row: 4 and col: 2 is 9\"\n",
      "[1] \"The element at row: 4 and col: 3 is 14\"\n",
      "[1] \"The element at row: 5 and col: 1 is 5\"\n",
      "[1] \"The element at row: 5 and col: 2 is 10\"\n",
      "[1] \"The element at row: 5 and col: 3 is 15\"\n"
     ]
    }
   ],
   "source": [
    "for (row in 1:nrow(mat)){\n",
    "    for (col in 1:ncol(mat)){\n",
    "        print(paste('The element at row:',row,'and col:',col,'is',mat[row,col]))\n",
    "    }\n",
    "}"
   ]
  }
 ],
 "metadata": {
  "kernelspec": {
   "display_name": "R",
   "language": "R",
   "name": "ir"
  },
  "language_info": {
   "codemirror_mode": "r",
   "file_extension": ".r",
   "mimetype": "text/x-r-source",
   "name": "R",
   "pygments_lexer": "r",
   "version": "3.6.1"
  }
 },
 "nbformat": 4,
 "nbformat_minor": 5
}
