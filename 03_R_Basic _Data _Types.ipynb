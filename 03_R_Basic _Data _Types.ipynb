{
 "cells": [
  {
   "cell_type": "markdown",
   "id": "creative-preview",
   "metadata": {},
   "source": [
    "# R Data Types"
   ]
  },
  {
   "cell_type": "markdown",
   "id": "intense-enclosure",
   "metadata": {},
   "source": [
    "Numerics\n",
    "\n",
    "Decimal (floating point values) are part of the numeric class in R"
   ]
  },
  {
   "cell_type": "code",
   "execution_count": 1,
   "id": "understanding-paragraph",
   "metadata": {},
   "outputs": [],
   "source": [
    "n <- 2.2"
   ]
  },
  {
   "cell_type": "markdown",
   "id": "traditional-qatar",
   "metadata": {},
   "source": [
    "Integers\n",
    "\n",
    "Natural (whole) numbers are known as integers and are also part of the numeric class"
   ]
  },
  {
   "cell_type": "code",
   "execution_count": 2,
   "id": "instrumental-wesley",
   "metadata": {},
   "outputs": [],
   "source": [
    "i <- 5"
   ]
  },
  {
   "cell_type": "markdown",
   "id": "overhead-truck",
   "metadata": {},
   "source": [
    "Logical\n",
    "\n",
    "Boolean values (True and False) are part of the logical class. In R these are written in All Caps."
   ]
  },
  {
   "cell_type": "code",
   "execution_count": 3,
   "id": "warming-planning",
   "metadata": {},
   "outputs": [],
   "source": [
    "t <- TRUE\n",
    "f <- FALSE"
   ]
  },
  {
   "cell_type": "code",
   "execution_count": 4,
   "id": "sophisticated-glucose",
   "metadata": {},
   "outputs": [
    {
     "data": {
      "text/html": [
       "TRUE"
      ],
      "text/latex": [
       "TRUE"
      ],
      "text/markdown": [
       "TRUE"
      ],
      "text/plain": [
       "[1] TRUE"
      ]
     },
     "metadata": {},
     "output_type": "display_data"
    }
   ],
   "source": [
    "t"
   ]
  },
  {
   "cell_type": "code",
   "execution_count": 5,
   "id": "beginning-channels",
   "metadata": {},
   "outputs": [
    {
     "data": {
      "text/html": [
       "FALSE"
      ],
      "text/latex": [
       "FALSE"
      ],
      "text/markdown": [
       "FALSE"
      ],
      "text/plain": [
       "[1] FALSE"
      ]
     },
     "metadata": {},
     "output_type": "display_data"
    }
   ],
   "source": [
    "f"
   ]
  },
  {
   "cell_type": "markdown",
   "id": "central-charter",
   "metadata": {},
   "source": [
    "Characters\n",
    "\n",
    "Text/string values are known as characters in R. You use quotation marks to create a text character string:"
   ]
  },
  {
   "cell_type": "code",
   "execution_count": 6,
   "id": "manufactured-despite",
   "metadata": {},
   "outputs": [],
   "source": [
    "char <- \"Hello World!\""
   ]
  },
  {
   "cell_type": "code",
   "execution_count": 7,
   "id": "efficient-dubai",
   "metadata": {},
   "outputs": [
    {
     "data": {
      "text/html": [
       "'Hello World!'"
      ],
      "text/latex": [
       "'Hello World!'"
      ],
      "text/markdown": [
       "'Hello World!'"
      ],
      "text/plain": [
       "[1] \"Hello World!\""
      ]
     },
     "metadata": {},
     "output_type": "display_data"
    }
   ],
   "source": [
    "char"
   ]
  },
  {
   "cell_type": "markdown",
   "id": "applicable-space",
   "metadata": {},
   "source": [
    "# Checking Data Type Classes¶"
   ]
  },
  {
   "cell_type": "code",
   "execution_count": 8,
   "id": "twenty-exhibit",
   "metadata": {},
   "outputs": [
    {
     "data": {
      "text/html": [
       "'logical'"
      ],
      "text/latex": [
       "'logical'"
      ],
      "text/markdown": [
       "'logical'"
      ],
      "text/plain": [
       "[1] \"logical\""
      ]
     },
     "metadata": {},
     "output_type": "display_data"
    }
   ],
   "source": [
    "class(t)"
   ]
  },
  {
   "cell_type": "code",
   "execution_count": 9,
   "id": "temporal-battlefield",
   "metadata": {},
   "outputs": [
    {
     "data": {
      "text/html": [
       "'logical'"
      ],
      "text/latex": [
       "'logical'"
      ],
      "text/markdown": [
       "'logical'"
      ],
      "text/plain": [
       "[1] \"logical\""
      ]
     },
     "metadata": {},
     "output_type": "display_data"
    }
   ],
   "source": [
    "class(f)"
   ]
  },
  {
   "cell_type": "code",
   "execution_count": 10,
   "id": "continued-circulation",
   "metadata": {},
   "outputs": [
    {
     "data": {
      "text/html": [
       "'character'"
      ],
      "text/latex": [
       "'character'"
      ],
      "text/markdown": [
       "'character'"
      ],
      "text/plain": [
       "[1] \"character\""
      ]
     },
     "metadata": {},
     "output_type": "display_data"
    }
   ],
   "source": [
    "class(char)"
   ]
  },
  {
   "cell_type": "code",
   "execution_count": 11,
   "id": "incorrect-growing",
   "metadata": {},
   "outputs": [
    {
     "data": {
      "text/html": [
       "'numeric'"
      ],
      "text/latex": [
       "'numeric'"
      ],
      "text/markdown": [
       "'numeric'"
      ],
      "text/plain": [
       "[1] \"numeric\""
      ]
     },
     "metadata": {},
     "output_type": "display_data"
    }
   ],
   "source": [
    "class(n)"
   ]
  },
  {
   "cell_type": "code",
   "execution_count": 12,
   "id": "aerial-accessory",
   "metadata": {},
   "outputs": [
    {
     "data": {
      "text/html": [
       "'numeric'"
      ],
      "text/latex": [
       "'numeric'"
      ],
      "text/markdown": [
       "'numeric'"
      ],
      "text/plain": [
       "[1] \"numeric\""
      ]
     },
     "metadata": {},
     "output_type": "display_data"
    }
   ],
   "source": [
    "class(i)"
   ]
  },
  {
   "cell_type": "code",
   "execution_count": null,
   "id": "cutting-conservative",
   "metadata": {},
   "outputs": [],
   "source": []
  }
 ],
 "metadata": {
  "kernelspec": {
   "display_name": "R",
   "language": "R",
   "name": "ir"
  },
  "language_info": {
   "codemirror_mode": "r",
   "file_extension": ".r",
   "mimetype": "text/x-r-source",
   "name": "R",
   "pygments_lexer": "r",
   "version": "3.6.1"
  }
 },
 "nbformat": 4,
 "nbformat_minor": 5
}
