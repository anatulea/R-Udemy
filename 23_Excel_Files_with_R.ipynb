{
 "cells": [
  {
   "cell_type": "markdown",
   "id": "young-locator",
   "metadata": {},
   "source": [
    "## Excel Files with R"
   ]
  },
  {
   "cell_type": "code",
   "execution_count": 1,
   "id": "viral-fantasy",
   "metadata": {},
   "outputs": [
    {
     "name": "stderr",
     "output_type": "stream",
     "text": [
      "Warning message:\n",
      "“package ‘readxl’ was built under R version 3.6.3”\n"
     ]
    }
   ],
   "source": [
    "library(readxl)"
   ]
  },
  {
   "cell_type": "code",
   "execution_count": 2,
   "id": "running-serve",
   "metadata": {},
   "outputs": [
    {
     "data": {
      "text/html": [
       "'Sheet1'"
      ],
      "text/latex": [
       "'Sheet1'"
      ],
      "text/markdown": [
       "'Sheet1'"
      ],
      "text/plain": [
       "[1] \"Sheet1\""
      ]
     },
     "metadata": {},
     "output_type": "display_data"
    }
   ],
   "source": [
    "# list the sheets of the excel file\n",
    "excel_sheets('./Excel/Sample-Sales-Data.xlsx')"
   ]
  },
  {
   "cell_type": "code",
   "execution_count": 3,
   "id": "foster-jacob",
   "metadata": {},
   "outputs": [
    {
     "data": {
      "text/html": [
       "<table>\n",
       "<thead><tr><th scope=col>Postcode</th><th scope=col>Sales_Rep_ID</th><th scope=col>Sales_Rep_Name</th><th scope=col>Year</th><th scope=col>Value</th></tr></thead>\n",
       "<tbody>\n",
       "\t<tr><td>2121    </td><td>456     </td><td>Jane    </td><td>2011    </td><td>84219.50</td></tr>\n",
       "\t<tr><td>2092    </td><td>789     </td><td>Ashish  </td><td>2012    </td><td>28322.19</td></tr>\n",
       "\t<tr><td>2128    </td><td>456     </td><td>Jane    </td><td>2013    </td><td>81879.00</td></tr>\n",
       "\t<tr><td>2073    </td><td>123     </td><td>John    </td><td>2011    </td><td>44491.14</td></tr>\n",
       "\t<tr><td>2134    </td><td>789     </td><td>Ashish  </td><td>2012    </td><td>71837.72</td></tr>\n",
       "\t<tr><td>2162    </td><td>123     </td><td>John    </td><td>2013    </td><td>64531.55</td></tr>\n",
       "</tbody>\n",
       "</table>\n"
      ],
      "text/latex": [
       "\\begin{tabular}{r|lllll}\n",
       " Postcode & Sales\\_Rep\\_ID & Sales\\_Rep\\_Name & Year & Value\\\\\n",
       "\\hline\n",
       "\t 2121     & 456      & Jane     & 2011     & 84219.50\\\\\n",
       "\t 2092     & 789      & Ashish   & 2012     & 28322.19\\\\\n",
       "\t 2128     & 456      & Jane     & 2013     & 81879.00\\\\\n",
       "\t 2073     & 123      & John     & 2011     & 44491.14\\\\\n",
       "\t 2134     & 789      & Ashish   & 2012     & 71837.72\\\\\n",
       "\t 2162     & 123      & John     & 2013     & 64531.55\\\\\n",
       "\\end{tabular}\n"
      ],
      "text/markdown": [
       "\n",
       "| Postcode | Sales_Rep_ID | Sales_Rep_Name | Year | Value |\n",
       "|---|---|---|---|---|\n",
       "| 2121     | 456      | Jane     | 2011     | 84219.50 |\n",
       "| 2092     | 789      | Ashish   | 2012     | 28322.19 |\n",
       "| 2128     | 456      | Jane     | 2013     | 81879.00 |\n",
       "| 2073     | 123      | John     | 2011     | 44491.14 |\n",
       "| 2134     | 789      | Ashish   | 2012     | 71837.72 |\n",
       "| 2162     | 123      | John     | 2013     | 64531.55 |\n",
       "\n"
      ],
      "text/plain": [
       "  Postcode Sales_Rep_ID Sales_Rep_Name Year Value   \n",
       "1 2121     456          Jane           2011 84219.50\n",
       "2 2092     789          Ashish         2012 28322.19\n",
       "3 2128     456          Jane           2013 81879.00\n",
       "4 2073     123          John           2011 44491.14\n",
       "5 2134     789          Ashish         2012 71837.72\n",
       "6 2162     123          John           2013 64531.55"
      ]
     },
     "metadata": {},
     "output_type": "display_data"
    }
   ],
   "source": [
    "# Call info from the sheets using read_excel\n",
    "df <- read_excel('./Excel/Sample-Sales-Data.xlsx',sheet='Sheet1')\n",
    "head(df)"
   ]
  },
  {
   "cell_type": "code",
   "execution_count": 4,
   "id": "normal-terrorism",
   "metadata": {},
   "outputs": [
    {
     "data": {
      "text/html": [
       "19199461.4387834"
      ],
      "text/latex": [
       "19199461.4387834"
      ],
      "text/markdown": [
       "19199461.4387834"
      ],
      "text/plain": [
       "[1] 19199461"
      ]
     },
     "metadata": {},
     "output_type": "display_data"
    }
   ],
   "source": [
    "# Now you can perform operations on it just like a normal R data frame:\n",
    "sum(df['Value'])"
   ]
  },
  {
   "cell_type": "code",
   "execution_count": 5,
   "id": "south-runner",
   "metadata": {},
   "outputs": [
    {
     "name": "stdout",
     "output_type": "stream",
     "text": [
      "Classes ‘tbl_df’, ‘tbl’ and 'data.frame':\t390 obs. of  5 variables:\n",
      " $ Postcode      : chr  \"2121\" \"2092\" \"2128\" \"2073\" ...\n",
      " $ Sales_Rep_ID  : num  456 789 456 123 789 123 456 789 123 789 ...\n",
      " $ Sales_Rep_Name: chr  \"Jane\" \"Ashish\" \"Jane\" \"John\" ...\n",
      " $ Year          : num  2011 2012 2013 2011 2012 ...\n",
      " $ Value         : num  84219 28322 81879 44491 71838 ...\n"
     ]
    }
   ],
   "source": [
    "str(df)"
   ]
  },
  {
   "cell_type": "code",
   "execution_count": 6,
   "id": "lovely-planet",
   "metadata": {},
   "outputs": [
    {
     "data": {
      "text/plain": [
       "   Postcode          Sales_Rep_ID Sales_Rep_Name          Year     \n",
       " Length:390         Min.   :123   Length:390         Min.   :2011  \n",
       " Class :character   1st Qu.:123   Class :character   1st Qu.:2011  \n",
       " Mode  :character   Median :456   Mode  :character   Median :2012  \n",
       "                    Mean   :456                      Mean   :2012  \n",
       "                    3rd Qu.:789                      3rd Qu.:2013  \n",
       "                    Max.   :789                      Max.   :2013  \n",
       "     Value        \n",
       " Min.   :  106.4  \n",
       " 1st Qu.:26101.5  \n",
       " Median :47447.4  \n",
       " Mean   :49229.4  \n",
       " 3rd Qu.:72277.8  \n",
       " Max.   :99878.5  "
      ]
     },
     "metadata": {},
     "output_type": "display_data"
    }
   ],
   "source": [
    "summary(df)"
   ]
  },
  {
   "cell_type": "markdown",
   "id": "looking-agenda",
   "metadata": {},
   "source": [
    "## Writing to Excel"
   ]
  },
  {
   "cell_type": "code",
   "execution_count": null,
   "id": "technological-landing",
   "metadata": {},
   "outputs": [],
   "source": [
    "library(xlsx)\n",
    "df <- data.frame(matrix(1:10))\n",
    "write.xlsx(df, \"output2.xlsx\")\n",
    "testex <- read_excel('output.xlsx')\n",
    "print(testex)"
   ]
  }
 ],
 "metadata": {
  "kernelspec": {
   "display_name": "R",
   "language": "R",
   "name": "ir"
  },
  "language_info": {
   "codemirror_mode": "r",
   "file_extension": ".r",
   "mimetype": "text/x-r-source",
   "name": "R",
   "pygments_lexer": "r",
   "version": "3.6.1"
  }
 },
 "nbformat": 4,
 "nbformat_minor": 5
}
