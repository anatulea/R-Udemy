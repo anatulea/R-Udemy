{
 "cells": [
  {
   "cell_type": "markdown",
   "id": "working-protein",
   "metadata": {},
   "source": [
    "# Web Scraping with R"
   ]
  },
  {
   "cell_type": "markdown",
   "id": "tutorial-hacker",
   "metadata": {},
   "source": [
    "## rvest library"
   ]
  },
  {
   "cell_type": "code",
   "execution_count": 1,
   "id": "proprietary-solution",
   "metadata": {},
   "outputs": [
    {
     "ename": "ERROR",
     "evalue": "Error in find.package(package, lib.loc, verbose = verbose): there is no package called ‘rvest’\n",
     "output_type": "error",
     "traceback": [
      "Error in find.package(package, lib.loc, verbose = verbose): there is no package called ‘rvest’\nTraceback:\n",
      "1. demo(package = \"rvest\")",
      "2. find.package(package, lib.loc, verbose = verbose)"
     ]
    }
   ],
   "source": [
    "demo(package='rvest')\n"
   ]
  },
  {
   "cell_type": "code",
   "execution_count": null,
   "id": "incorrect-preference",
   "metadata": {},
   "outputs": [],
   "source": [
    "# Will also install dependencies\n",
    "install.packages('rvest')"
   ]
  },
  {
   "cell_type": "code",
   "execution_count": null,
   "id": "trained-insulation",
   "metadata": {},
   "outputs": [],
   "source": [
    "library(rvest)\n",
    "lego_movie <- read_html(\"http://www.imdb.com/title/tt1490017/\")"
   ]
  },
  {
   "cell_type": "markdown",
   "id": "adequate-honor",
   "metadata": {},
   "source": [
    "To extract the rating, we start with SelectorGadget to figure out which css selector matches the data we want: strong span. (If you haven’t heard of selectorgadget, make sure to read \"SelectorGadget\" – it’s the easiest way to determine which selector extracts the data that you’re interested in.) We use html_node() to find the first node that matches that selector, extract its contents with html_text(), and convert it to numeric with as.numeric():"
   ]
  },
  {
   "cell_type": "code",
   "execution_count": null,
   "id": "civil-regulation",
   "metadata": {},
   "outputs": [],
   "source": [
    "lego_movie %>% \n",
    "  html_node(\"strong span\") %>%\n",
    "  html_text() %>%\n",
    "  as.numeric()"
   ]
  },
  {
   "cell_type": "code",
   "execution_count": null,
   "id": "reflected-horizon",
   "metadata": {},
   "outputs": [],
   "source": [
    "# We use a similar process to extract the cast, using html_nodes() to find all nodes that match the selector:\n",
    "lego_movie %>%\n",
    "  html_nodes(\"#titleCast .itemprop span\") %>%\n",
    "  html_text()\n"
   ]
  },
  {
   "cell_type": "code",
   "execution_count": null,
   "id": "convenient-granny",
   "metadata": {},
   "outputs": [],
   "source": [
    "# The titles and authors of recent message board postings are stored in a the third table on the page. \n",
    "# We can use html_node() and [[ ]] to find it, then coerce it to a data frame with html_table():\n",
    "\n",
    "lego_movie %>%\n",
    "  html_nodes(\"table\") %>%\n",
    "  .[[3]] %>%\n",
    "  html_table()"
   ]
  }
 ],
 "metadata": {
  "kernelspec": {
   "display_name": "R",
   "language": "R",
   "name": "ir"
  },
  "language_info": {
   "codemirror_mode": "r",
   "file_extension": ".r",
   "mimetype": "text/x-r-source",
   "name": "R",
   "pygments_lexer": "r",
   "version": "3.6.1"
  }
 },
 "nbformat": 4,
 "nbformat_minor": 5
}
