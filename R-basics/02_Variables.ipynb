{
 "cells": [
  {
   "cell_type": "markdown",
   "id": "national-nevada",
   "metadata": {},
   "source": [
    "# Variables"
   ]
  },
  {
   "cell_type": "markdown",
   "id": "decimal-sunglasses",
   "metadata": {},
   "source": [
    "You can use the <- character to assign a variable, note how it kind of looks like an arrow pointing from the object to the variable name."
   ]
  },
  {
   "cell_type": "code",
   "execution_count": 1,
   "id": "experimental-awareness",
   "metadata": {},
   "outputs": [],
   "source": [
    "# Use hashtags for comments\n",
    "variable.name <- 100"
   ]
  },
  {
   "cell_type": "code",
   "execution_count": 2,
   "id": "functioning-dealing",
   "metadata": {},
   "outputs": [
    {
     "data": {
      "text/html": [
       "100"
      ],
      "text/latex": [
       "100"
      ],
      "text/markdown": [
       "100"
      ],
      "text/plain": [
       "[1] 100"
      ]
     },
     "metadata": {},
     "output_type": "display_data"
    }
   ],
   "source": [
    "# Let's see the variable!\n",
    "variable.name"
   ]
  },
  {
   "cell_type": "markdown",
   "id": "antique-shelf",
   "metadata": {},
   "source": [
    "# Working with variables"
   ]
  },
  {
   "cell_type": "code",
   "execution_count": 3,
   "id": "square-ottawa",
   "metadata": {},
   "outputs": [],
   "source": [
    "bank.account <- 100"
   ]
  },
  {
   "cell_type": "code",
   "execution_count": 4,
   "id": "pleased-patient",
   "metadata": {},
   "outputs": [],
   "source": [
    "deposit <- 10"
   ]
  },
  {
   "cell_type": "code",
   "execution_count": 5,
   "id": "sitting-equality",
   "metadata": {},
   "outputs": [],
   "source": [
    "bank.account <- bank.account + deposit"
   ]
  },
  {
   "cell_type": "code",
   "execution_count": 6,
   "id": "specialized-nature",
   "metadata": {},
   "outputs": [
    {
     "data": {
      "text/html": [
       "110"
      ],
      "text/latex": [
       "110"
      ],
      "text/markdown": [
       "110"
      ],
      "text/plain": [
       "[1] 110"
      ]
     },
     "metadata": {},
     "output_type": "display_data"
    }
   ],
   "source": [
    "bank.account"
   ]
  }
 ],
 "metadata": {
  "kernelspec": {
   "display_name": "R",
   "language": "R",
   "name": "ir"
  },
  "language_info": {
   "codemirror_mode": "r",
   "file_extension": ".r",
   "mimetype": "text/x-r-source",
   "name": "R",
   "pygments_lexer": "r",
   "version": "3.6.1"
  }
 },
 "nbformat": 4,
 "nbformat_minor": 5
}
