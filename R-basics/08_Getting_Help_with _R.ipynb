{
 "cells": [
  {
   "cell_type": "markdown",
   "id": "understood-restoration",
   "metadata": {},
   "source": [
    "\n",
    "# Getting Help with R"
   ]
  },
  {
   "cell_type": "markdown",
   "id": "boring-lighting",
   "metadata": {},
   "source": [
    "Most R functions have online documentation.\n",
    "\n",
    "- help(topic) documentation on topic ?topic id.\n",
    "\n",
    "- help.search(\"topic\") search the help system\n",
    "\n",
    "- apropos(\"topic\") the names of all objects in the search list matching the regular expression ”topic”\n",
    "\n",
    "- help.start() start the HTML version of help\n",
    "\n",
    "- str(a) display the internal structure of an R object\n",
    "\n",
    "- summary(a) gives a “summary” of a, usually a statistical summary but it is generic meaning it has different operations for different classes of a\n",
    "\n",
    "- ls() show objects in the search path; specify pat=\"pat\" to search on a pattern\n",
    "\n",
    "- ls.str() str() for each variable in the search path\n",
    "\n",
    "- dir() show files in the current directory\n",
    "\n",
    "- methods(a) shows S3 methods of a\n",
    "\n",
    "- methods(class=class(a)) lists all the methods to handle objects of class a"
   ]
  },
  {
   "cell_type": "code",
   "execution_count": 1,
   "id": "adequate-grain",
   "metadata": {},
   "outputs": [],
   "source": [
    "# Need help with vectors, try help()\n",
    "help(vector)\n"
   ]
  }
 ],
 "metadata": {
  "kernelspec": {
   "display_name": "R",
   "language": "R",
   "name": "ir"
  },
  "language_info": {
   "codemirror_mode": "r",
   "file_extension": ".r",
   "mimetype": "text/x-r-source",
   "name": "R",
   "pygments_lexer": "r",
   "version": "3.6.1"
  }
 },
 "nbformat": 4,
 "nbformat_minor": 5
}
