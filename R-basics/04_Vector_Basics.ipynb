{
 "cells": [
  {
   "cell_type": "markdown",
   "id": "conscious-airline",
   "metadata": {},
   "source": [
    "# Vector Basics"
   ]
  },
  {
   "cell_type": "markdown",
   "id": "aware-master",
   "metadata": {},
   "source": [
    "Vectors are one of the key data structures in R which we wil be using. A vector is a 1 dimensional array that can hold character, numeric, or logical data elements.\n",
    "\n",
    "We can create a vector by using the combine function c(). To use the function, we pass in the elements we want in the array, with each individual element separated by a comma."
   ]
  },
  {
   "cell_type": "code",
   "execution_count": 2,
   "id": "frank-yeast",
   "metadata": {},
   "outputs": [],
   "source": [
    "# Using c() to create a vector of numeric elements\n",
    "nvec <- c(1,2,3,4,5)"
   ]
  },
  {
   "cell_type": "code",
   "execution_count": 4,
   "id": "concrete-whale",
   "metadata": {},
   "outputs": [
    {
     "data": {
      "text/html": [
       "<ol class=list-inline>\n",
       "\t<li>1</li>\n",
       "\t<li>2</li>\n",
       "\t<li>3</li>\n",
       "\t<li>4</li>\n",
       "\t<li>5</li>\n",
       "</ol>\n"
      ],
      "text/latex": [
       "\\begin{enumerate*}\n",
       "\\item 1\n",
       "\\item 2\n",
       "\\item 3\n",
       "\\item 4\n",
       "\\item 5\n",
       "\\end{enumerate*}\n"
      ],
      "text/markdown": [
       "1. 1\n",
       "2. 2\n",
       "3. 3\n",
       "4. 4\n",
       "5. 5\n",
       "\n",
       "\n"
      ],
      "text/plain": [
       "[1] 1 2 3 4 5"
      ]
     },
     "metadata": {},
     "output_type": "display_data"
    }
   ],
   "source": [
    "nvec"
   ]
  },
  {
   "cell_type": "code",
   "execution_count": 3,
   "id": "elegant-ultimate",
   "metadata": {},
   "outputs": [
    {
     "data": {
      "text/html": [
       "'numeric'"
      ],
      "text/latex": [
       "'numeric'"
      ],
      "text/markdown": [
       "'numeric'"
      ],
      "text/plain": [
       "[1] \"numeric\""
      ]
     },
     "metadata": {},
     "output_type": "display_data"
    }
   ],
   "source": [
    "class(nvec)"
   ]
  },
  {
   "cell_type": "code",
   "execution_count": 5,
   "id": "disabled-transport",
   "metadata": {},
   "outputs": [],
   "source": [
    "# Vector of characters\n",
    "cvec <- c('U','S','A')"
   ]
  },
  {
   "cell_type": "code",
   "execution_count": 6,
   "id": "centered-count",
   "metadata": {},
   "outputs": [
    {
     "data": {
      "text/html": [
       "<ol class=list-inline>\n",
       "\t<li>'U'</li>\n",
       "\t<li>'S'</li>\n",
       "\t<li>'A'</li>\n",
       "</ol>\n"
      ],
      "text/latex": [
       "\\begin{enumerate*}\n",
       "\\item 'U'\n",
       "\\item 'S'\n",
       "\\item 'A'\n",
       "\\end{enumerate*}\n"
      ],
      "text/markdown": [
       "1. 'U'\n",
       "2. 'S'\n",
       "3. 'A'\n",
       "\n",
       "\n"
      ],
      "text/plain": [
       "[1] \"U\" \"S\" \"A\""
      ]
     },
     "metadata": {},
     "output_type": "display_data"
    }
   ],
   "source": [
    "cvec"
   ]
  },
  {
   "cell_type": "code",
   "execution_count": 7,
   "id": "pediatric-confusion",
   "metadata": {},
   "outputs": [
    {
     "data": {
      "text/html": [
       "'character'"
      ],
      "text/latex": [
       "'character'"
      ],
      "text/markdown": [
       "'character'"
      ],
      "text/plain": [
       "[1] \"character\""
      ]
     },
     "metadata": {},
     "output_type": "display_data"
    }
   ],
   "source": [
    "class(cvec)"
   ]
  },
  {
   "cell_type": "code",
   "execution_count": 8,
   "id": "governmental-thailand",
   "metadata": {},
   "outputs": [],
   "source": [
    "lvec <- c(TRUE,FALSE)"
   ]
  },
  {
   "cell_type": "code",
   "execution_count": 9,
   "id": "humanitarian-coaching",
   "metadata": {},
   "outputs": [
    {
     "data": {
      "text/html": [
       "<ol class=list-inline>\n",
       "\t<li>TRUE</li>\n",
       "\t<li>FALSE</li>\n",
       "</ol>\n"
      ],
      "text/latex": [
       "\\begin{enumerate*}\n",
       "\\item TRUE\n",
       "\\item FALSE\n",
       "\\end{enumerate*}\n"
      ],
      "text/markdown": [
       "1. TRUE\n",
       "2. FALSE\n",
       "\n",
       "\n"
      ],
      "text/plain": [
       "[1]  TRUE FALSE"
      ]
     },
     "metadata": {},
     "output_type": "display_data"
    }
   ],
   "source": [
    "lvec"
   ]
  },
  {
   "cell_type": "code",
   "execution_count": 10,
   "id": "judicial-yellow",
   "metadata": {},
   "outputs": [
    {
     "data": {
      "text/html": [
       "'logical'"
      ],
      "text/latex": [
       "'logical'"
      ],
      "text/markdown": [
       "'logical'"
      ],
      "text/plain": [
       "[1] \"logical\""
      ]
     },
     "metadata": {},
     "output_type": "display_data"
    }
   ],
   "source": [
    "class(lvec)"
   ]
  },
  {
   "cell_type": "markdown",
   "id": "civic-apartment",
   "metadata": {},
   "source": [
    "Note that we CAN'T MIX DATA TYPES of the elements in an array, R will convert the other elements in the array to force everything to be of the same data type. Later on we will learn about the list data structure that can take on multiple data types!"
   ]
  },
  {
   "cell_type": "code",
   "execution_count": 11,
   "id": "flush-interpretation",
   "metadata": {},
   "outputs": [],
   "source": [
    "v <- c(FALSE,2)"
   ]
  },
  {
   "cell_type": "code",
   "execution_count": 13,
   "id": "super-fellow",
   "metadata": {},
   "outputs": [
    {
     "data": {
      "text/html": [
       "<ol class=list-inline>\n",
       "\t<li>0</li>\n",
       "\t<li>2</li>\n",
       "</ol>\n"
      ],
      "text/latex": [
       "\\begin{enumerate*}\n",
       "\\item 0\n",
       "\\item 2\n",
       "\\end{enumerate*}\n"
      ],
      "text/markdown": [
       "1. 0\n",
       "2. 2\n",
       "\n",
       "\n"
      ],
      "text/plain": [
       "[1] 0 2"
      ]
     },
     "metadata": {},
     "output_type": "display_data"
    }
   ],
   "source": [
    "v"
   ]
  },
  {
   "cell_type": "code",
   "execution_count": 14,
   "id": "thorough-bandwidth",
   "metadata": {},
   "outputs": [
    {
     "data": {
      "text/html": [
       "'numeric'"
      ],
      "text/latex": [
       "'numeric'"
      ],
      "text/markdown": [
       "'numeric'"
      ],
      "text/plain": [
       "[1] \"numeric\""
      ]
     },
     "metadata": {},
     "output_type": "display_data"
    }
   ],
   "source": [
    "class(v)"
   ]
  },
  {
   "cell_type": "code",
   "execution_count": 15,
   "id": "bored-saturday",
   "metadata": {},
   "outputs": [],
   "source": [
    "v <- c('A',1)"
   ]
  },
  {
   "cell_type": "code",
   "execution_count": 16,
   "id": "tender-nothing",
   "metadata": {},
   "outputs": [
    {
     "data": {
      "text/html": [
       "<ol class=list-inline>\n",
       "\t<li>'A'</li>\n",
       "\t<li>'1'</li>\n",
       "</ol>\n"
      ],
      "text/latex": [
       "\\begin{enumerate*}\n",
       "\\item 'A'\n",
       "\\item '1'\n",
       "\\end{enumerate*}\n"
      ],
      "text/markdown": [
       "1. 'A'\n",
       "2. '1'\n",
       "\n",
       "\n"
      ],
      "text/plain": [
       "[1] \"A\" \"1\""
      ]
     },
     "metadata": {},
     "output_type": "display_data"
    }
   ],
   "source": [
    "v"
   ]
  },
  {
   "cell_type": "code",
   "execution_count": 17,
   "id": "hindu-tutorial",
   "metadata": {},
   "outputs": [
    {
     "data": {
      "text/html": [
       "'character'"
      ],
      "text/latex": [
       "'character'"
      ],
      "text/markdown": [
       "'character'"
      ],
      "text/plain": [
       "[1] \"character\""
      ]
     },
     "metadata": {},
     "output_type": "display_data"
    }
   ],
   "source": [
    "class(v)"
   ]
  },
  {
   "cell_type": "markdown",
   "id": "blank-interference",
   "metadata": {},
   "source": [
    "## Vector Names"
   ]
  },
  {
   "cell_type": "markdown",
   "id": "purple-milan",
   "metadata": {},
   "source": [
    "We can use the names() function to assign names to each element in our vector. For example, imagine the folowing vector of a week of temperatures:"
   ]
  },
  {
   "cell_type": "code",
   "execution_count": 19,
   "id": "killing-destination",
   "metadata": {},
   "outputs": [],
   "source": [
    "temps <- c(72,71,68,73,69,75,71)"
   ]
  },
  {
   "cell_type": "code",
   "execution_count": 20,
   "id": "extraordinary-creator",
   "metadata": {},
   "outputs": [
    {
     "data": {
      "text/html": [
       "<ol class=list-inline>\n",
       "\t<li>72</li>\n",
       "\t<li>71</li>\n",
       "\t<li>68</li>\n",
       "\t<li>73</li>\n",
       "\t<li>69</li>\n",
       "\t<li>75</li>\n",
       "\t<li>71</li>\n",
       "</ol>\n"
      ],
      "text/latex": [
       "\\begin{enumerate*}\n",
       "\\item 72\n",
       "\\item 71\n",
       "\\item 68\n",
       "\\item 73\n",
       "\\item 69\n",
       "\\item 75\n",
       "\\item 71\n",
       "\\end{enumerate*}\n"
      ],
      "text/markdown": [
       "1. 72\n",
       "2. 71\n",
       "3. 68\n",
       "4. 73\n",
       "5. 69\n",
       "6. 75\n",
       "7. 71\n",
       "\n",
       "\n"
      ],
      "text/plain": [
       "[1] 72 71 68 73 69 75 71"
      ]
     },
     "metadata": {},
     "output_type": "display_data"
    }
   ],
   "source": [
    "temps"
   ]
  },
  {
   "cell_type": "markdown",
   "id": "furnished-check",
   "metadata": {},
   "source": [
    "We know we have 7 temperatures for 7 weekdays, but which temperature corresponds to which weekday? Does it start on Monday, Sunday, or another day of the week? This is where names() can be assigned in the following manner:"
   ]
  },
  {
   "cell_type": "code",
   "execution_count": 21,
   "id": "sweet-asian",
   "metadata": {},
   "outputs": [],
   "source": [
    "names(temps) <- c('Mon','Tue','Wed','Thu','Fri','Sat','Sun')"
   ]
  },
  {
   "cell_type": "code",
   "execution_count": 22,
   "id": "appreciated-schema",
   "metadata": {},
   "outputs": [
    {
     "data": {
      "text/html": [
       "<dl class=dl-horizontal>\n",
       "\t<dt>Mon</dt>\n",
       "\t\t<dd>72</dd>\n",
       "\t<dt>Tue</dt>\n",
       "\t\t<dd>71</dd>\n",
       "\t<dt>Wed</dt>\n",
       "\t\t<dd>68</dd>\n",
       "\t<dt>Thu</dt>\n",
       "\t\t<dd>73</dd>\n",
       "\t<dt>Fri</dt>\n",
       "\t\t<dd>69</dd>\n",
       "\t<dt>Sat</dt>\n",
       "\t\t<dd>75</dd>\n",
       "\t<dt>Sun</dt>\n",
       "\t\t<dd>71</dd>\n",
       "</dl>\n"
      ],
      "text/latex": [
       "\\begin{description*}\n",
       "\\item[Mon] 72\n",
       "\\item[Tue] 71\n",
       "\\item[Wed] 68\n",
       "\\item[Thu] 73\n",
       "\\item[Fri] 69\n",
       "\\item[Sat] 75\n",
       "\\item[Sun] 71\n",
       "\\end{description*}\n"
      ],
      "text/markdown": [
       "Mon\n",
       ":   72Tue\n",
       ":   71Wed\n",
       ":   68Thu\n",
       ":   73Fri\n",
       ":   69Sat\n",
       ":   75Sun\n",
       ":   71\n",
       "\n"
      ],
      "text/plain": [
       "Mon Tue Wed Thu Fri Sat Sun \n",
       " 72  71  68  73  69  75  71 "
      ]
     },
     "metadata": {},
     "output_type": "display_data"
    }
   ],
   "source": [
    "temps"
   ]
  },
  {
   "cell_type": "markdown",
   "id": "secure-language",
   "metadata": {},
   "source": [
    "We also don't have to rewrite the names vector over and over again, we can use simple use a variable name as a names() assignment, for example:"
   ]
  },
  {
   "cell_type": "code",
   "execution_count": 23,
   "id": "amazing-minneapolis",
   "metadata": {},
   "outputs": [
    {
     "data": {
      "text/html": [
       "<dl class=dl-horizontal>\n",
       "\t<dt>Mon</dt>\n",
       "\t\t<dd>1</dd>\n",
       "\t<dt>Tue</dt>\n",
       "\t\t<dd>2</dd>\n",
       "\t<dt>Wed</dt>\n",
       "\t\t<dd>3</dd>\n",
       "\t<dt>Thu</dt>\n",
       "\t\t<dd>4</dd>\n",
       "\t<dt>Fri</dt>\n",
       "\t\t<dd>5</dd>\n",
       "\t<dt>Sat</dt>\n",
       "\t\t<dd>6</dd>\n",
       "\t<dt>Sun</dt>\n",
       "\t\t<dd>7</dd>\n",
       "</dl>\n"
      ],
      "text/latex": [
       "\\begin{description*}\n",
       "\\item[Mon] 1\n",
       "\\item[Tue] 2\n",
       "\\item[Wed] 3\n",
       "\\item[Thu] 4\n",
       "\\item[Fri] 5\n",
       "\\item[Sat] 6\n",
       "\\item[Sun] 7\n",
       "\\end{description*}\n"
      ],
      "text/markdown": [
       "Mon\n",
       ":   1Tue\n",
       ":   2Wed\n",
       ":   3Thu\n",
       ":   4Fri\n",
       ":   5Sat\n",
       ":   6Sun\n",
       ":   7\n",
       "\n"
      ],
      "text/plain": [
       "Mon Tue Wed Thu Fri Sat Sun \n",
       "  1   2   3   4   5   6   7 "
      ]
     },
     "metadata": {},
     "output_type": "display_data"
    }
   ],
   "source": [
    "days <- c('Mon','Tue','Wed','Thu','Fri','Sat','Sun')\n",
    "temps2 <- c(1,2,3,4,5,6,7)\n",
    "names(temps2) <- days\n",
    "temps2"
   ]
  },
  {
   "cell_type": "code",
   "execution_count": null,
   "id": "superior-marketing",
   "metadata": {},
   "outputs": [],
   "source": []
  }
 ],
 "metadata": {
  "kernelspec": {
   "display_name": "R",
   "language": "R",
   "name": "ir"
  },
  "language_info": {
   "codemirror_mode": "r",
   "file_extension": ".r",
   "mimetype": "text/x-r-source",
   "name": "R",
   "pygments_lexer": "r",
   "version": "3.6.1"
  }
 },
 "nbformat": 4,
 "nbformat_minor": 5
}
