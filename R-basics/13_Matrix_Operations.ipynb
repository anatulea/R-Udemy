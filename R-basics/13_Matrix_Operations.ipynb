{
 "cells": [
  {
   "cell_type": "markdown",
   "id": "tender-stake",
   "metadata": {},
   "source": [
    "# Matrix Operations"
   ]
  },
  {
   "cell_type": "code",
   "execution_count": 1,
   "id": "quality-diagnosis",
   "metadata": {},
   "outputs": [
    {
     "data": {
      "text/html": [
       "<table>\n",
       "<thead><tr><th></th><th scope=col>Mon</th><th scope=col>Tue</th><th scope=col>Wed</th><th scope=col>Thu</th><th scope=col>Fri</th></tr></thead>\n",
       "<tbody>\n",
       "\t<tr><th scope=row>GOOG</th><td>450</td><td>451</td><td>452</td><td>445</td><td>468</td></tr>\n",
       "\t<tr><th scope=row>MSFT</th><td>230</td><td>231</td><td>232</td><td>236</td><td>228</td></tr>\n",
       "</tbody>\n",
       "</table>\n"
      ],
      "text/latex": [
       "\\begin{tabular}{r|lllll}\n",
       "  & Mon & Tue & Wed & Thu & Fri\\\\\n",
       "\\hline\n",
       "\tGOOG & 450 & 451 & 452 & 445 & 468\\\\\n",
       "\tMSFT & 230 & 231 & 232 & 236 & 228\\\\\n",
       "\\end{tabular}\n"
      ],
      "text/markdown": [
       "\n",
       "| <!--/--> | Mon | Tue | Wed | Thu | Fri |\n",
       "|---|---|---|---|---|---|\n",
       "| GOOG | 450 | 451 | 452 | 445 | 468 |\n",
       "| MSFT | 230 | 231 | 232 | 236 | 228 |\n",
       "\n"
      ],
      "text/plain": [
       "     Mon Tue Wed Thu Fri\n",
       "GOOG 450 451 452 445 468\n",
       "MSFT 230 231 232 236 228"
      ]
     },
     "metadata": {},
     "output_type": "display_data"
    }
   ],
   "source": [
    "# Prices\n",
    "goog <- c(450,451,452,445,468)\n",
    "msft <- c(230,231,232,236,228)\n",
    "\n",
    "# Put vectors into matrix\n",
    "stocks <- c(goog,msft)\n",
    "stock.matrix <- matrix(stocks,byrow=TRUE,nrow=2)\n",
    "\n",
    "# Name matrix\n",
    "days <- c('Mon','Tue','Wed','Thu','Fri')\n",
    "st.names <- c('GOOG','MSFT')\n",
    "colnames(stock.matrix) <- days\n",
    "rownames(stock.matrix) <- st.names\n",
    "\n",
    "# Display\n",
    "stock.matrix"
   ]
  },
  {
   "cell_type": "code",
   "execution_count": 2,
   "id": "furnished-david",
   "metadata": {},
   "outputs": [
    {
     "data": {
      "text/html": [
       "<dl class=dl-horizontal>\n",
       "\t<dt>Mon</dt>\n",
       "\t\t<dd>680</dd>\n",
       "\t<dt>Tue</dt>\n",
       "\t\t<dd>682</dd>\n",
       "\t<dt>Wed</dt>\n",
       "\t\t<dd>684</dd>\n",
       "\t<dt>Thu</dt>\n",
       "\t\t<dd>681</dd>\n",
       "\t<dt>Fri</dt>\n",
       "\t\t<dd>696</dd>\n",
       "</dl>\n"
      ],
      "text/latex": [
       "\\begin{description*}\n",
       "\\item[Mon] 680\n",
       "\\item[Tue] 682\n",
       "\\item[Wed] 684\n",
       "\\item[Thu] 681\n",
       "\\item[Fri] 696\n",
       "\\end{description*}\n"
      ],
      "text/markdown": [
       "Mon\n",
       ":   680Tue\n",
       ":   682Wed\n",
       ":   684Thu\n",
       ":   681Fri\n",
       ":   696\n",
       "\n"
      ],
      "text/plain": [
       "Mon Tue Wed Thu Fri \n",
       "680 682 684 681 696 "
      ]
     },
     "metadata": {},
     "output_type": "display_data"
    }
   ],
   "source": [
    "colSums(stock.matrix)"
   ]
  },
  {
   "cell_type": "code",
   "execution_count": 3,
   "id": "victorian-baseline",
   "metadata": {},
   "outputs": [
    {
     "data": {
      "text/html": [
       "<dl class=dl-horizontal>\n",
       "\t<dt>GOOG</dt>\n",
       "\t\t<dd>2266</dd>\n",
       "\t<dt>MSFT</dt>\n",
       "\t\t<dd>1157</dd>\n",
       "</dl>\n"
      ],
      "text/latex": [
       "\\begin{description*}\n",
       "\\item[GOOG] 2266\n",
       "\\item[MSFT] 1157\n",
       "\\end{description*}\n"
      ],
      "text/markdown": [
       "GOOG\n",
       ":   2266MSFT\n",
       ":   1157\n",
       "\n"
      ],
      "text/plain": [
       "GOOG MSFT \n",
       "2266 1157 "
      ]
     },
     "metadata": {},
     "output_type": "display_data"
    }
   ],
   "source": [
    "# Doesn't really make sense for stocks, but just to show how it works\n",
    "rowSums(stock.matrix)"
   ]
  },
  {
   "cell_type": "code",
   "execution_count": 4,
   "id": "modern-regular",
   "metadata": {},
   "outputs": [
    {
     "data": {
      "text/html": [
       "<dl class=dl-horizontal>\n",
       "\t<dt>GOOG</dt>\n",
       "\t\t<dd>453.2</dd>\n",
       "\t<dt>MSFT</dt>\n",
       "\t\t<dd>231.4</dd>\n",
       "</dl>\n"
      ],
      "text/latex": [
       "\\begin{description*}\n",
       "\\item[GOOG] 453.2\n",
       "\\item[MSFT] 231.4\n",
       "\\end{description*}\n"
      ],
      "text/markdown": [
       "GOOG\n",
       ":   453.2MSFT\n",
       ":   231.4\n",
       "\n"
      ],
      "text/plain": [
       " GOOG  MSFT \n",
       "453.2 231.4 "
      ]
     },
     "metadata": {},
     "output_type": "display_data"
    }
   ],
   "source": [
    "rowMeans(stock.matrix)"
   ]
  },
  {
   "cell_type": "markdown",
   "id": "returning-rates",
   "metadata": {},
   "source": [
    "## Binding columns and rows"
   ]
  },
  {
   "cell_type": "code",
   "execution_count": 5,
   "id": "sorted-animal",
   "metadata": {},
   "outputs": [],
   "source": [
    "#  we can add columns and rows to a matrix, we can use the cbind() to bind a new column, and rbind() to bind a new row. For example, let's bind a new row with Facebook stock:\n",
    "FB <- c(111,112,113,120,145)\n"
   ]
  },
  {
   "cell_type": "code",
   "execution_count": 6,
   "id": "annoying-clear",
   "metadata": {},
   "outputs": [],
   "source": [
    "tech.stocks <- rbind(stock.matrix,FB)\n"
   ]
  },
  {
   "cell_type": "code",
   "execution_count": 7,
   "id": "forbidden-zambia",
   "metadata": {},
   "outputs": [
    {
     "data": {
      "text/html": [
       "<table>\n",
       "<thead><tr><th></th><th scope=col>Mon</th><th scope=col>Tue</th><th scope=col>Wed</th><th scope=col>Thu</th><th scope=col>Fri</th></tr></thead>\n",
       "<tbody>\n",
       "\t<tr><th scope=row>GOOG</th><td>450</td><td>451</td><td>452</td><td>445</td><td>468</td></tr>\n",
       "\t<tr><th scope=row>MSFT</th><td>230</td><td>231</td><td>232</td><td>236</td><td>228</td></tr>\n",
       "\t<tr><th scope=row>FB</th><td>111</td><td>112</td><td>113</td><td>120</td><td>145</td></tr>\n",
       "</tbody>\n",
       "</table>\n"
      ],
      "text/latex": [
       "\\begin{tabular}{r|lllll}\n",
       "  & Mon & Tue & Wed & Thu & Fri\\\\\n",
       "\\hline\n",
       "\tGOOG & 450 & 451 & 452 & 445 & 468\\\\\n",
       "\tMSFT & 230 & 231 & 232 & 236 & 228\\\\\n",
       "\tFB & 111 & 112 & 113 & 120 & 145\\\\\n",
       "\\end{tabular}\n"
      ],
      "text/markdown": [
       "\n",
       "| <!--/--> | Mon | Tue | Wed | Thu | Fri |\n",
       "|---|---|---|---|---|---|\n",
       "| GOOG | 450 | 451 | 452 | 445 | 468 |\n",
       "| MSFT | 230 | 231 | 232 | 236 | 228 |\n",
       "| FB | 111 | 112 | 113 | 120 | 145 |\n",
       "\n"
      ],
      "text/plain": [
       "     Mon Tue Wed Thu Fri\n",
       "GOOG 450 451 452 445 468\n",
       "MSFT 230 231 232 236 228\n",
       "FB   111 112 113 120 145"
      ]
     },
     "metadata": {},
     "output_type": "display_data"
    }
   ],
   "source": [
    "tech.stocks"
   ]
  },
  {
   "cell_type": "code",
   "execution_count": 8,
   "id": "lined-grill",
   "metadata": {},
   "outputs": [],
   "source": [
    "avg <- rowMeans(tech.stocks)"
   ]
  },
  {
   "cell_type": "code",
   "execution_count": 9,
   "id": "injured-syntax",
   "metadata": {},
   "outputs": [
    {
     "data": {
      "text/html": [
       "<dl class=dl-horizontal>\n",
       "\t<dt>GOOG</dt>\n",
       "\t\t<dd>453.2</dd>\n",
       "\t<dt>MSFT</dt>\n",
       "\t\t<dd>231.4</dd>\n",
       "\t<dt>FB</dt>\n",
       "\t\t<dd>120.2</dd>\n",
       "</dl>\n"
      ],
      "text/latex": [
       "\\begin{description*}\n",
       "\\item[GOOG] 453.2\n",
       "\\item[MSFT] 231.4\n",
       "\\item[FB] 120.2\n",
       "\\end{description*}\n"
      ],
      "text/markdown": [
       "GOOG\n",
       ":   453.2MSFT\n",
       ":   231.4FB\n",
       ":   120.2\n",
       "\n"
      ],
      "text/plain": [
       " GOOG  MSFT    FB \n",
       "453.2 231.4 120.2 "
      ]
     },
     "metadata": {},
     "output_type": "display_data"
    }
   ],
   "source": [
    "avg"
   ]
  },
  {
   "cell_type": "code",
   "execution_count": 10,
   "id": "cubic-fraction",
   "metadata": {},
   "outputs": [],
   "source": [
    "tech.stocks <- cbind(tech.stocks,avg)"
   ]
  },
  {
   "cell_type": "code",
   "execution_count": 11,
   "id": "amber-highlight",
   "metadata": {},
   "outputs": [
    {
     "data": {
      "text/html": [
       "<table>\n",
       "<thead><tr><th></th><th scope=col>Mon</th><th scope=col>Tue</th><th scope=col>Wed</th><th scope=col>Thu</th><th scope=col>Fri</th><th scope=col>avg</th></tr></thead>\n",
       "<tbody>\n",
       "\t<tr><th scope=row>GOOG</th><td>450  </td><td>451  </td><td>452  </td><td>445  </td><td>468  </td><td>453.2</td></tr>\n",
       "\t<tr><th scope=row>MSFT</th><td>230  </td><td>231  </td><td>232  </td><td>236  </td><td>228  </td><td>231.4</td></tr>\n",
       "\t<tr><th scope=row>FB</th><td>111  </td><td>112  </td><td>113  </td><td>120  </td><td>145  </td><td>120.2</td></tr>\n",
       "</tbody>\n",
       "</table>\n"
      ],
      "text/latex": [
       "\\begin{tabular}{r|llllll}\n",
       "  & Mon & Tue & Wed & Thu & Fri & avg\\\\\n",
       "\\hline\n",
       "\tGOOG & 450   & 451   & 452   & 445   & 468   & 453.2\\\\\n",
       "\tMSFT & 230   & 231   & 232   & 236   & 228   & 231.4\\\\\n",
       "\tFB & 111   & 112   & 113   & 120   & 145   & 120.2\\\\\n",
       "\\end{tabular}\n"
      ],
      "text/markdown": [
       "\n",
       "| <!--/--> | Mon | Tue | Wed | Thu | Fri | avg |\n",
       "|---|---|---|---|---|---|---|\n",
       "| GOOG | 450   | 451   | 452   | 445   | 468   | 453.2 |\n",
       "| MSFT | 230   | 231   | 232   | 236   | 228   | 231.4 |\n",
       "| FB | 111   | 112   | 113   | 120   | 145   | 120.2 |\n",
       "\n"
      ],
      "text/plain": [
       "     Mon Tue Wed Thu Fri avg  \n",
       "GOOG 450 451 452 445 468 453.2\n",
       "MSFT 230 231 232 236 228 231.4\n",
       "FB   111 112 113 120 145 120.2"
      ]
     },
     "metadata": {},
     "output_type": "display_data"
    }
   ],
   "source": [
    "tech.stocks"
   ]
  },
  {
   "cell_type": "code",
   "execution_count": null,
   "id": "martial-segment",
   "metadata": {},
   "outputs": [],
   "source": []
  }
 ],
 "metadata": {
  "kernelspec": {
   "display_name": "R",
   "language": "R",
   "name": "ir"
  },
  "language_info": {
   "codemirror_mode": "r",
   "file_extension": ".r",
   "mimetype": "text/x-r-source",
   "name": "R",
   "pygments_lexer": "r",
   "version": "3.6.1"
  }
 },
 "nbformat": 4,
 "nbformat_minor": 5
}
