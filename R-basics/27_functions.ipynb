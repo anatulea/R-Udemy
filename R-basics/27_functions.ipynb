{
 "cells": [
  {
   "cell_type": "markdown",
   "id": "pursuant-petite",
   "metadata": {},
   "source": [
    "# Introduction to Functions"
   ]
  },
  {
   "cell_type": "code",
   "execution_count": 2,
   "id": "square-jaguar",
   "metadata": {},
   "outputs": [
    {
     "name": "stdout",
     "output_type": "stream",
     "text": [
      "[1] \"hello!\"\n"
     ]
    }
   ],
   "source": [
    "# Simple function, no inputs!\n",
    "hello <- function(){\n",
    "    print('hello!')\n",
    "}\n",
    "hello()"
   ]
  },
  {
   "cell_type": "code",
   "execution_count": 3,
   "id": "periodic-reaction",
   "metadata": {},
   "outputs": [
    {
     "name": "stdout",
     "output_type": "stream",
     "text": [
      "[1] \"hello  Sammy\"\n"
     ]
    }
   ],
   "source": [
    "helloyou <- function(name){\n",
    "    print(paste('hello ',name))\n",
    "}\n",
    "helloyou('Sammy')"
   ]
  },
  {
   "cell_type": "code",
   "execution_count": 4,
   "id": "meaningful-responsibility",
   "metadata": {},
   "outputs": [
    {
     "name": "stdout",
     "output_type": "stream",
     "text": [
      "[1] 15\n"
     ]
    }
   ],
   "source": [
    "add_num <- function(num1,num2){\n",
    "    print(num1+num2)\n",
    "}\n",
    "add_num(5,10)"
   ]
  },
  {
   "cell_type": "markdown",
   "id": "floral-saint",
   "metadata": {},
   "source": [
    "## Default values"
   ]
  },
  {
   "cell_type": "code",
   "execution_count": 5,
   "id": "eleven-millennium",
   "metadata": {},
   "outputs": [
    {
     "name": "stdout",
     "output_type": "stream",
     "text": [
      "[1] \"Hello  Frankie\"\n"
     ]
    }
   ],
   "source": [
    "hello_someone <- function(name='Frankie'){\n",
    "    print(paste('Hello ',name))\n",
    "}\n",
    "# uses default\n",
    "hello_someone()"
   ]
  },
  {
   "cell_type": "code",
   "execution_count": 6,
   "id": "legislative-integer",
   "metadata": {},
   "outputs": [
    {
     "name": "stdout",
     "output_type": "stream",
     "text": [
      "[1] \"Hello  Sammy\"\n"
     ]
    }
   ],
   "source": [
    "# overwrite default\n",
    "hello_someone('Sammy')"
   ]
  },
  {
   "cell_type": "markdown",
   "id": "german-animal",
   "metadata": {},
   "source": [
    "## Returning Values"
   ]
  },
  {
   "cell_type": "code",
   "execution_count": 7,
   "id": "resident-group",
   "metadata": {},
   "outputs": [
    {
     "data": {
      "text/html": [
       "<span style=white-space:pre-wrap>'Sir   Sam'</span>"
      ],
      "text/latex": [
       "'Sir   Sam'"
      ],
      "text/markdown": [
       "<span style=white-space:pre-wrap>'Sir   Sam'</span>"
      ],
      "text/plain": [
       "[1] \"Sir   Sam\""
      ]
     },
     "metadata": {},
     "output_type": "display_data"
    }
   ],
   "source": [
    "formal <- function(name='Sam',title='Sir'){\n",
    "    return(paste(title,' ',name))\n",
    "}\n",
    "formal()"
   ]
  },
  {
   "cell_type": "code",
   "execution_count": 8,
   "id": "polar-worcester",
   "metadata": {},
   "outputs": [
    {
     "data": {
      "text/html": [
       "<span style=white-space:pre-wrap>'Sir   Issac Newton'</span>"
      ],
      "text/latex": [
       "'Sir   Issac Newton'"
      ],
      "text/markdown": [
       "<span style=white-space:pre-wrap>'Sir   Issac Newton'</span>"
      ],
      "text/plain": [
       "[1] \"Sir   Issac Newton\""
      ]
     },
     "metadata": {},
     "output_type": "display_data"
    }
   ],
   "source": [
    "formal('Issac Newton')"
   ]
  },
  {
   "cell_type": "code",
   "execution_count": 9,
   "id": "secondary-advancement",
   "metadata": {},
   "outputs": [
    {
     "data": {
      "text/html": [
       "<span style=white-space:pre-wrap>'Ms.   Marie Curie'</span>"
      ],
      "text/latex": [
       "'Ms.   Marie Curie'"
      ],
      "text/markdown": [
       "<span style=white-space:pre-wrap>'Ms.   Marie Curie'</span>"
      ],
      "text/plain": [
       "[1] \"Ms.   Marie Curie\""
      ]
     },
     "metadata": {},
     "output_type": "display_data"
    }
   ],
   "source": [
    "var <- formal('Marie Curie','Ms.')\n",
    "var"
   ]
  },
  {
   "cell_type": "markdown",
   "id": "elder-indian",
   "metadata": {},
   "source": [
    "## Scope"
   ]
  },
  {
   "cell_type": "markdown",
   "id": "contemporary-tomato",
   "metadata": {},
   "source": [
    "Scope is the term we use to describe how objects and variable get defined within R. When discussing scope with functions, as a general rule we can say that if a variable is defined only inside a function than its scope is limited to that function. "
   ]
  },
  {
   "cell_type": "code",
   "execution_count": 10,
   "id": "cardiac-joyce",
   "metadata": {},
   "outputs": [],
   "source": [
    "# Multiplies input by 5\n",
    "times5 <- function(input) {\n",
    "  result <- input ^ 2\n",
    "  return(result)\n",
    "}"
   ]
  },
  {
   "cell_type": "code",
   "execution_count": 11,
   "id": "binary-acceptance",
   "metadata": {},
   "outputs": [
    {
     "ename": "ERROR",
     "evalue": "Error in pow_two(4): could not find function \"pow_two\"\n",
     "output_type": "error",
     "traceback": [
      "Error in pow_two(4): could not find function \"pow_two\"\nTraceback:\n"
     ]
    }
   ],
   "source": [
    "pow_two(4)\n",
    "result # Not defined outside the scope of the function\n",
    "input # Not defined outside the scope of the function"
   ]
  },
  {
   "cell_type": "markdown",
   "id": "difficult-soviet",
   "metadata": {},
   "source": [
    "These error indicate that these variables are only defined inside the scope of the function. So variables defined inside of a function are only defined (or redefined) inside of that function. However, variables assigned outside of the function are global variables, and the function will have access to them due to their scope. For example:\n",
    "\n"
   ]
  },
  {
   "cell_type": "code",
   "execution_count": 12,
   "id": "equivalent-recommendation",
   "metadata": {},
   "outputs": [],
   "source": [
    "v <- \"I'm global v\"\n",
    "stuff <- \"I'm global stuff\"\n",
    "\n",
    "fun <- function(stuff){\n",
    "    print(v) \n",
    "    stuff <- 'Reassign stuff inside func'\n",
    "    print(stuff)\n",
    "}"
   ]
  },
  {
   "cell_type": "code",
   "execution_count": 13,
   "id": "prospective-wesley",
   "metadata": {},
   "outputs": [
    {
     "name": "stdout",
     "output_type": "stream",
     "text": [
      "[1] \"I'm global v\"\n",
      "[1] \"I'm global stuff\"\n",
      "[1] \"I'm global v\"\n",
      "[1] \"Reassign stuff inside func\"\n",
      "[1] \"I'm global stuff\"\n"
     ]
    }
   ],
   "source": [
    "print(v) #print v\n",
    "print(stuff) #print stuff\n",
    "fun(stuff) # pass stuff to function\n",
    "# reassignment only happens in scope of function\n",
    "print(stuff)\n"
   ]
  },
  {
   "cell_type": "markdown",
   "id": "heard-debate",
   "metadata": {},
   "source": [
    "So what is happening above? The following happens\n",
    "\n",
    "**print(v)** will check for the global variable v, the outer scope\n",
    "\n",
    "**print(stuff)** will also check for the global variable stuff\n",
    "\n",
    "**fun(stuff)** will accept an argument stuff, print out v, and then reassign stuff (in the scope of the function) and print out stuff. Notice two things:\n",
    "\n",
    " - The reassignment of stuff only effects the scope of the stuff variable inside the function\n",
    " - The fun function first checks to see if v is defined at the function scope, if not (which was the case) it will then search the global scope for a variable names v, leading to it printing out \"I'm global v\".\n"
   ]
  },
  {
   "cell_type": "code",
   "execution_count": 15,
   "id": "transsexual-newark",
   "metadata": {},
   "outputs": [
    {
     "data": {
      "text/html": [
       "10"
      ],
      "text/latex": [
       "10"
      ],
      "text/markdown": [
       "10"
      ],
      "text/plain": [
       "[1] 10"
      ]
     },
     "metadata": {},
     "output_type": "display_data"
    },
    {
     "data": {
      "text/html": [
       "5"
      ],
      "text/latex": [
       "5"
      ],
      "text/markdown": [
       "5"
      ],
      "text/plain": [
       "[1] 5"
      ]
     },
     "metadata": {},
     "output_type": "display_data"
    }
   ],
   "source": [
    "double <- function(a) {\n",
    "  a <- 2*a\n",
    "  a\n",
    "}\n",
    "var <- 5\n",
    "double(var)\n",
    "var"
   ]
  },
  {
   "cell_type": "code",
   "execution_count": null,
   "id": "representative-intelligence",
   "metadata": {},
   "outputs": [],
   "source": []
  }
 ],
 "metadata": {
  "kernelspec": {
   "display_name": "R",
   "language": "R",
   "name": "ir"
  },
  "language_info": {
   "codemirror_mode": "r",
   "file_extension": ".r",
   "mimetype": "text/x-r-source",
   "name": "R",
   "pygments_lexer": "r",
   "version": "3.6.1"
  }
 },
 "nbformat": 4,
 "nbformat_minor": 5
}
