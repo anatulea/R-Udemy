{
 "cells": [
  {
   "cell_type": "markdown",
   "id": "surgical-rebound",
   "metadata": {},
   "source": [
    "# Data Frame Selection and Indexing"
   ]
  },
  {
   "cell_type": "code",
   "execution_count": 1,
   "id": "ruled-melbourne",
   "metadata": {},
   "outputs": [],
   "source": [
    "# Some made up weather data\n",
    "days <- c('mon','tue','wed','thu','fri')\n",
    "temp <- c(22.2,21,23,24.3,25)\n",
    "rain <- c(TRUE, TRUE, FALSE, FALSE, TRUE)\n",
    "\n",
    "# Pass in the vectors:\n",
    "df <- data.frame(days,temp,rain)"
   ]
  },
  {
   "cell_type": "code",
   "execution_count": 2,
   "id": "judicial-heating",
   "metadata": {},
   "outputs": [
    {
     "data": {
      "text/html": [
       "<table>\n",
       "<thead><tr><th scope=col>days</th><th scope=col>temp</th><th scope=col>rain</th></tr></thead>\n",
       "<tbody>\n",
       "\t<tr><td>mon  </td><td>22.2 </td><td> TRUE</td></tr>\n",
       "\t<tr><td>tue  </td><td>21.0 </td><td> TRUE</td></tr>\n",
       "\t<tr><td>wed  </td><td>23.0 </td><td>FALSE</td></tr>\n",
       "\t<tr><td>thu  </td><td>24.3 </td><td>FALSE</td></tr>\n",
       "\t<tr><td>fri  </td><td>25.0 </td><td> TRUE</td></tr>\n",
       "</tbody>\n",
       "</table>\n"
      ],
      "text/latex": [
       "\\begin{tabular}{r|lll}\n",
       " days & temp & rain\\\\\n",
       "\\hline\n",
       "\t mon   & 22.2  &  TRUE\\\\\n",
       "\t tue   & 21.0  &  TRUE\\\\\n",
       "\t wed   & 23.0  & FALSE\\\\\n",
       "\t thu   & 24.3  & FALSE\\\\\n",
       "\t fri   & 25.0  &  TRUE\\\\\n",
       "\\end{tabular}\n"
      ],
      "text/markdown": [
       "\n",
       "| days | temp | rain |\n",
       "|---|---|---|\n",
       "| mon   | 22.2  |  TRUE |\n",
       "| tue   | 21.0  |  TRUE |\n",
       "| wed   | 23.0  | FALSE |\n",
       "| thu   | 24.3  | FALSE |\n",
       "| fri   | 25.0  |  TRUE |\n",
       "\n"
      ],
      "text/plain": [
       "  days temp rain \n",
       "1 mon  22.2  TRUE\n",
       "2 tue  21.0  TRUE\n",
       "3 wed  23.0 FALSE\n",
       "4 thu  24.3 FALSE\n",
       "5 fri  25.0  TRUE"
      ]
     },
     "metadata": {},
     "output_type": "display_data"
    }
   ],
   "source": [
    "df"
   ]
  },
  {
   "cell_type": "code",
   "execution_count": 3,
   "id": "alert-village",
   "metadata": {},
   "outputs": [
    {
     "data": {
      "text/html": [
       "<table>\n",
       "<thead><tr><th scope=col>days</th><th scope=col>temp</th><th scope=col>rain</th></tr></thead>\n",
       "<tbody>\n",
       "\t<tr><td>mon </td><td>22.2</td><td>TRUE</td></tr>\n",
       "</tbody>\n",
       "</table>\n"
      ],
      "text/latex": [
       "\\begin{tabular}{r|lll}\n",
       " days & temp & rain\\\\\n",
       "\\hline\n",
       "\t mon  & 22.2 & TRUE\\\\\n",
       "\\end{tabular}\n"
      ],
      "text/markdown": [
       "\n",
       "| days | temp | rain |\n",
       "|---|---|---|\n",
       "| mon  | 22.2 | TRUE |\n",
       "\n"
      ],
      "text/plain": [
       "  days temp rain\n",
       "1 mon  22.2 TRUE"
      ]
     },
     "metadata": {},
     "output_type": "display_data"
    }
   ],
   "source": [
    "# We can use the same bracket notation we used for matrices:\n",
    "# df[rows,columns]\n",
    "\n",
    "# Everything from first row\n",
    "df[1,]"
   ]
  },
  {
   "cell_type": "code",
   "execution_count": 4,
   "id": "outside-network",
   "metadata": {},
   "outputs": [
    {
     "data": {
      "text/html": [
       "<table>\n",
       "<thead><tr><th></th><th scope=col>days</th><th scope=col>temp</th><th scope=col>rain</th></tr></thead>\n",
       "<tbody>\n",
       "\t<tr><th scope=row>5</th><td>fri </td><td>25  </td><td>TRUE</td></tr>\n",
       "</tbody>\n",
       "</table>\n"
      ],
      "text/latex": [
       "\\begin{tabular}{r|lll}\n",
       "  & days & temp & rain\\\\\n",
       "\\hline\n",
       "\t5 & fri  & 25   & TRUE\\\\\n",
       "\\end{tabular}\n"
      ],
      "text/markdown": [
       "\n",
       "| <!--/--> | days | temp | rain |\n",
       "|---|---|---|---|\n",
       "| 5 | fri  | 25   | TRUE |\n",
       "\n"
      ],
      "text/plain": [
       "  days temp rain\n",
       "5 fri  25   TRUE"
      ]
     },
     "metadata": {},
     "output_type": "display_data"
    }
   ],
   "source": [
    "# Grab Friday data\n",
    "df[5,]\n"
   ]
  },
  {
   "cell_type": "markdown",
   "id": "corporate-silver",
   "metadata": {},
   "source": [
    "## Selecting using column names"
   ]
  },
  {
   "cell_type": "code",
   "execution_count": 5,
   "id": "distant-placement",
   "metadata": {},
   "outputs": [
    {
     "data": {
      "text/html": [
       "<ol class=list-inline>\n",
       "\t<li>TRUE</li>\n",
       "\t<li>TRUE</li>\n",
       "\t<li>FALSE</li>\n",
       "\t<li>FALSE</li>\n",
       "\t<li>TRUE</li>\n",
       "</ol>\n"
      ],
      "text/latex": [
       "\\begin{enumerate*}\n",
       "\\item TRUE\n",
       "\\item TRUE\n",
       "\\item FALSE\n",
       "\\item FALSE\n",
       "\\item TRUE\n",
       "\\end{enumerate*}\n"
      ],
      "text/markdown": [
       "1. TRUE\n",
       "2. TRUE\n",
       "3. FALSE\n",
       "4. FALSE\n",
       "5. TRUE\n",
       "\n",
       "\n"
      ],
      "text/plain": [
       "[1]  TRUE  TRUE FALSE FALSE  TRUE"
      ]
     },
     "metadata": {},
     "output_type": "display_data"
    }
   ],
   "source": [
    "# Here is where data frames become very powerful, we can use column names to select data for the columns instead of having to remember numbers. \n",
    "# All rain values\n",
    "df[,'rain']"
   ]
  },
  {
   "cell_type": "code",
   "execution_count": 6,
   "id": "patent-keeping",
   "metadata": {},
   "outputs": [
    {
     "data": {
      "text/html": [
       "<table>\n",
       "<thead><tr><th scope=col>days</th><th scope=col>temp</th></tr></thead>\n",
       "<tbody>\n",
       "\t<tr><td>mon </td><td>22.2</td></tr>\n",
       "\t<tr><td>tue </td><td>21.0</td></tr>\n",
       "\t<tr><td>wed </td><td>23.0</td></tr>\n",
       "\t<tr><td>thu </td><td>24.3</td></tr>\n",
       "\t<tr><td>fri </td><td>25.0</td></tr>\n",
       "</tbody>\n",
       "</table>\n"
      ],
      "text/latex": [
       "\\begin{tabular}{r|ll}\n",
       " days & temp\\\\\n",
       "\\hline\n",
       "\t mon  & 22.2\\\\\n",
       "\t tue  & 21.0\\\\\n",
       "\t wed  & 23.0\\\\\n",
       "\t thu  & 24.3\\\\\n",
       "\t fri  & 25.0\\\\\n",
       "\\end{tabular}\n"
      ],
      "text/markdown": [
       "\n",
       "| days | temp |\n",
       "|---|---|\n",
       "| mon  | 22.2 |\n",
       "| tue  | 21.0 |\n",
       "| wed  | 23.0 |\n",
       "| thu  | 24.3 |\n",
       "| fri  | 25.0 |\n",
       "\n"
      ],
      "text/plain": [
       "  days temp\n",
       "1 mon  22.2\n",
       "2 tue  21.0\n",
       "3 wed  23.0\n",
       "4 thu  24.3\n",
       "5 fri  25.0"
      ]
     },
     "metadata": {},
     "output_type": "display_data"
    }
   ],
   "source": [
    "# First 5 rows for days and temps\n",
    "df[1:5,c('days','temp')]"
   ]
  },
  {
   "cell_type": "code",
   "execution_count": 7,
   "id": "celtic-directory",
   "metadata": {},
   "outputs": [
    {
     "data": {
      "text/html": [
       "<ol class=list-inline>\n",
       "\t<li>TRUE</li>\n",
       "\t<li>TRUE</li>\n",
       "\t<li>FALSE</li>\n",
       "\t<li>FALSE</li>\n",
       "\t<li>TRUE</li>\n",
       "</ol>\n"
      ],
      "text/latex": [
       "\\begin{enumerate*}\n",
       "\\item TRUE\n",
       "\\item TRUE\n",
       "\\item FALSE\n",
       "\\item FALSE\n",
       "\\item TRUE\n",
       "\\end{enumerate*}\n"
      ],
      "text/markdown": [
       "1. TRUE\n",
       "2. TRUE\n",
       "3. FALSE\n",
       "4. FALSE\n",
       "5. TRUE\n",
       "\n",
       "\n"
      ],
      "text/plain": [
       "[1]  TRUE  TRUE FALSE FALSE  TRUE"
      ]
     },
     "metadata": {},
     "output_type": "display_data"
    }
   ],
   "source": [
    "# If you want all the values of a particular column you can use the dollar sign directly after the dataframe as follows:\n",
    "# df.name$column.name\n",
    "df$rain"
   ]
  },
  {
   "cell_type": "code",
   "execution_count": 8,
   "id": "statistical-poetry",
   "metadata": {},
   "outputs": [
    {
     "data": {
      "text/html": [
       "<ol class=list-inline>\n",
       "\t<li>mon</li>\n",
       "\t<li>tue</li>\n",
       "\t<li>wed</li>\n",
       "\t<li>thu</li>\n",
       "\t<li>fri</li>\n",
       "</ol>\n",
       "\n",
       "<details>\n",
       "\t<summary style=display:list-item;cursor:pointer>\n",
       "\t\t<strong>Levels</strong>:\n",
       "\t</summary>\n",
       "\t<ol class=list-inline>\n",
       "\t\t<li>'fri'</li>\n",
       "\t\t<li>'mon'</li>\n",
       "\t\t<li>'thu'</li>\n",
       "\t\t<li>'tue'</li>\n",
       "\t\t<li>'wed'</li>\n",
       "\t</ol>\n",
       "</details>"
      ],
      "text/latex": [
       "\\begin{enumerate*}\n",
       "\\item mon\n",
       "\\item tue\n",
       "\\item wed\n",
       "\\item thu\n",
       "\\item fri\n",
       "\\end{enumerate*}\n",
       "\n",
       "\\emph{Levels}: \\begin{enumerate*}\n",
       "\\item 'fri'\n",
       "\\item 'mon'\n",
       "\\item 'thu'\n",
       "\\item 'tue'\n",
       "\\item 'wed'\n",
       "\\end{enumerate*}\n"
      ],
      "text/markdown": [
       "1. mon\n",
       "2. tue\n",
       "3. wed\n",
       "4. thu\n",
       "5. fri\n",
       "\n",
       "\n",
       "\n",
       "**Levels**: 1. 'fri'\n",
       "2. 'mon'\n",
       "3. 'thu'\n",
       "4. 'tue'\n",
       "5. 'wed'\n",
       "\n",
       "\n"
      ],
      "text/plain": [
       "[1] mon tue wed thu fri\n",
       "Levels: fri mon thu tue wed"
      ]
     },
     "metadata": {},
     "output_type": "display_data"
    }
   ],
   "source": [
    "df$days"
   ]
  },
  {
   "cell_type": "code",
   "execution_count": 9,
   "id": "armed-oracle",
   "metadata": {},
   "outputs": [
    {
     "data": {
      "text/html": [
       "<table>\n",
       "<thead><tr><th scope=col>rain</th></tr></thead>\n",
       "<tbody>\n",
       "\t<tr><td> TRUE</td></tr>\n",
       "\t<tr><td> TRUE</td></tr>\n",
       "\t<tr><td>FALSE</td></tr>\n",
       "\t<tr><td>FALSE</td></tr>\n",
       "\t<tr><td> TRUE</td></tr>\n",
       "</tbody>\n",
       "</table>\n"
      ],
      "text/latex": [
       "\\begin{tabular}{r|l}\n",
       " rain\\\\\n",
       "\\hline\n",
       "\t  TRUE\\\\\n",
       "\t  TRUE\\\\\n",
       "\t FALSE\\\\\n",
       "\t FALSE\\\\\n",
       "\t  TRUE\\\\\n",
       "\\end{tabular}\n"
      ],
      "text/markdown": [
       "\n",
       "| rain |\n",
       "|---|\n",
       "|  TRUE |\n",
       "|  TRUE |\n",
       "| FALSE |\n",
       "| FALSE |\n",
       "|  TRUE |\n",
       "\n"
      ],
      "text/plain": [
       "  rain \n",
       "1  TRUE\n",
       "2  TRUE\n",
       "3 FALSE\n",
       "4 FALSE\n",
       "5  TRUE"
      ]
     },
     "metadata": {},
     "output_type": "display_data"
    }
   ],
   "source": [
    "# You can also use bracket notation to return a data frame format of the same information:\n",
    "df['rain']"
   ]
  },
  {
   "cell_type": "code",
   "execution_count": 10,
   "id": "annual-milton",
   "metadata": {},
   "outputs": [
    {
     "data": {
      "text/html": [
       "<table>\n",
       "<thead><tr><th scope=col>days</th></tr></thead>\n",
       "<tbody>\n",
       "\t<tr><td>mon</td></tr>\n",
       "\t<tr><td>tue</td></tr>\n",
       "\t<tr><td>wed</td></tr>\n",
       "\t<tr><td>thu</td></tr>\n",
       "\t<tr><td>fri</td></tr>\n",
       "</tbody>\n",
       "</table>\n"
      ],
      "text/latex": [
       "\\begin{tabular}{r|l}\n",
       " days\\\\\n",
       "\\hline\n",
       "\t mon\\\\\n",
       "\t tue\\\\\n",
       "\t wed\\\\\n",
       "\t thu\\\\\n",
       "\t fri\\\\\n",
       "\\end{tabular}\n"
      ],
      "text/markdown": [
       "\n",
       "| days |\n",
       "|---|\n",
       "| mon |\n",
       "| tue |\n",
       "| wed |\n",
       "| thu |\n",
       "| fri |\n",
       "\n"
      ],
      "text/plain": [
       "  days\n",
       "1 mon \n",
       "2 tue \n",
       "3 wed \n",
       "4 thu \n",
       "5 fri "
      ]
     },
     "metadata": {},
     "output_type": "display_data"
    }
   ],
   "source": [
    "df['days']"
   ]
  },
  {
   "cell_type": "markdown",
   "id": "faced-mounting",
   "metadata": {},
   "source": [
    "## Filtering with a subset condition\n"
   ]
  },
  {
   "cell_type": "markdown",
   "id": "celtic-islam",
   "metadata": {},
   "source": [
    "We can use the **subset()** function to grab a subset of values from our data frame based off some condition. So for example, imagin we wanted to grab the days where it rained (rain=True), we can use the subset() function as follows:"
   ]
  },
  {
   "cell_type": "code",
   "execution_count": 11,
   "id": "differential-right",
   "metadata": {},
   "outputs": [
    {
     "data": {
      "text/html": [
       "<table>\n",
       "<thead><tr><th></th><th scope=col>days</th><th scope=col>temp</th><th scope=col>rain</th></tr></thead>\n",
       "<tbody>\n",
       "\t<tr><th scope=row>1</th><td>mon </td><td>22.2</td><td>TRUE</td></tr>\n",
       "\t<tr><th scope=row>2</th><td>tue </td><td>21.0</td><td>TRUE</td></tr>\n",
       "\t<tr><th scope=row>5</th><td>fri </td><td>25.0</td><td>TRUE</td></tr>\n",
       "</tbody>\n",
       "</table>\n"
      ],
      "text/latex": [
       "\\begin{tabular}{r|lll}\n",
       "  & days & temp & rain\\\\\n",
       "\\hline\n",
       "\t1 & mon  & 22.2 & TRUE\\\\\n",
       "\t2 & tue  & 21.0 & TRUE\\\\\n",
       "\t5 & fri  & 25.0 & TRUE\\\\\n",
       "\\end{tabular}\n"
      ],
      "text/markdown": [
       "\n",
       "| <!--/--> | days | temp | rain |\n",
       "|---|---|---|---|\n",
       "| 1 | mon  | 22.2 | TRUE |\n",
       "| 2 | tue  | 21.0 | TRUE |\n",
       "| 5 | fri  | 25.0 | TRUE |\n",
       "\n"
      ],
      "text/plain": [
       "  days temp rain\n",
       "1 mon  22.2 TRUE\n",
       "2 tue  21.0 TRUE\n",
       "5 fri  25.0 TRUE"
      ]
     },
     "metadata": {},
     "output_type": "display_data"
    }
   ],
   "source": [
    "subset(df,subset=rain==TRUE)"
   ]
  },
  {
   "cell_type": "code",
   "execution_count": 12,
   "id": "surprised-nudist",
   "metadata": {},
   "outputs": [
    {
     "data": {
      "text/html": [
       "<table>\n",
       "<thead><tr><th></th><th scope=col>days</th><th scope=col>temp</th><th scope=col>rain</th></tr></thead>\n",
       "<tbody>\n",
       "\t<tr><th scope=row>4</th><td>thu  </td><td>24.3 </td><td>FALSE</td></tr>\n",
       "\t<tr><th scope=row>5</th><td>fri  </td><td>25.0 </td><td> TRUE</td></tr>\n",
       "</tbody>\n",
       "</table>\n"
      ],
      "text/latex": [
       "\\begin{tabular}{r|lll}\n",
       "  & days & temp & rain\\\\\n",
       "\\hline\n",
       "\t4 & thu   & 24.3  & FALSE\\\\\n",
       "\t5 & fri   & 25.0  &  TRUE\\\\\n",
       "\\end{tabular}\n"
      ],
      "text/markdown": [
       "\n",
       "| <!--/--> | days | temp | rain |\n",
       "|---|---|---|---|\n",
       "| 4 | thu   | 24.3  | FALSE |\n",
       "| 5 | fri   | 25.0  |  TRUE |\n",
       "\n"
      ],
      "text/plain": [
       "  days temp rain \n",
       "4 thu  24.3 FALSE\n",
       "5 fri  25.0  TRUE"
      ]
     },
     "metadata": {},
     "output_type": "display_data"
    }
   ],
   "source": [
    "# Notice how the condition uses some sort of comparison operator, in the above case ==. Let's grab days where the temperature was greater than 23:\n",
    "subset(df,subset= temp>23)"
   ]
  },
  {
   "cell_type": "markdown",
   "id": "industrial-elite",
   "metadata": {},
   "source": [
    "## Odering a Data Frame\n"
   ]
  },
  {
   "cell_type": "markdown",
   "id": "agricultural-samuel",
   "metadata": {},
   "source": [
    "We can sort the order of our data frame by using the order function. You pass in the column you want to sort by into the order() function, then you use that vector to select from the dataframe. Let's see an example of sorting by the temperature:"
   ]
  },
  {
   "cell_type": "code",
   "execution_count": 13,
   "id": "creative-biodiversity",
   "metadata": {},
   "outputs": [
    {
     "data": {
      "text/html": [
       "<table>\n",
       "<thead><tr><th></th><th scope=col>days</th><th scope=col>temp</th><th scope=col>rain</th></tr></thead>\n",
       "<tbody>\n",
       "\t<tr><th scope=row>2</th><td>tue  </td><td>21.0 </td><td> TRUE</td></tr>\n",
       "\t<tr><th scope=row>1</th><td>mon  </td><td>22.2 </td><td> TRUE</td></tr>\n",
       "\t<tr><th scope=row>3</th><td>wed  </td><td>23.0 </td><td>FALSE</td></tr>\n",
       "\t<tr><th scope=row>4</th><td>thu  </td><td>24.3 </td><td>FALSE</td></tr>\n",
       "\t<tr><th scope=row>5</th><td>fri  </td><td>25.0 </td><td> TRUE</td></tr>\n",
       "</tbody>\n",
       "</table>\n"
      ],
      "text/latex": [
       "\\begin{tabular}{r|lll}\n",
       "  & days & temp & rain\\\\\n",
       "\\hline\n",
       "\t2 & tue   & 21.0  &  TRUE\\\\\n",
       "\t1 & mon   & 22.2  &  TRUE\\\\\n",
       "\t3 & wed   & 23.0  & FALSE\\\\\n",
       "\t4 & thu   & 24.3  & FALSE\\\\\n",
       "\t5 & fri   & 25.0  &  TRUE\\\\\n",
       "\\end{tabular}\n"
      ],
      "text/markdown": [
       "\n",
       "| <!--/--> | days | temp | rain |\n",
       "|---|---|---|---|\n",
       "| 2 | tue   | 21.0  |  TRUE |\n",
       "| 1 | mon   | 22.2  |  TRUE |\n",
       "| 3 | wed   | 23.0  | FALSE |\n",
       "| 4 | thu   | 24.3  | FALSE |\n",
       "| 5 | fri   | 25.0  |  TRUE |\n",
       "\n"
      ],
      "text/plain": [
       "  days temp rain \n",
       "2 tue  21.0  TRUE\n",
       "1 mon  22.2  TRUE\n",
       "3 wed  23.0 FALSE\n",
       "4 thu  24.3 FALSE\n",
       "5 fri  25.0  TRUE"
      ]
     },
     "metadata": {},
     "output_type": "display_data"
    }
   ],
   "source": [
    "sorted.temp <- order(df['temp'])\n",
    "df[sorted.temp,]"
   ]
  },
  {
   "cell_type": "code",
   "execution_count": 14,
   "id": "approximate-abortion",
   "metadata": {},
   "outputs": [
    {
     "data": {
      "text/html": [
       "<ol class=list-inline>\n",
       "\t<li>2</li>\n",
       "\t<li>1</li>\n",
       "\t<li>3</li>\n",
       "\t<li>4</li>\n",
       "\t<li>5</li>\n",
       "</ol>\n"
      ],
      "text/latex": [
       "\\begin{enumerate*}\n",
       "\\item 2\n",
       "\\item 1\n",
       "\\item 3\n",
       "\\item 4\n",
       "\\item 5\n",
       "\\end{enumerate*}\n"
      ],
      "text/markdown": [
       "1. 2\n",
       "2. 1\n",
       "3. 3\n",
       "4. 4\n",
       "5. 5\n",
       "\n",
       "\n"
      ],
      "text/plain": [
       "[1] 2 1 3 4 5"
      ]
     },
     "metadata": {},
     "output_type": "display_data"
    }
   ],
   "source": [
    "sorted.temp"
   ]
  },
  {
   "cell_type": "code",
   "execution_count": 15,
   "id": "massive-perry",
   "metadata": {},
   "outputs": [
    {
     "data": {
      "text/html": [
       "<table>\n",
       "<thead><tr><th></th><th scope=col>days</th><th scope=col>temp</th><th scope=col>rain</th></tr></thead>\n",
       "<tbody>\n",
       "\t<tr><th scope=row>5</th><td>fri  </td><td>25.0 </td><td> TRUE</td></tr>\n",
       "\t<tr><th scope=row>4</th><td>thu  </td><td>24.3 </td><td>FALSE</td></tr>\n",
       "\t<tr><th scope=row>3</th><td>wed  </td><td>23.0 </td><td>FALSE</td></tr>\n",
       "\t<tr><th scope=row>1</th><td>mon  </td><td>22.2 </td><td> TRUE</td></tr>\n",
       "\t<tr><th scope=row>2</th><td>tue  </td><td>21.0 </td><td> TRUE</td></tr>\n",
       "</tbody>\n",
       "</table>\n"
      ],
      "text/latex": [
       "\\begin{tabular}{r|lll}\n",
       "  & days & temp & rain\\\\\n",
       "\\hline\n",
       "\t5 & fri   & 25.0  &  TRUE\\\\\n",
       "\t4 & thu   & 24.3  & FALSE\\\\\n",
       "\t3 & wed   & 23.0  & FALSE\\\\\n",
       "\t1 & mon   & 22.2  &  TRUE\\\\\n",
       "\t2 & tue   & 21.0  &  TRUE\\\\\n",
       "\\end{tabular}\n"
      ],
      "text/markdown": [
       "\n",
       "| <!--/--> | days | temp | rain |\n",
       "|---|---|---|---|\n",
       "| 5 | fri   | 25.0  |  TRUE |\n",
       "| 4 | thu   | 24.3  | FALSE |\n",
       "| 3 | wed   | 23.0  | FALSE |\n",
       "| 1 | mon   | 22.2  |  TRUE |\n",
       "| 2 | tue   | 21.0  |  TRUE |\n",
       "\n"
      ],
      "text/plain": [
       "  days temp rain \n",
       "5 fri  25.0  TRUE\n",
       "4 thu  24.3 FALSE\n",
       "3 wed  23.0 FALSE\n",
       "1 mon  22.2  TRUE\n",
       "2 tue  21.0  TRUE"
      ]
     },
     "metadata": {},
     "output_type": "display_data"
    }
   ],
   "source": [
    "# Ok, so we are just asking for those index elements in that order (by default ascending, we can pass a negative sign to do descending order):\n",
    "desc.temp <- order(-df['temp'])\n",
    "df[desc.temp,]"
   ]
  },
  {
   "cell_type": "code",
   "execution_count": 16,
   "id": "unknown-blink",
   "metadata": {},
   "outputs": [
    {
     "data": {
      "text/html": [
       "<table>\n",
       "<thead><tr><th></th><th scope=col>days</th><th scope=col>temp</th><th scope=col>rain</th></tr></thead>\n",
       "<tbody>\n",
       "\t<tr><th scope=row>2</th><td>tue  </td><td>21.0 </td><td> TRUE</td></tr>\n",
       "\t<tr><th scope=row>1</th><td>mon  </td><td>22.2 </td><td> TRUE</td></tr>\n",
       "\t<tr><th scope=row>3</th><td>wed  </td><td>23.0 </td><td>FALSE</td></tr>\n",
       "\t<tr><th scope=row>4</th><td>thu  </td><td>24.3 </td><td>FALSE</td></tr>\n",
       "\t<tr><th scope=row>5</th><td>fri  </td><td>25.0 </td><td> TRUE</td></tr>\n",
       "</tbody>\n",
       "</table>\n"
      ],
      "text/latex": [
       "\\begin{tabular}{r|lll}\n",
       "  & days & temp & rain\\\\\n",
       "\\hline\n",
       "\t2 & tue   & 21.0  &  TRUE\\\\\n",
       "\t1 & mon   & 22.2  &  TRUE\\\\\n",
       "\t3 & wed   & 23.0  & FALSE\\\\\n",
       "\t4 & thu   & 24.3  & FALSE\\\\\n",
       "\t5 & fri   & 25.0  &  TRUE\\\\\n",
       "\\end{tabular}\n"
      ],
      "text/markdown": [
       "\n",
       "| <!--/--> | days | temp | rain |\n",
       "|---|---|---|---|\n",
       "| 2 | tue   | 21.0  |  TRUE |\n",
       "| 1 | mon   | 22.2  |  TRUE |\n",
       "| 3 | wed   | 23.0  | FALSE |\n",
       "| 4 | thu   | 24.3  | FALSE |\n",
       "| 5 | fri   | 25.0  |  TRUE |\n",
       "\n"
      ],
      "text/plain": [
       "  days temp rain \n",
       "2 tue  21.0  TRUE\n",
       "1 mon  22.2  TRUE\n",
       "3 wed  23.0 FALSE\n",
       "4 thu  24.3 FALSE\n",
       "5 fri  25.0  TRUE"
      ]
     },
     "metadata": {},
     "output_type": "display_data"
    }
   ],
   "source": [
    "# We could have also used the other column selection methods we learned:\n",
    "sort.temp <- order(df$temp)\n",
    "df[sort.temp,]"
   ]
  }
 ],
 "metadata": {
  "kernelspec": {
   "display_name": "R",
   "language": "R",
   "name": "ir"
  },
  "language_info": {
   "codemirror_mode": "r",
   "file_extension": ".r",
   "mimetype": "text/x-r-source",
   "name": "R",
   "pygments_lexer": "r",
   "version": "3.6.1"
  }
 },
 "nbformat": 4,
 "nbformat_minor": 5
}
