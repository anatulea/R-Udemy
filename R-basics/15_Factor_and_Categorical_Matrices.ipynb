{
 "cells": [
  {
   "cell_type": "markdown",
   "id": "searching-building",
   "metadata": {},
   "source": [
    "# Factor and Categorical Matrices"
   ]
  },
  {
   "cell_type": "code",
   "execution_count": 1,
   "id": "agreed-korea",
   "metadata": {},
   "outputs": [],
   "source": [
    "# we will discuss the factor() function and its use for creating categorical matrices\n",
    "\n",
    "animal <- c('dog','cat','dog','cat','cat')\n",
    "id <- c(1,2,3,4,5)"
   ]
  },
  {
   "cell_type": "code",
   "execution_count": 2,
   "id": "patent-anatomy",
   "metadata": {},
   "outputs": [],
   "source": [
    "# We can pass the vector through the factor() function like so to get information:\n",
    "factor.ani <- factor(animal)"
   ]
  },
  {
   "cell_type": "code",
   "execution_count": 3,
   "id": "packed-fundamental",
   "metadata": {},
   "outputs": [
    {
     "data": {
      "text/html": [
       "<ol class=list-inline>\n",
       "\t<li>dog</li>\n",
       "\t<li>cat</li>\n",
       "\t<li>dog</li>\n",
       "\t<li>cat</li>\n",
       "\t<li>cat</li>\n",
       "</ol>\n",
       "\n",
       "<details>\n",
       "\t<summary style=display:list-item;cursor:pointer>\n",
       "\t\t<strong>Levels</strong>:\n",
       "\t</summary>\n",
       "\t<ol class=list-inline>\n",
       "\t\t<li>'cat'</li>\n",
       "\t\t<li>'dog'</li>\n",
       "\t</ol>\n",
       "</details>"
      ],
      "text/latex": [
       "\\begin{enumerate*}\n",
       "\\item dog\n",
       "\\item cat\n",
       "\\item dog\n",
       "\\item cat\n",
       "\\item cat\n",
       "\\end{enumerate*}\n",
       "\n",
       "\\emph{Levels}: \\begin{enumerate*}\n",
       "\\item 'cat'\n",
       "\\item 'dog'\n",
       "\\end{enumerate*}\n"
      ],
      "text/markdown": [
       "1. dog\n",
       "2. cat\n",
       "3. dog\n",
       "4. cat\n",
       "5. cat\n",
       "\n",
       "\n",
       "\n",
       "**Levels**: 1. 'cat'\n",
       "2. 'dog'\n",
       "\n",
       "\n"
      ],
      "text/plain": [
       "[1] dog cat dog cat cat\n",
       "Levels: cat dog"
      ]
     },
     "metadata": {},
     "output_type": "display_data"
    }
   ],
   "source": [
    "# Will show levels as well on RStudio or R Console\n",
    "factor.ani"
   ]
  },
  {
   "cell_type": "markdown",
   "id": "ultimate-pharmacy",
   "metadata": {},
   "source": [
    "We can see that we have two levels, 'd' and 'c'. In R there are two distinct types of categorical variables, a ordinal categorical variable and a nominal categorical variable .\n",
    "\n",
    "**Nominal categorical variables** don't have any order, such as dogs and cats (there is no order to them). Versus **Ordinal categorical variables** (as the name implies) do have an order. For example, if you had the vector:"
   ]
  },
  {
   "cell_type": "code",
   "execution_count": 4,
   "id": "miniature-studio",
   "metadata": {},
   "outputs": [],
   "source": [
    "ord.cat <- c('cold','med','hot')"
   ]
  },
  {
   "cell_type": "markdown",
   "id": "dietary-lotus",
   "metadata": {},
   "source": [
    "You could begin to assign in order to these variables, such as:\n",
    "\n",
    "cold < med < hot\n",
    "\n",
    "if you wanted to assign an order while using the **factor()** function, you can pass in the arguments **ordered=True** and the pass in the levels= and pass in a vector in the order you want the levels to be in. So for example:"
   ]
  },
  {
   "cell_type": "code",
   "execution_count": 5,
   "id": "processed-coffee",
   "metadata": {},
   "outputs": [
    {
     "data": {
      "text/html": [
       "<ol class=list-inline>\n",
       "\t<li>cold</li>\n",
       "\t<li>med</li>\n",
       "\t<li>cold</li>\n",
       "\t<li>med</li>\n",
       "\t<li>hot</li>\n",
       "\t<li>hot</li>\n",
       "\t<li>cold</li>\n",
       "</ol>\n",
       "\n",
       "<details>\n",
       "\t<summary style=display:list-item;cursor:pointer>\n",
       "\t\t<strong>Levels</strong>:\n",
       "\t</summary>\n",
       "\t<ol class=list-inline>\n",
       "\t\t<li>'cold'</li>\n",
       "\t\t<li>'med'</li>\n",
       "\t\t<li>'hot'</li>\n",
       "\t</ol>\n",
       "</details>"
      ],
      "text/latex": [
       "\\begin{enumerate*}\n",
       "\\item cold\n",
       "\\item med\n",
       "\\item cold\n",
       "\\item med\n",
       "\\item hot\n",
       "\\item hot\n",
       "\\item cold\n",
       "\\end{enumerate*}\n",
       "\n",
       "\\emph{Levels}: \\begin{enumerate*}\n",
       "\\item 'cold'\n",
       "\\item 'med'\n",
       "\\item 'hot'\n",
       "\\end{enumerate*}\n"
      ],
      "text/markdown": [
       "1. cold\n",
       "2. med\n",
       "3. cold\n",
       "4. med\n",
       "5. hot\n",
       "6. hot\n",
       "7. cold\n",
       "\n",
       "\n",
       "\n",
       "**Levels**: 1. 'cold'\n",
       "2. 'med'\n",
       "3. 'hot'\n",
       "\n",
       "\n"
      ],
      "text/plain": [
       "[1] cold med  cold med  hot  hot  cold\n",
       "Levels: cold < med < hot"
      ]
     },
     "metadata": {},
     "output_type": "display_data"
    }
   ],
   "source": [
    "temps <- c('cold','med','cold','med','hot','hot','cold')\n",
    "fact.temp <- factor(temps,ordered=TRUE,levels=c('cold','med','hot'))\n",
    "fact.temp"
   ]
  },
  {
   "cell_type": "code",
   "execution_count": 6,
   "id": "genetic-chance",
   "metadata": {},
   "outputs": [
    {
     "data": {
      "text/plain": [
       "   Length     Class      Mode \n",
       "        7 character character "
      ]
     },
     "metadata": {},
     "output_type": "display_data"
    }
   ],
   "source": [
    "summary(temps)"
   ]
  },
  {
   "cell_type": "code",
   "execution_count": 7,
   "id": "upset-liver",
   "metadata": {},
   "outputs": [
    {
     "data": {
      "text/html": [
       "<dl class=dl-horizontal>\n",
       "\t<dt>cold</dt>\n",
       "\t\t<dd>3</dd>\n",
       "\t<dt>med</dt>\n",
       "\t\t<dd>2</dd>\n",
       "\t<dt>hot</dt>\n",
       "\t\t<dd>2</dd>\n",
       "</dl>\n"
      ],
      "text/latex": [
       "\\begin{description*}\n",
       "\\item[cold] 3\n",
       "\\item[med] 2\n",
       "\\item[hot] 2\n",
       "\\end{description*}\n"
      ],
      "text/markdown": [
       "cold\n",
       ":   3med\n",
       ":   2hot\n",
       ":   2\n",
       "\n"
      ],
      "text/plain": [
       "cold  med  hot \n",
       "   3    2    2 "
      ]
     },
     "metadata": {},
     "output_type": "display_data"
    }
   ],
   "source": [
    "summary(fact.temp)"
   ]
  }
 ],
 "metadata": {
  "kernelspec": {
   "display_name": "R",
   "language": "R",
   "name": "ir"
  },
  "language_info": {
   "codemirror_mode": "r",
   "file_extension": ".r",
   "mimetype": "text/x-r-source",
   "name": "R",
   "pygments_lexer": "r",
   "version": "3.6.1"
  }
 },
 "nbformat": 4,
 "nbformat_minor": 5
}
