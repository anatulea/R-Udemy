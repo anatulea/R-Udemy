{
 "cells": [
  {
   "cell_type": "markdown",
   "id": "false-interstate",
   "metadata": {},
   "source": [
    "The RODBC library is one way of connecting to databases. Regardless of what you decide to use, I highly recommend a google search consisting of your database of choice + R. Here's an example use of RODBC\n",
    "\n"
   ]
  },
  {
   "cell_type": "code",
   "execution_count": null,
   "id": "julian-jungle",
   "metadata": {},
   "outputs": [],
   "source": [
    "install.packages(\"RODBC\") \n",
    "# RODBC Example of syntax\n",
    "library(RODBC)\n",
    "\n",
    "myconn <-odbcConnect(\"Database_Name\", uid=\"User_ID\", pwd=\"password\")\n",
    "dat <- sqlFetch(myconn, \"Table_Name\")\n",
    "querydat <- sqlQuery(myconn, \"SELECT * FROM table\")\n",
    "close(myconn)"
   ]
  }
 ],
 "metadata": {
  "kernelspec": {
   "display_name": "R",
   "language": "R",
   "name": "ir"
  },
  "language_info": {
   "codemirror_mode": "r",
   "file_extension": ".r",
   "mimetype": "text/x-r-source",
   "name": "R",
   "pygments_lexer": "r",
   "version": "3.6.1"
  }
 },
 "nbformat": 4,
 "nbformat_minor": 5
}
