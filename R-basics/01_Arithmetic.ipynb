{
 "cells": [
  {
   "cell_type": "markdown",
   "id": "gothic-wednesday",
   "metadata": {},
   "source": [
    "# Arithmetic with R"
   ]
  },
  {
   "cell_type": "markdown",
   "id": "sitting-corpus",
   "metadata": {},
   "source": [
    "Addition"
   ]
  },
  {
   "cell_type": "code",
   "execution_count": 2,
   "id": "biblical-advice",
   "metadata": {},
   "outputs": [
    {
     "data": {
      "text/html": [
       "5"
      ],
      "text/latex": [
       "5"
      ],
      "text/markdown": [
       "5"
      ],
      "text/plain": [
       "[1] 5"
      ]
     },
     "metadata": {},
     "output_type": "display_data"
    }
   ],
   "source": [
    "2+3"
   ]
  },
  {
   "cell_type": "markdown",
   "id": "running-treaty",
   "metadata": {},
   "source": [
    "Subtraction"
   ]
  },
  {
   "cell_type": "code",
   "execution_count": 3,
   "id": "herbal-broad",
   "metadata": {},
   "outputs": [
    {
     "data": {
      "text/html": [
       "1"
      ],
      "text/latex": [
       "1"
      ],
      "text/markdown": [
       "1"
      ],
      "text/plain": [
       "[1] 1"
      ]
     },
     "metadata": {},
     "output_type": "display_data"
    }
   ],
   "source": [
    "4-3"
   ]
  },
  {
   "cell_type": "markdown",
   "id": "eight-array",
   "metadata": {},
   "source": [
    "Division"
   ]
  },
  {
   "cell_type": "code",
   "execution_count": 4,
   "id": "common-revolution",
   "metadata": {},
   "outputs": [
    {
     "data": {
      "text/html": [
       "5"
      ],
      "text/latex": [
       "5"
      ],
      "text/markdown": [
       "5"
      ],
      "text/plain": [
       "[1] 5"
      ]
     },
     "metadata": {},
     "output_type": "display_data"
    }
   ],
   "source": [
    "20/4"
   ]
  },
  {
   "cell_type": "markdown",
   "id": "toxic-question",
   "metadata": {},
   "source": [
    "Exponents"
   ]
  },
  {
   "cell_type": "code",
   "execution_count": 5,
   "id": "bridal-million",
   "metadata": {},
   "outputs": [
    {
     "data": {
      "text/html": [
       "9"
      ],
      "text/latex": [
       "9"
      ],
      "text/markdown": [
       "9"
      ],
      "text/plain": [
       "[1] 9"
      ]
     },
     "metadata": {},
     "output_type": "display_data"
    }
   ],
   "source": [
    "3^2"
   ]
  },
  {
   "cell_type": "markdown",
   "id": "stock-fisher",
   "metadata": {},
   "source": [
    "Modulo"
   ]
  },
  {
   "cell_type": "code",
   "execution_count": 6,
   "id": "liked-domain",
   "metadata": {},
   "outputs": [
    {
     "data": {
      "text/html": [
       "1"
      ],
      "text/latex": [
       "1"
      ],
      "text/markdown": [
       "1"
      ],
      "text/plain": [
       "[1] 1"
      ]
     },
     "metadata": {},
     "output_type": "display_data"
    }
   ],
   "source": [
    "5%%2"
   ]
  },
  {
   "cell_type": "markdown",
   "id": "parliamentary-rolling",
   "metadata": {},
   "source": [
    "Order of operations"
   ]
  },
  {
   "cell_type": "code",
   "execution_count": 7,
   "id": "involved-opposition",
   "metadata": {},
   "outputs": [
    {
     "data": {
      "text/html": [
       "225"
      ],
      "text/latex": [
       "225"
      ],
      "text/markdown": [
       "225"
      ],
      "text/plain": [
       "[1] 225"
      ]
     },
     "metadata": {},
     "output_type": "display_data"
    }
   ],
   "source": [
    "(100 * 2) + (50 / 2)"
   ]
  },
  {
   "cell_type": "code",
   "execution_count": null,
   "id": "broadband-tracker",
   "metadata": {},
   "outputs": [],
   "source": []
  }
 ],
 "metadata": {
  "kernelspec": {
   "display_name": "R",
   "language": "R",
   "name": "ir"
  },
  "language_info": {
   "codemirror_mode": "r",
   "file_extension": ".r",
   "mimetype": "text/x-r-source",
   "name": "R",
   "pygments_lexer": "r",
   "version": "3.6.1"
  }
 },
 "nbformat": 4,
 "nbformat_minor": 5
}
