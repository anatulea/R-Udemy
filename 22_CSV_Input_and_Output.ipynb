{
 "cells": [
  {
   "cell_type": "markdown",
   "id": "vertical-replica",
   "metadata": {},
   "source": [
    "# CSV Input and Output"
   ]
  },
  {
   "cell_type": "markdown",
   "id": "miniature-cricket",
   "metadata": {},
   "source": [
    "CSV stands for comma separated variable and its one of the most common ways we'll be working with data throughout this course. The basic format of a csv file is the first line indicating the column names and the rest of the rows/lines being data points separated by commas. One of the most basic ways to read in csv files in R is to use **read.csv()** which is built-in to R. Later on we'll learn about **fread** which will be a bit faster and more convenient, but its important to understand all your options!\n",
    "\n",
    "When using **read.csv()** you'll need to either pass in the entire path of the file or have the file be in the same directory as your R script. Make sure to account for possible spaces in the file path name, you may need to use backslashes to account for this. This is often a point of confusion for people new to programming, so make sure you understand the above before continuing!"
   ]
  },
  {
   "cell_type": "code",
   "execution_count": 5,
   "id": "everyday-university",
   "metadata": {},
   "outputs": [
    {
     "data": {
      "text/html": [
       "<table>\n",
       "<thead><tr><th scope=col>Name</th><th scope=col>Orders</th><th scope=col>Date</th></tr></thead>\n",
       "<tbody>\n",
       "\t<tr><td>John      </td><td>12        </td><td>12/05/2016</td></tr>\n",
       "\t<tr><td>Charlie   </td><td>11        </td><td>12/06/2016</td></tr>\n",
       "\t<tr><td>Matilda   </td><td>10        </td><td>12/07/2016</td></tr>\n",
       "</tbody>\n",
       "</table>\n"
      ],
      "text/latex": [
       "\\begin{tabular}{r|lll}\n",
       " Name & Orders & Date\\\\\n",
       "\\hline\n",
       "\t John       & 12         & 12/05/2016\\\\\n",
       "\t Charlie    & 11         & 12/06/2016\\\\\n",
       "\t Matilda    & 10         & 12/07/2016\\\\\n",
       "\\end{tabular}\n"
      ],
      "text/markdown": [
       "\n",
       "| Name | Orders | Date |\n",
       "|---|---|---|\n",
       "| John       | 12         | 12/05/2016 |\n",
       "| Charlie    | 11         | 12/06/2016 |\n",
       "| Matilda    | 10         | 12/07/2016 |\n",
       "\n"
      ],
      "text/plain": [
       "  Name    Orders Date      \n",
       "1 John    12     12/05/2016\n",
       "2 Charlie 11     12/06/2016\n",
       "3 Matilda 10     12/07/2016"
      ]
     },
     "metadata": {},
     "output_type": "display_data"
    }
   ],
   "source": [
    "# Pass in the entire file path if not in same directory\n",
    "ex <- read.csv('./CSV/example.csv')\n",
    "ex"
   ]
  },
  {
   "cell_type": "code",
   "execution_count": 6,
   "id": "worldwide-organic",
   "metadata": {},
   "outputs": [
    {
     "name": "stdout",
     "output_type": "stream",
     "text": [
      "'data.frame':\t3 obs. of  3 variables:\n",
      " $ Name  : Factor w/ 3 levels \"Charlie\",\"John\",..: 2 1 3\n",
      " $ Orders: int  12 11 10\n",
      " $ Date  : Factor w/ 3 levels \"12/05/2016\",\"12/06/2016\",..: 1 2 3\n"
     ]
    }
   ],
   "source": [
    "# Check structure\n",
    "str(ex)"
   ]
  },
  {
   "cell_type": "code",
   "execution_count": 7,
   "id": "heavy-slave",
   "metadata": {},
   "outputs": [
    {
     "data": {
      "text/html": [
       "<ol class=list-inline>\n",
       "\t<li>'Name'</li>\n",
       "\t<li>'Orders'</li>\n",
       "\t<li>'Date'</li>\n",
       "</ol>\n"
      ],
      "text/latex": [
       "\\begin{enumerate*}\n",
       "\\item 'Name'\n",
       "\\item 'Orders'\n",
       "\\item 'Date'\n",
       "\\end{enumerate*}\n"
      ],
      "text/markdown": [
       "1. 'Name'\n",
       "2. 'Orders'\n",
       "3. 'Date'\n",
       "\n",
       "\n"
      ],
      "text/plain": [
       "[1] \"Name\"   \"Orders\" \"Date\"  "
      ]
     },
     "metadata": {},
     "output_type": "display_data"
    }
   ],
   "source": [
    "# Check column names\n",
    "colnames(ex)"
   ]
  },
  {
   "cell_type": "code",
   "execution_count": 8,
   "id": "explicit-builder",
   "metadata": {},
   "outputs": [],
   "source": [
    "# create a sample csv file\n",
    "write.csv(mtcars, file = './CSV/mtcars.csv' )"
   ]
  },
  {
   "cell_type": "code",
   "execution_count": 11,
   "id": "fossil-morrison",
   "metadata": {},
   "outputs": [
    {
     "data": {
      "text/html": [
       "<table>\n",
       "<thead><tr><th scope=col>X</th><th scope=col>mpg</th><th scope=col>cyl</th><th scope=col>disp</th><th scope=col>hp</th><th scope=col>drat</th><th scope=col>wt</th><th scope=col>qsec</th><th scope=col>vs</th><th scope=col>am</th><th scope=col>gear</th><th scope=col>carb</th></tr></thead>\n",
       "<tbody>\n",
       "\t<tr><td>Mazda RX4        </td><td>21.0             </td><td>6                </td><td>160              </td><td>110              </td><td>3.90             </td><td>2.620            </td><td>16.46            </td><td>0                </td><td>1                </td><td>4                </td><td>4                </td></tr>\n",
       "\t<tr><td>Mazda RX4 Wag    </td><td>21.0             </td><td>6                </td><td>160              </td><td>110              </td><td>3.90             </td><td>2.875            </td><td>17.02            </td><td>0                </td><td>1                </td><td>4                </td><td>4                </td></tr>\n",
       "\t<tr><td>Datsun 710       </td><td>22.8             </td><td>4                </td><td>108              </td><td> 93              </td><td>3.85             </td><td>2.320            </td><td>18.61            </td><td>1                </td><td>1                </td><td>4                </td><td>1                </td></tr>\n",
       "\t<tr><td>Hornet 4 Drive   </td><td>21.4             </td><td>6                </td><td>258              </td><td>110              </td><td>3.08             </td><td>3.215            </td><td>19.44            </td><td>1                </td><td>0                </td><td>3                </td><td>1                </td></tr>\n",
       "\t<tr><td>Hornet Sportabout</td><td>18.7             </td><td>8                </td><td>360              </td><td>175              </td><td>3.15             </td><td>3.440            </td><td>17.02            </td><td>0                </td><td>0                </td><td>3                </td><td>2                </td></tr>\n",
       "\t<tr><td>Valiant          </td><td>18.1             </td><td>6                </td><td>225              </td><td>105              </td><td>2.76             </td><td>3.460            </td><td>20.22            </td><td>1                </td><td>0                </td><td>3                </td><td>1                </td></tr>\n",
       "</tbody>\n",
       "</table>\n"
      ],
      "text/latex": [
       "\\begin{tabular}{r|llllllllllll}\n",
       " X & mpg & cyl & disp & hp & drat & wt & qsec & vs & am & gear & carb\\\\\n",
       "\\hline\n",
       "\t Mazda RX4         & 21.0              & 6                 & 160               & 110               & 3.90              & 2.620             & 16.46             & 0                 & 1                 & 4                 & 4                \\\\\n",
       "\t Mazda RX4 Wag     & 21.0              & 6                 & 160               & 110               & 3.90              & 2.875             & 17.02             & 0                 & 1                 & 4                 & 4                \\\\\n",
       "\t Datsun 710        & 22.8              & 4                 & 108               &  93               & 3.85              & 2.320             & 18.61             & 1                 & 1                 & 4                 & 1                \\\\\n",
       "\t Hornet 4 Drive    & 21.4              & 6                 & 258               & 110               & 3.08              & 3.215             & 19.44             & 1                 & 0                 & 3                 & 1                \\\\\n",
       "\t Hornet Sportabout & 18.7              & 8                 & 360               & 175               & 3.15              & 3.440             & 17.02             & 0                 & 0                 & 3                 & 2                \\\\\n",
       "\t Valiant           & 18.1              & 6                 & 225               & 105               & 2.76              & 3.460             & 20.22             & 1                 & 0                 & 3                 & 1                \\\\\n",
       "\\end{tabular}\n"
      ],
      "text/markdown": [
       "\n",
       "| X | mpg | cyl | disp | hp | drat | wt | qsec | vs | am | gear | carb |\n",
       "|---|---|---|---|---|---|---|---|---|---|---|---|\n",
       "| Mazda RX4         | 21.0              | 6                 | 160               | 110               | 3.90              | 2.620             | 16.46             | 0                 | 1                 | 4                 | 4                 |\n",
       "| Mazda RX4 Wag     | 21.0              | 6                 | 160               | 110               | 3.90              | 2.875             | 17.02             | 0                 | 1                 | 4                 | 4                 |\n",
       "| Datsun 710        | 22.8              | 4                 | 108               |  93               | 3.85              | 2.320             | 18.61             | 1                 | 1                 | 4                 | 1                 |\n",
       "| Hornet 4 Drive    | 21.4              | 6                 | 258               | 110               | 3.08              | 3.215             | 19.44             | 1                 | 0                 | 3                 | 1                 |\n",
       "| Hornet Sportabout | 18.7              | 8                 | 360               | 175               | 3.15              | 3.440             | 17.02             | 0                 | 0                 | 3                 | 2                 |\n",
       "| Valiant           | 18.1              | 6                 | 225               | 105               | 2.76              | 3.460             | 20.22             | 1                 | 0                 | 3                 | 1                 |\n",
       "\n"
      ],
      "text/plain": [
       "  X                 mpg  cyl disp hp  drat wt    qsec  vs am gear carb\n",
       "1 Mazda RX4         21.0 6   160  110 3.90 2.620 16.46 0  1  4    4   \n",
       "2 Mazda RX4 Wag     21.0 6   160  110 3.90 2.875 17.02 0  1  4    4   \n",
       "3 Datsun 710        22.8 4   108   93 3.85 2.320 18.61 1  1  4    1   \n",
       "4 Hornet 4 Drive    21.4 6   258  110 3.08 3.215 19.44 1  0  3    1   \n",
       "5 Hornet Sportabout 18.7 8   360  175 3.15 3.440 17.02 0  0  3    2   \n",
       "6 Valiant           18.1 6   225  105 2.76 3.460 20.22 1  0  3    1   "
      ]
     },
     "metadata": {},
     "output_type": "display_data"
    }
   ],
   "source": [
    "mtcarsdf <- read.csv('./CSV/mtcars.csv')\n",
    "head(mtcarsdf)"
   ]
  },
  {
   "cell_type": "markdown",
   "id": "simplified-architecture",
   "metadata": {},
   "source": [
    "## read.table"
   ]
  },
  {
   "cell_type": "code",
   "execution_count": 13,
   "id": "integral-louisiana",
   "metadata": {},
   "outputs": [
    {
     "data": {
      "text/html": [
       "<table>\n",
       "<thead><tr><th scope=col>V1</th></tr></thead>\n",
       "<tbody>\n",
       "\t<tr><td>Name,Orders,Date     </td></tr>\n",
       "\t<tr><td>John,12,12/05/2016   </td></tr>\n",
       "\t<tr><td>Charlie,11,12/06/2016</td></tr>\n",
       "\t<tr><td>Matilda,10,12/07/2016</td></tr>\n",
       "</tbody>\n",
       "</table>\n"
      ],
      "text/latex": [
       "\\begin{tabular}{r|l}\n",
       " V1\\\\\n",
       "\\hline\n",
       "\t Name,Orders,Date     \\\\\n",
       "\t John,12,12/05/2016   \\\\\n",
       "\t Charlie,11,12/06/2016\\\\\n",
       "\t Matilda,10,12/07/2016\\\\\n",
       "\\end{tabular}\n"
      ],
      "text/markdown": [
       "\n",
       "| V1 |\n",
       "|---|\n",
       "| Name,Orders,Date      |\n",
       "| John,12,12/05/2016    |\n",
       "| Charlie,11,12/06/2016 |\n",
       "| Matilda,10,12/07/2016 |\n",
       "\n"
      ],
      "text/plain": [
       "  V1                   \n",
       "1 Name,Orders,Date     \n",
       "2 John,12,12/05/2016   \n",
       "3 Charlie,11,12/06/2016\n",
       "4 Matilda,10,12/07/2016"
      ]
     },
     "metadata": {},
     "output_type": "display_data"
    }
   ],
   "source": [
    "# The read.table function is the general \n",
    "# form of read.csv, in fact read.csv is actually just a thin wrapper \n",
    "# around read.table which just makes it easier to use sometimes. \n",
    "read.table('./CSV/example.csv')"
   ]
  },
  {
   "cell_type": "code",
   "execution_count": 14,
   "id": "threaded-round",
   "metadata": {},
   "outputs": [
    {
     "data": {
      "text/html": [
       "<table>\n",
       "<thead><tr><th scope=col>V1</th><th scope=col>V2</th><th scope=col>V3</th></tr></thead>\n",
       "<tbody>\n",
       "\t<tr><td>Name      </td><td>Orders    </td><td>Date      </td></tr>\n",
       "\t<tr><td>John      </td><td>12        </td><td>12/05/2016</td></tr>\n",
       "\t<tr><td>Charlie   </td><td>11        </td><td>12/06/2016</td></tr>\n",
       "\t<tr><td>Matilda   </td><td>10        </td><td>12/07/2016</td></tr>\n",
       "</tbody>\n",
       "</table>\n"
      ],
      "text/latex": [
       "\\begin{tabular}{r|lll}\n",
       " V1 & V2 & V3\\\\\n",
       "\\hline\n",
       "\t Name       & Orders     & Date      \\\\\n",
       "\t John       & 12         & 12/05/2016\\\\\n",
       "\t Charlie    & 11         & 12/06/2016\\\\\n",
       "\t Matilda    & 10         & 12/07/2016\\\\\n",
       "\\end{tabular}\n"
      ],
      "text/markdown": [
       "\n",
       "| V1 | V2 | V3 |\n",
       "|---|---|---|\n",
       "| Name       | Orders     | Date       |\n",
       "| John       | 12         | 12/05/2016 |\n",
       "| Charlie    | 11         | 12/06/2016 |\n",
       "| Matilda    | 10         | 12/07/2016 |\n",
       "\n"
      ],
      "text/plain": [
       "  V1      V2     V3        \n",
       "1 Name    Orders Date      \n",
       "2 John    12     12/05/2016\n",
       "3 Charlie 11     12/06/2016\n",
       "4 Matilda 10     12/07/2016"
      ]
     },
     "metadata": {},
     "output_type": "display_data"
    }
   ],
   "source": [
    "# Notice how we get an error here! \n",
    "# That means we need to add additional arguments to read.table, \n",
    "# like what the delimiter (sep) is:\n",
    "read.table('./CSV/example.csv', sep = ',')"
   ]
  },
  {
   "cell_type": "markdown",
   "id": "metric-crystal",
   "metadata": {},
   "source": [
    "## fread"
   ]
  },
  {
   "cell_type": "markdown",
   "id": "difficult-extra",
   "metadata": {},
   "source": [
    "**fread()** is similar to **read.table** but faster and more convenient:"
   ]
  },
  {
   "cell_type": "code",
   "execution_count": null,
   "id": "original-kenya",
   "metadata": {},
   "outputs": [],
   "source": [
    "fread('./CSV/example.csv')"
   ]
  }
 ],
 "metadata": {
  "kernelspec": {
   "display_name": "R",
   "language": "R",
   "name": "ir"
  },
  "language_info": {
   "codemirror_mode": "r",
   "file_extension": ".r",
   "mimetype": "text/x-r-source",
   "name": "R",
   "pygments_lexer": "r",
   "version": "3.6.1"
  }
 },
 "nbformat": 4,
 "nbformat_minor": 5
}
